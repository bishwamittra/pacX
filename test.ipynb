{
 "cells": [
  {
   "cell_type": "code",
   "execution_count": 60,
   "metadata": {
    "tags": []
   },
   "outputs": [
    {
     "output_type": "stream",
     "name": "stdout",
     "text": "The autoreload extension is already loaded. To reload it, use:\n  %reload_ext autoreload\n"
    }
   ],
   "source": [
    "%load_ext autoreload\n",
    "%autoreload 2\n",
    "from sklearn import datasets\n",
    "import numpy as np\n",
    "import pandas as pd\n",
    "from sklearn.model_selection import train_test_split\n",
    "from lark import Lark\n",
    "import time "
   ]
  },
  {
   "cell_type": "code",
   "execution_count": 61,
   "metadata": {},
   "outputs": [],
   "source": [
    "def sklearn_to_df(sklearn_dataset):\n",
    "    \"\"\" \n",
    "    Convert sklearn dataset to a dataframe, the class-label is renamed to \"target\"\n",
    "    \"\"\"\n",
    "    df = pd.DataFrame(sklearn_dataset.data, columns=sklearn_dataset.feature_names)\n",
    "    df['target'] = pd.Series(sklearn_dataset.target)\n",
    "    return df"
   ]
  },
  {
   "cell_type": "code",
   "execution_count": 62,
   "metadata": {},
   "outputs": [],
   "source": [
    "target = \"target\"\n",
    "dataset = datasets.load_iris()\n",
    "dataset[target] = np.where(dataset[target]==2, 0, dataset[target])"
   ]
  },
  {
   "cell_type": "code",
   "execution_count": 63,
   "metadata": {},
   "outputs": [],
   "source": [
    "# get df\n",
    "data = sklearn_to_df(dataset)\n",
    "\n",
    "# get X,y\n",
    "X = data.drop(['target'], axis=1)\n",
    "y = data['target']\n",
    "\n",
    "X.columns = ['sepal length', 'sepal width', 'petal length', 'petal width']\n",
    "\n",
    "\n",
    "# Split dataset into training set and test set\n",
    "X_train, X_test, y_train, y_test = train_test_split(X, y, test_size=0.1) # 70% training and 30% test"
   ]
  },
  {
   "cell_type": "code",
   "execution_count": 64,
   "metadata": {},
   "outputs": [],
   "source": [
    "from sklearn.ensemble import RandomForestClassifier\n",
    "from sklearn.neural_network import MLPClassifier\n",
    "\n",
    "clf_rf=RandomForestClassifier(n_estimators=100)\n",
    "clf_mlp = MLPClassifier(random_state=1, max_iter=300).fit(X_train, y_train)\n",
    "\n",
    "clf_rf.fit(X_train,y_train)\n",
    "clf_mlp.fit(X_train,y_train)\n",
    "\n",
    "y_pred=clf_mlp.predict(X_test)"
   ]
  },
  {
   "cell_type": "code",
   "execution_count": 65,
   "metadata": {
    "tags": []
   },
   "outputs": [
    {
     "output_type": "stream",
     "name": "stdout",
     "text": "Accuracy: 1.0\n"
    }
   ],
   "source": [
    "#Import scikit-learn metrics module for accuracy calculation\n",
    "from sklearn import metrics\n",
    "# Model Accuracy, how often is the classifier correct?\n",
    "print(\"Accuracy:\",metrics.accuracy_score(y_test, y_pred))"
   ]
  },
  {
   "cell_type": "code",
   "execution_count": 66,
   "metadata": {
    "tags": []
   },
   "outputs": [
    {
     "output_type": "stream",
     "name": "stdout",
     "text": "[0]\n[0]\n"
    }
   ],
   "source": [
    "print(clf_rf.predict([[3, 5, 4, 2]]))\n",
    "print(clf_mlp.predict([[3, 5, 4, 2]]))"
   ]
  },
  {
   "cell_type": "code",
   "execution_count": 67,
   "metadata": {},
   "outputs": [],
   "source": [
    "# create a random generator\n",
    "import random\n",
    "def random_generator(X):\n",
    "    num_attributes = len(X.columns)\n",
    "    x=[]\n",
    "    for i in range(num_attributes):\n",
    "        x.append(random.uniform(X[X.columns[i]].min(),X[X.columns[i]].max()))\n",
    "    return x\n",
    "\n"
   ]
  },
  {
   "cell_type": "code",
   "execution_count": 68,
   "metadata": {
    "tags": []
   },
   "outputs": [
    {
     "output_type": "stream",
     "name": "stdout",
     "text": "[7.278866599069033, 2.6018796609180237, 4.1881701435908445, 0.4453968444750017]\n[0]\n[1]\n[5.550811372493768, 3.5010769654736995, 2.8244705860256785, 0.7154328970940397]\n[1]\n[0]\n[5.1928241823214405, 3.6097973368097476, 1.4164975931638688, 0.7047695757419707]\n[0]\n[0]\n[7.778443081088669, 3.7089819330652967, 2.266293241186951, 2.3817767255480584]\n[0]\n[0]\n[6.259626150227698, 2.5034751671186077, 6.321623029918204, 1.0926429300918863]\n[0]\n[0]\n"
    }
   ],
   "source": [
    "for i in range(5):\n",
    "    x = random_generator(X)\n",
    "    print(x)\n",
    "    print(clf_rf.predict([x]))\n",
    "    print(clf_mlp.predict([x]))"
   ]
  },
  {
   "cell_type": "code",
   "execution_count": 69,
   "metadata": {},
   "outputs": [],
   "source": [
    "from blackbox import BlackBox\n",
    "bb = BlackBox(clf_mlp, clf_mlp.predict)"
   ]
  },
  {
   "cell_type": "code",
   "execution_count": 70,
   "metadata": {
    "tags": []
   },
   "outputs": [
    {
     "output_type": "execute_result",
     "data": {
      "text/plain": "0"
     },
     "metadata": {},
     "execution_count": 70
    }
   ],
   "source": [
    "bb.classify_example([3, 5, 4, 2])"
   ]
  },
  {
   "cell_type": "code",
   "execution_count": 71,
   "metadata": {
    "tags": []
   },
   "outputs": [],
   "source": [
    "from sygus_if import SyGuS_IF\n",
    "X = [\n",
    "    [1,2,1,1],\n",
    "    [-1.1,1,1,42]\n",
    "]\n",
    "y = [\n",
    "    1,\n",
    "    0\n",
    "]"
   ]
  },
  {
   "cell_type": "code",
   "execution_count": 72,
   "metadata": {
    "tags": []
   },
   "outputs": [
    {
     "output_type": "stream",
     "name": "stdout",
     "text": "(define-fun func ((sepal_length Real) (sepal_width Real) (petal_length Real) (petal_width Real)) Real (ite (>= petal_length 2) (ite (> sepal_width 2) (ite (not (= petal_width 2)) (ite (> petal_length 1) (ite (<= sepal_width 4) (ite (< sepal_width 4) (ite (>= sepal_width (/ 5 2)) (ite (> sepal_width (/ 5 2)) (ite (>= petal_length (/ 4 3)) (ite (>= petal_length (/ 3 2)) (ite (> petal_length (/ 3 2)) (ite (<= sepal_width 3) (ite (<= petal_width 2) (ite (<= petal_length 6) (ite (<= petal_length 5) (ite (< petal_length 5) (ite (< sepal_width 3) (ite (<= sepal_length 6) (ite (< sepal_length 6) (ite (<= petal_length 4) (ite (< petal_length 4) (ite (> petal_width 1) 1 petal_width) (* (/ 1 4) petal_length)) (ite (<= petal_width 1) petal_width (ite (>= petal_length 5) 0 1))) 1) (ite (<= petal_length 4) (* (/ 1 4) petal_length) (ite (>= petal_width (/ 3 2)) (ite (= petal_width (/ 3 2)) (- petal_width (/ 1 2)) 0) 1))) (ite (> sepal_length 5) (ite (<= sepal_length 6) (ite (< sepal_length 6) (- sepal_width 2) 0) (ite (>= petal_width (/ 3 2)) 0 (- sepal_width 2))) 0)) (- sepal_width 2)) (ite (< sepal_width 3) (ite (<= sepal_length 6) (ite (< sepal_length 6) (ite (<= petal_length 4) (ite (< petal_length 4) (ite (> petal_width 1) 1 petal_width) (* (/ 1 4) petal_length)) (ite (<= petal_width 1) petal_width (ite (>= petal_length 5) 0 1))) 1) 0) (ite (<= sepal_length 6) 0 0))) 0) 0) (ite (>= sepal_length 5) (ite (<= petal_width 2) (ite (< petal_length 6) (ite (<= petal_length 5) (ite (> sepal_length 5) (ite (>= petal_width (/ 1 3)) (ite (>= petal_width (/ 1 2)) (ite (<= sepal_length 6) (ite (< sepal_length 6) 1 1) (ite (>= petal_width (/ 3 2)) (ite (= petal_width (/ 3 2)) (- petal_width (/ 1 2)) 1) 1)) 0) 0) 0) 0) 0) 0) 0)) 0) 0) 0) (ite (>= sepal_length 5) (ite (<= petal_length 5) (ite (< petal_length 5) (ite (> petal_length 3) (ite (<= sepal_length 6) 1 (- petal_width (/ 1 2))) (- petal_length 2)) (ite (>= sepal_width (/ 5 2)) (ite (> sepal_width (/ 5 2)) (- sepal_width 2) 0) 0)) 0) 0)) (ite (>= petal_length (/ 4 3)) (ite (< petal_length 5) (ite (> sepal_length 5) (ite (<= sepal_length 6) (ite (<= petal_width 1) petal_width 1) 1) petal_width) (ite (>= sepal_width (/ 5 2)) (ite (> sepal_width (/ 5 2)) (- sepal_width 2) 0) 0)) 0)) 0) 0) (- petal_length 1)) (- petal_width 2)) petal_width) 0))\n"
    }
   ],
   "source": [
    "sgf = SyGuS_IF()\n",
    "# sgf.fit(X,y)\n",
    "sgf.fit(X_train,y_train)\n",
    "print(sgf.synthesized_function)"
   ]
  },
  {
   "cell_type": "code",
   "execution_count": 73,
   "metadata": {
    "tags": []
   },
   "outputs": [
    {
     "output_type": "stream",
     "name": "stdout",
     "text": "Accuracy: 1.0\nAccuracy: 1.0\n2.282406806945801\n"
    }
   ],
   "source": [
    "start_ = time.time()\n",
    "\n",
    "\n",
    "\n",
    "y_pred_test = sgf.predict_z3(X_test)\n",
    "print(\"Accuracy:\",metrics.accuracy_score(y_test, y_pred_test))\n",
    "y_pred_train = sgf.predict_z3(X_train)\n",
    "print(\"Accuracy:\",metrics.accuracy_score(y_train, y_pred_train))\n",
    "\n",
    "print(time.time() - start_)"
   ]
  },
  {
   "cell_type": "code",
   "execution_count": 74,
   "metadata": {
    "tags": []
   },
   "outputs": [
    {
     "output_type": "stream",
     "name": "stdout",
     "text": "Accuracy: 1.0\nAccuracy: 1.0\n3.8154234886169434\n"
    }
   ],
   "source": [
    "\n",
    "\n",
    "start_ = time.time()\n",
    "\n",
    "y_pred_test = sgf.predict(X_test, y_test)\n",
    "print(\"Accuracy:\",metrics.accuracy_score(y_test, y_pred_test))\n",
    "y_pred_train = sgf.predict(X_train, y_train)\n",
    "print(\"Accuracy:\",metrics.accuracy_score(y_train, y_pred_train))\n",
    "\n",
    "print(time.time() - start_)"
   ]
  }
 ],
 "metadata": {
  "language_info": {
   "codemirror_mode": {
    "name": "ipython",
    "version": 3
   },
   "file_extension": ".py",
   "mimetype": "text/x-python",
   "name": "python",
   "nbconvert_exporter": "python",
   "pygments_lexer": "ipython3",
   "version": "3.6.10-final"
  },
  "orig_nbformat": 2,
  "kernelspec": {
   "name": "python_defaultSpec_1595024891159",
   "display_name": "Python 3.6.10 64-bit ('base': conda)"
  }
 },
 "nbformat": 4,
 "nbformat_minor": 2
}