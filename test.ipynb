{
 "cells": [
  {
   "cell_type": "code",
   "execution_count": 1,
   "metadata": {
    "tags": []
   },
   "outputs": [
    {
     "output_type": "display_data",
     "data": {
      "text/plain": "<IPython.core.display.Markdown object>",
      "text/markdown": "# Prepare dataset"
     },
     "metadata": {}
    }
   ],
   "source": [
    "%load_ext autoreload\n",
    "%autoreload 2\n",
    "from sklearn import datasets\n",
    "import numpy as np\n",
    "import pandas as pd\n",
    "from sklearn.model_selection import train_test_split\n",
    "from lark import Lark\n",
    "import time \n",
    "from sklearn.preprocessing import MinMaxScaler\n",
    "from sklearn import metrics\n",
    "from IPython.display import Markdown, display\n",
    "display(Markdown(\"# Prepare dataset\"))"
   ]
  },
  {
   "cell_type": "code",
   "execution_count": 2,
   "metadata": {
    "tags": []
   },
   "outputs": [
    {
     "output_type": "stream",
     "name": "stdout",
     "text": "-number of samples: (before dropping nan rows) 101\n-number of samples: (after dropping nan rows) 101\n{1: 1, 2: 1, 3: 1, 4: 0, 5: 0, 6: 0, 7: 0}\n   hair  feathers  eggs  milk  airborne  aquatic  predator  toothed  backbone  \\\n0     1         0     0     1         0        0         1        1         1   \n1     1         0     0     1         0        0         0        1         1   \n2     0         0     1     0         0        1         1        1         1   \n3     1         0     0     1         0        0         1        1         1   \n4     1         0     0     1         0        0         1        1         1   \n\n   breathes  venomous  fins  legs  tail  domestic  catsize  class_type  \n0         1         0     0   0.5     0         0        1           1  \n1         1         0     0   0.5     1         0        1           1  \n2         0         0     1   0.0     1         0        0           0  \n3         1         0     0   0.5     0         0        1           1  \n4         1         0     0   0.5     1         0        1           1  \n"
    },
    {
     "output_type": "display_data",
     "data": {
      "text/plain": "<IPython.core.display.Markdown object>",
      "text/markdown": "# Train the blackbox"
     },
     "metadata": {}
    }
   ],
   "source": [
    "from data.objects import zoo\n",
    "\n",
    "dataObj = zoo.Zoo()\n",
    "df = dataObj.get_df()\n",
    "\n",
    "# fix target class\n",
    "target_class = [1,2,3] \n",
    "_temp = {}\n",
    "for i in range(1, len(df[dataObj.target].unique())+1):\n",
    "    if(i in target_class):\n",
    "        _temp[i] = 1\n",
    "    else:\n",
    "        _temp[i] = 0\n",
    "print(_temp)\n",
    "df[dataObj.target] = df[dataObj.target].map(_temp)\n",
    "\n",
    "\n",
    "# declaration of classifier, X and y\n",
    "X = df.drop([dataObj.target], axis=1)\n",
    "y = df[dataObj.target]\n",
    "\n",
    "# Split dataset into training set and test set\n",
    "X_train, X_test, y_train, y_test = train_test_split(X, y, test_size=0.1) # 70% training and 30% test\n",
    "\n",
    "\n",
    "print(df.head())\n",
    "display(Markdown(\"# Train the blackbox\"))"
   ]
  },
  {
   "cell_type": "code",
   "execution_count": 3,
   "metadata": {
    "tags": []
   },
   "outputs": [
    {
     "output_type": "stream",
     "name": "stdout",
     "text": "Accuracy decision tree: 0.9090909090909091\nAccuracy random forest: 1.0\nAccuracy neural netwrk: 1.0\n"
    }
   ],
   "source": [
    "from sklearn.ensemble import RandomForestClassifier\n",
    "from sklearn.neural_network import MLPClassifier\n",
    "from sklearn.model_selection import GridSearchCV\n",
    "from sklearn import tree\n",
    "from sklearn.metrics import roc_auc_score\n",
    "\n",
    "clf_rf=RandomForestClassifier(n_estimators=100)\n",
    "clf_mlp = MLPClassifier(random_state=1, max_iter=300).fit(X_train, y_train)\n",
    "\n",
    "clf_rf.fit(X_train,y_train)\n",
    "clf_mlp.fit(X_train,y_train)\n",
    "\n",
    "\n",
    "param_grid = {'max_depth': np.arange(3, 10)}\n",
    "grid_tree = GridSearchCV(tree.DecisionTreeClassifier(), param_grid)\n",
    "grid_tree.fit(X_train, y_train)\n",
    "tree_preds = grid_tree.predict_proba(X_test)[:, 1]\n",
    "tree_performance = roc_auc_score(y_test, tree_preds)\n",
    "clf_dt = grid_tree.best_estimator_\n",
    "\n",
    "\n",
    "\n",
    "print(\"Accuracy decision tree:\",metrics.accuracy_score(y_test, clf_dt.predict(X_test)))\n",
    "print(\"Accuracy random forest:\",metrics.accuracy_score(y_test, clf_rf.predict(X_test)))\n",
    "print(\"Accuracy neural netwrk:\",metrics.accuracy_score(y_test, clf_mlp.predict(X_test)))\n",
    "\n",
    "\n"
   ]
  },
  {
   "cell_type": "code",
   "execution_count": 4,
   "metadata": {
    "tags": []
   },
   "outputs": [
    {
     "output_type": "stream",
     "name": "stdout",
     "text": "def tree(hair, feathers, eggs, milk, airborne, aquatic, predator, toothed, backbone, breathes, venomous, fins, legs, tail, domestic, catsize):\n\n    if backbone <= 0.5:\n        return 0\n    else:\n        if breathes <= 0.5:\n            if venomous <= 0.5:\n                return 0\n            else:\n                return 1\n        else:\n            if aquatic <= 0.5:\n                return 1\n            else:\n                if legs <= 0.375:\n                    return 1\n                else:\n                    if milk <= 0.5:\n                        return 0\n                    else:\n                        return 1\n\n"
    },
    {
     "output_type": "display_data",
     "data": {
      "text/plain": "<IPython.core.display.Markdown object>",
      "text/markdown": "## test the random generator"
     },
     "metadata": {}
    }
   ],
   "source": [
    "from sklearn.tree import _tree\n",
    "def tree_to_code( tree, feature_names):\n",
    "\n",
    "        \n",
    "    tree_ = tree.tree_\n",
    "    feature_name = [\n",
    "        feature_names[i] if i != _tree.TREE_UNDEFINED else \"undefined!\"\n",
    "        for i in tree_.feature\n",
    "    ]\n",
    "    s = \"def tree({}):\".format(\", \".join(feature_names)) + \"\\n\\n\"\n",
    "    # print(\"\\nLearned tree -->\\n\")\n",
    "    # print(\"def tree({}):\".format(\", \".join(feature_names)))\n",
    "\n",
    "    def recurse(node, depth, s):\n",
    "        indent = \"    \" * depth\n",
    "        if tree_.feature[node] != _tree.TREE_UNDEFINED:\n",
    "            name = feature_name[node]\n",
    "            threshold = tree_.threshold[node]\n",
    "            s = s + \"{}if {} <= {}:\".format(indent, name, threshold) + \"\\n\"\n",
    "            # print(\"{}if {} <= {}:\".format(indent, name, threshold))\n",
    "            s = recurse(tree_.children_left[node], depth + 1, s)\n",
    "            s = s + \"{}else:\".format(indent) + \"\\n\"\n",
    "            # print(\"{}else:\".format(indent))\n",
    "            s = recurse(tree_.children_right[node], depth + 1, s)\n",
    "        else:\n",
    "            s = s + \"{}return {}\".format(indent, np.argmax(tree_.value[node][0])) + \"\\n\"\n",
    "            # print(\"{}return {}\".format(indent, np.argmax(tree_.value[node][0])))\n",
    "        \n",
    "        return s\n",
    "\n",
    "\n",
    "    s = recurse(0, 1, s)\n",
    "    return s\n",
    "\n",
    "\n",
    "    \n",
    "print(tree_to_code(clf_dt, X_train.columns.to_list()))\n",
    "display(Markdown(\"## test the random generator\"))"
   ]
  },
  {
   "cell_type": "code",
   "execution_count": 5,
   "metadata": {
    "tags": []
   },
   "outputs": [
    {
     "output_type": "stream",
     "name": "stdout",
     "text": "\n[1, 1, 0, 0, 1, 1, 0, 0, 0, 1, 1, 1, 0.5163022407704372, 1, 1, 1]\nrandom forest : [1]\nneural network: [1]\ndecision tree : [0]\n\n[0, 1, 0, 1, 0, 1, 1, 1, 0, 1, 0, 1, 0.28221343812383093, 1, 1, 1]\nrandom forest : [1]\nneural network: [1]\ndecision tree : [0]\n\n[1, 0, 0, 1, 1, 1, 0, 0, 1, 1, 1, 1, 0.2956122184396659, 1, 0, 0]\nrandom forest : [1]\nneural network: [1]\ndecision tree : [1]\n\n[1, 0, 1, 0, 1, 0, 1, 1, 0, 1, 0, 0, 0.7422331909417709, 0, 1, 0]\nrandom forest : [0]\nneural network: [0]\ndecision tree : [0]\n\n[1, 1, 0, 1, 1, 1, 0, 0, 1, 0, 0, 1, 0.24904321486171244, 0, 0, 0]\nrandom forest : [1]\nneural network: [1]\ndecision tree : [0]\n"
    }
   ],
   "source": [
    "from data.objects import helper_functions\n",
    "\n",
    "for i in range(5):\n",
    "    x = helper_functions.random_generator(X, dataObj.attribute_type)\n",
    "    print()\n",
    "    print(x)\n",
    "    print(\"random forest :\", clf_rf.predict([x]))\n",
    "    print(\"neural network:\", clf_mlp.predict([x]))\n",
    "    print(\"decision tree :\", clf_dt.predict([x]))"
   ]
  },
  {
   "cell_type": "code",
   "execution_count": 6,
   "metadata": {
    "tags": []
   },
   "outputs": [
    {
     "output_type": "display_data",
     "data": {
      "text/plain": "<IPython.core.display.Markdown object>",
      "text/markdown": "# Design the query"
     },
     "metadata": {}
    }
   ],
   "source": [
    "tree_to_code(clf_dt, X_train.columns.to_list())\n",
    "display(Markdown(\"# Design the query\"))"
   ]
  },
  {
   "cell_type": "code",
   "execution_count": 16,
   "metadata": {
    "tags": []
   },
   "outputs": [
    {
     "output_type": "stream",
     "name": "stdout",
     "text": "Query is -->\n\tvenomous = 1\n\n"
    },
    {
     "output_type": "display_data",
     "data": {
      "text/plain": "<IPython.core.display.Markdown object>",
      "text/markdown": "# Teacher"
     },
     "metadata": {}
    }
   ],
   "source": [
    "sys.path.append(\"trustable_explanation/\")\n",
    "import query\n",
    "import operator\n",
    "from blackbox_dt import DecisionTree\n",
    "\n",
    "\n",
    "# our query is a halfspace and conjunction of the following\n",
    "dict_query = {}\n",
    "# dict_query['backbone'] = (operator.eq, 1)\n",
    "# dict_query['breathes'] = (operator.eq, 0)\n",
    "# dict_query['aquatic'] = (operator.eq, 0)\n",
    "# dict_query['tail'] = (operator.eq, 0)\n",
    "dict_query['venomous'] = (operator.eq, 1)\n",
    "\n",
    "\n",
    "\n",
    "# We define query specilized for decision tree\n",
    "bb_dt = DecisionTree(features=X_train.columns.tolist(), halfspace=dict_query)\n",
    "print(bb_dt)\n",
    "\n",
    "q = query.Query(model = None, prediction_function = bb_dt.predict_function_query)\n",
    "\n",
    "\n",
    "from blackbox import BlackBox\n",
    "bb = BlackBox(clf_dt, clf_dt.predict)\n",
    "display(Markdown(\"# Teacher\"))"
   ]
  },
  {
   "cell_type": "code",
   "execution_count": 17,
   "metadata": {
    "tags": []
   },
   "outputs": [
    {
     "output_type": "stream",
     "name": "stdout",
     "text": "\nLearning complete\n-total examples checked: 1792\n"
    },
    {
     "output_type": "display_data",
     "data": {
      "text/plain": "<IPython.core.display.Markdown object>",
      "text/markdown": "### Result"
     },
     "metadata": {}
    },
    {
     "output_type": "stream",
     "name": "stdout",
     "text": "Query is -->\n\tvenomous = 1\n\nLearned explanation => def tree(hair, feathers, eggs, milk, airborne, aquatic, predator, toothed, backbone, breathes, venomous, fins, legs, tail, domestic, catsize):\n\n    if backbone <= 0.5:\n        return 0\n    else:\n        if venomous <= 0.5:\n            return 0\n        else:\n            if milk <= 0.5:\n                if legs <= 0.3846162110567093:\n                    return 1\n                else:\n                    if breathes <= 0.5:\n                        return 1\n                    else:\n                        if aquatic <= 0.5:\n                            return 1\n                        else:\n                            return 0\n            else:\n                return 1\n \n\n\n-is learning complete? True\n-it took 0.42040443420410156 seconds\ncorrect:  11 out of  11 examples. Percentage:  1.0\n"
    }
   ],
   "source": [
    "from teacher import Teacher\n",
    "from learner import Learner\n",
    "from sygus_if import SyGuS_IF\n",
    "\n",
    "# sgf = SyGuS_IF(feature_names=dataObj.attributes, feature_data_type=dataObj.attribute_type, function_return_type= \"Bool\")\n",
    "# l = Learner(model = sgf, prediction_function = sgf.predict_z3, train_function = sgf.fit, X = [], y=[] )\n",
    "\n",
    "dt_classifier = tree.DecisionTreeClassifier()\n",
    "l = Learner(model = dt_classifier, prediction_function = dt_classifier.predict, train_function = dt_classifier.fit, X = [], y=[] )\n",
    "\n",
    "\n",
    "t = Teacher(max_iterations=100,epsilon=0.05, delta=0.05, timeout=40)\n",
    "_teach_start = time.time()\n",
    "l, flag = t.teach(blackbox = bb, learner = l, query = q, random_example_generator = helper_functions.random_generator, params_generator = (X_train,dataObj.attribute_type), verbose=False)\n",
    "\n",
    "\n",
    "\n",
    "display(Markdown(\"### Result\"))\n",
    "# print(\"Learned explanation =>\", l.model._function_snippet)\n",
    "print(str(bb_dt))\n",
    "print(\"Learned explanation =>\", tree_to_code(l.model,X_train.columns.to_list()), \"\\n\\n\")\n",
    "print(\"-is learning complete?\", flag)\n",
    "print(\"-it took\", time.time() - _teach_start, \"seconds\")\n",
    "\n",
    "\n",
    "\n",
    "\n",
    "start_ = time.time()\n",
    "cnt = 0\n",
    "for example in X_test.values.tolist():\n",
    "\n",
    "    blackbox_verdict = bb.classify_example(example)\n",
    "    learner_verdict = l.classify_example(example)\n",
    "    query_verdict = q.classify_example(example)\n",
    "\n",
    "    if(learner_verdict == (blackbox_verdict and query_verdict)):\n",
    "        cnt += 1\n",
    "print(\"correct: \", cnt, \"out of \", len(y_test), \"examples. Percentage: \", cnt/len(y_test))\n",
    "# print(time.time() - start_)\n",
    "\n",
    "\n",
    "f = open(\"data/output/log.txt\", \"a\")\n",
    "f.write(\"=================================================\\n\")\n",
    "f.write(str(bb_dt))\n",
    "f.write(\"\\n\\nExplanation is -->\\n\")\n",
    "# f.write(l.model._function_snippet)\n",
    "f.write(tree_to_code(l.model,X_train.columns.to_list()))\n",
    "f.write(\"\\n\")\n",
    "f.write(\"\\n-did teacher terminate? \" + str(flag) + \"\\n\\n\")\n",
    "f.close()\n",
    "\n"
   ]
  },
  {
   "cell_type": "markdown",
   "metadata": {},
   "source": [
    "## Learning on Zoo dataset using SyGus"
   ]
  },
  {
   "cell_type": "code",
   "execution_count": 11,
   "metadata": {
    "tags": []
   },
   "outputs": [
    {
     "output_type": "stream",
     "name": "stdout",
     "text": "-number of samples: (before dropping nan rows) 101\n-number of samples: (after dropping nan rows) 101\n milk\nAccuracy: 1.0\n1.5516462326049805\nAccuracy: 1.0\n1.3945815563201904\n"
    }
   ],
   "source": [
    "from data.objects import zoo\n",
    "from sygus_if import SyGuS_IF\n",
    "\n",
    "dataObj = zoo.Zoo()\n",
    "df = dataObj.get_df()\n",
    "\n",
    "# fix target class\n",
    "target_class = 1 \n",
    "_temp = {}\n",
    "for i in range(1, len(df[dataObj.target].unique())+1):\n",
    "    if(i == target_class):\n",
    "        _temp[i] = 1\n",
    "    else:\n",
    "        _temp[i] = 0\n",
    "df[dataObj.target] = df[dataObj.target].map(_temp)\n",
    "\n",
    "# declaration of classifier, X and y\n",
    "sgf = SyGuS_IF(feature_names=dataObj.attributes, feature_data_type=dataObj.attribute_type, function_return_type= \"Bool\")\n",
    "X = df.drop([dataObj.target], axis=1)\n",
    "y = df[dataObj.target].tolist()\n",
    "\n",
    "# train\n",
    "sgf.fit(X,y)\n",
    "print(sgf._function_snippet)\n",
    "\n",
    "\n",
    "start_ = time.time()\n",
    "y_pred_test = sgf.predict_z3(X)\n",
    "print(\"Accuracy:\",metrics.accuracy_score(y, y_pred_test))\n",
    "print(time.time() - start_)\n",
    "\n",
    "\n",
    "start_ = time.time()\n",
    "y_pred_test = sgf.predict(X, y)\n",
    "print(\"Accuracy:\",metrics.accuracy_score(y, y_pred_test))\n",
    "print(time.time() - start_)"
   ]
  },
  {
   "cell_type": "code",
   "execution_count": null,
   "metadata": {},
   "outputs": [],
   "source": []
  }
 ],
 "metadata": {
  "language_info": {
   "codemirror_mode": {
    "name": "ipython",
    "version": 3
   },
   "file_extension": ".py",
   "mimetype": "text/x-python",
   "name": "python",
   "nbconvert_exporter": "python",
   "pygments_lexer": "ipython3",
   "version": "3.6.10-final"
  },
  "orig_nbformat": 2,
  "kernelspec": {
   "name": "python_defaultSpec_1596097260790",
   "display_name": "Python 3.6.10 64-bit ('base': conda)"
  }
 },
 "nbformat": 4,
 "nbformat_minor": 2
}