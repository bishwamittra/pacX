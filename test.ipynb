{
 "cells": [
  {
   "cell_type": "code",
   "execution_count": 42,
   "metadata": {
    "tags": []
   },
   "outputs": [
    {
     "output_type": "stream",
     "name": "stdout",
     "text": "The autoreload extension is already loaded. To reload it, use:\n  %reload_ext autoreload\n"
    }
   ],
   "source": [
    "%load_ext autoreload\n",
    "%autoreload 2\n",
    "from sklearn import datasets\n",
    "import numpy as np\n",
    "import pandas as pd\n",
    "from sklearn.model_selection import train_test_split\n",
    "from lark import Lark\n"
   ]
  },
  {
   "cell_type": "code",
   "execution_count": 43,
   "metadata": {},
   "outputs": [],
   "source": [
    "def sklearn_to_df(sklearn_dataset):\n",
    "    \"\"\" \n",
    "    Convert sklearn dataset to a dataframe, the class-label is renamed to \"target\"\n",
    "    \"\"\"\n",
    "    df = pd.DataFrame(sklearn_dataset.data, columns=sklearn_dataset.feature_names)\n",
    "    df['target'] = pd.Series(sklearn_dataset.target)\n",
    "    return df"
   ]
  },
  {
   "cell_type": "code",
   "execution_count": 44,
   "metadata": {},
   "outputs": [],
   "source": [
    "target = \"target\"\n",
    "dataset = datasets.load_iris()\n",
    "dataset[target] = np.where(dataset[target]==2, 0, dataset[target])"
   ]
  },
  {
   "cell_type": "code",
   "execution_count": 45,
   "metadata": {},
   "outputs": [],
   "source": [
    "# get df\n",
    "data = sklearn_to_df(dataset)\n",
    "\n",
    "# get X,y\n",
    "X = data.drop(['target'], axis=1)\n",
    "y = data['target']\n",
    "\n",
    "X.columns = ['sepal length', 'sepal width', 'petal length', 'petal width']\n",
    "\n",
    "\n",
    "# Split dataset into training set and test set\n",
    "X_train, X_test, y_train, y_test = train_test_split(X, y, test_size=0.1) # 70% training and 30% test"
   ]
  },
  {
   "cell_type": "code",
   "execution_count": 46,
   "metadata": {},
   "outputs": [],
   "source": [
    "from sklearn.ensemble import RandomForestClassifier\n",
    "from sklearn.neural_network import MLPClassifier\n",
    "\n",
    "clf_rf=RandomForestClassifier(n_estimators=100)\n",
    "clf_mlp = MLPClassifier(random_state=1, max_iter=300).fit(X_train, y_train)\n",
    "\n",
    "clf_rf.fit(X_train,y_train)\n",
    "clf_mlp.fit(X_train,y_train)\n",
    "\n",
    "y_pred=clf_mlp.predict(X_test)"
   ]
  },
  {
   "cell_type": "code",
   "execution_count": 47,
   "metadata": {
    "tags": []
   },
   "outputs": [
    {
     "output_type": "stream",
     "name": "stdout",
     "text": "Accuracy: 1.0\n"
    }
   ],
   "source": [
    "#Import scikit-learn metrics module for accuracy calculation\n",
    "from sklearn import metrics\n",
    "# Model Accuracy, how often is the classifier correct?\n",
    "print(\"Accuracy:\",metrics.accuracy_score(y_test, y_pred))"
   ]
  },
  {
   "cell_type": "code",
   "execution_count": 48,
   "metadata": {
    "tags": []
   },
   "outputs": [
    {
     "output_type": "stream",
     "name": "stdout",
     "text": "[1]\n[0]\n"
    }
   ],
   "source": [
    "print(clf_rf.predict([[3, 5, 4, 2]]))\n",
    "print(clf_mlp.predict([[3, 5, 4, 2]]))"
   ]
  },
  {
   "cell_type": "code",
   "execution_count": 49,
   "metadata": {},
   "outputs": [],
   "source": [
    "# create a random generator\n",
    "import random\n",
    "def random_generator(X):\n",
    "    num_attributes = len(X.columns)\n",
    "    x=[]\n",
    "    for i in range(num_attributes):\n",
    "        x.append(random.uniform(X[X.columns[i]].min(),X[X.columns[i]].max()))\n",
    "    return x\n",
    "\n"
   ]
  },
  {
   "cell_type": "code",
   "execution_count": 50,
   "metadata": {
    "tags": []
   },
   "outputs": [
    {
     "output_type": "stream",
     "name": "stdout",
     "text": "[6.60855768568056, 3.293195797591048, 4.462011297037137, 1.6968951785104016]\n[1]\n[1]\n[7.784575200990879, 2.856513895684748, 4.232243118740809, 2.097491302512731]\n[0]\n[1]\n[7.236405261030885, 2.2155444264201014, 1.5414916198438577, 0.8998811117037129]\n[0]\n[0]\n[7.812198266356409, 2.0206581966667323, 3.9308136101433417, 1.321655492769826]\n[1]\n[1]\n[4.441497236857662, 2.767386901577291, 4.016799763634529, 1.0988640818628692]\n[1]\n[1]\n"
    }
   ],
   "source": [
    "for i in range(5):\n",
    "    x = random_generator(X)\n",
    "    print(x)\n",
    "    print(clf_rf.predict([x]))\n",
    "    print(clf_mlp.predict([x]))"
   ]
  },
  {
   "cell_type": "code",
   "execution_count": 51,
   "metadata": {},
   "outputs": [],
   "source": [
    "from blackbox import BlackBox\n",
    "bb = BlackBox(clf_mlp, clf_mlp.predict)"
   ]
  },
  {
   "cell_type": "code",
   "execution_count": 52,
   "metadata": {
    "tags": []
   },
   "outputs": [
    {
     "output_type": "execute_result",
     "data": {
      "text/plain": "0"
     },
     "metadata": {},
     "execution_count": 52
    }
   ],
   "source": [
    "bb.classify_example([3, 5, 4, 2])"
   ]
  },
  {
   "cell_type": "code",
   "execution_count": 53,
   "metadata": {
    "tags": []
   },
   "outputs": [],
   "source": [
    "from sygus_if import SyGuS_IF\n",
    "X = [\n",
    "    [1,2,1,1],\n",
    "    [-1.1,1,1,42]\n",
    "]\n",
    "y = [\n",
    "    1,\n",
    "    0\n",
    "]"
   ]
  },
  {
   "cell_type": "code",
   "execution_count": 54,
   "metadata": {
    "tags": []
   },
   "outputs": [
    {
     "output_type": "stream",
     "name": "stdout",
     "text": "(define-fun func ((sepal_length Real) (sepal_width Real) (petal_length Real) (petal_width Real)) Real (ite (> sepal_width 2) (ite (not (= petal_width (/ 1 2))) (ite (> petal_length 1) (ite (<= sepal_width 4) (ite (< sepal_width 4) (ite (>= petal_length (/ 4 3)) (ite (>= sepal_length 5) (ite (not (= petal_width 1)) (ite (>= sepal_width (/ 5 2)) (ite (> sepal_length 5) (ite (>= petal_length (/ 3 2)) (ite (> petal_length (/ 3 2)) (ite (>= petal_width (/ 1 3)) (ite (>= petal_width (/ 1 2)) (ite (>= petal_length 4) (ite (> petal_length 4) (ite (>= sepal_length 6) (ite (>= petal_width (/ 3 2)) (ite (not (= petal_width 2)) (ite (<= petal_length 6) (ite (< petal_length 6) (ite (> sepal_length 6) (ite (>= petal_length 5) (ite (<= petal_width 2) (ite (<= sepal_width 3) (ite (< sepal_width 3) (ite (<= sepal_width (/ 5 2)) 0 0) (ite (= petal_length 5) (- sepal_width 2) 0)) 0) 0) (ite (<= sepal_width 3) (ite (< sepal_width 3) (ite (<= sepal_width (/ 5 2)) (- petal_width (/ 1 2)) (ite (= petal_width (/ 3 2)) (- petal_width (/ 1 2)) 0)) 0) (ite (= petal_width (/ 3 2)) (- petal_width (/ 1 2)) 1))) (ite (>= petal_length 5) 1 (ite (<= sepal_width 3) (- petal_width (/ 1 2)) 1))) (ite (<= petal_width 2) (ite (<= sepal_width 3) (ite (< sepal_width 3) (ite (<= sepal_width (/ 5 2)) 0 0) (ite (= petal_length 5) (- sepal_width 2) 0)) 0) 0)) (ite (<= petal_width 2) (ite (<= sepal_width 3) (ite (< sepal_width 3) (ite (<= sepal_width (/ 5 2)) 0 0) (ite (= petal_length 5) (- sepal_width 2) 0)) 0) 0)) (- petal_width 2)) (ite (<= sepal_width 3) (ite (< sepal_width 3) 1 (- sepal_width 2)) 1)) (ite (not (= petal_width 2)) (ite (>= petal_length 5) (ite (= sepal_width 3) 0 (ite (<= petal_width 2) 0 0)) (ite (<= sepal_width 3) (ite (< sepal_width 3) 1 (- sepal_width 2)) 1)) (- petal_width 2))) (* (/ 1 4) petal_length)) (ite (<= sepal_width (/ 5 2)) 1 1)) 0) 0) (ite (>= sepal_length 5) (ite (> sepal_length 5) 0 0) (ite (not (= petal_width 1)) (ite (>= petal_width (/ 1 2)) 0 0) petal_width))) 0) (ite (>= petal_length (/ 3 2)) (ite (> petal_length (/ 3 2)) (ite (>= petal_width (/ 1 3)) (ite (>= petal_width (/ 1 2)) 0 0) 0) (ite (>= sepal_length 5) (ite (> sepal_length 5) 0 0) (ite (not (= petal_width 1)) (ite (>= petal_width (/ 1 2)) 0 0) petal_width))) 0)) (ite (>= petal_width (/ 3 2)) (ite (> sepal_length 6) (- petal_width (/ 1 2)) 0) 1)) petal_width) (ite (not (= petal_width 1)) (ite (>= petal_width (/ 1 2)) 0 0) petal_width)) (ite (>= sepal_length 5) (ite (> sepal_length 5) 0 0) (ite (not (= petal_width 1)) (ite (>= petal_width (/ 1 2)) 0 0) petal_width))) 0) 0) (- petal_length 1)) (- petal_width (/ 1 2))) petal_width))\n"
    }
   ],
   "source": [
    "sgf = SyGuS_IF()\n",
    "# sgf.fit(X,y)\n",
    "sgf.fit(X_train,y_train)\n",
    "print(sgf.synthesized_function)"
   ]
  },
  {
   "cell_type": "code",
   "execution_count": 55,
   "metadata": {
    "tags": []
   },
   "outputs": [
    {
     "output_type": "stream",
     "name": "stdout",
     "text": "Accuracy: 0.8666666666666667\nAccuracy: 1.0\n2.8784189224243164\n"
    }
   ],
   "source": [
    "import time \n",
    "\n",
    "start_ = time.time()\n",
    "\n",
    "y_pred_test = sgf.predict(X_test, y_test)\n",
    "print(\"Accuracy:\",metrics.accuracy_score(y_test, y_pred_test))\n",
    "y_pred_train = sgf.predict(X_train, y_train)\n",
    "print(\"Accuracy:\",metrics.accuracy_score(y_train, y_pred_train))\n",
    "\n",
    "print(time.time() - start_)"
   ]
  },
  {
   "cell_type": "code",
   "execution_count": 56,
   "metadata": {
    "tags": []
   },
   "outputs": [
    {
     "output_type": "stream",
     "name": "stdout",
     "text": "Accuracy: 0.8666666666666667\nAccuracy: 1.0\n1.9667532444000244\n"
    }
   ],
   "source": [
    "start_ = time.time()\n",
    "\n",
    "\n",
    "\n",
    "y_pred_test = sgf.predict_z3(X_test)\n",
    "print(\"Accuracy:\",metrics.accuracy_score(y_test, y_pred_test))\n",
    "y_pred_train = sgf.predict_z3(X_train)\n",
    "print(\"Accuracy:\",metrics.accuracy_score(y_train, y_pred_train))\n",
    "\n",
    "print(time.time() - start_)"
   ]
  },
  {
   "cell_type": "code",
   "execution_count": 40,
   "metadata": {},
   "outputs": [
    {
     "output_type": "execute_result",
     "data": {
      "text/plain": "0.7959183673469388"
     },
     "metadata": {},
     "execution_count": 40
    }
   ],
   "source": [
    "sgf._eval('(/ 39 49.0)')"
   ]
  },
  {
   "cell_type": "code",
   "execution_count": null,
   "metadata": {},
   "outputs": [],
   "source": []
  }
 ],
 "metadata": {
  "language_info": {
   "codemirror_mode": {
    "name": "ipython",
    "version": 3
   },
   "file_extension": ".py",
   "mimetype": "text/x-python",
   "name": "python",
   "nbconvert_exporter": "python",
   "pygments_lexer": "ipython3",
   "version": "3.6.10-final"
  },
  "orig_nbformat": 2,
  "kernelspec": {
   "name": "python_defaultSpec_1595024891159",
   "display_name": "Python 3.6.10 64-bit ('base': conda)"
  }
 },
 "nbformat": 4,
 "nbformat_minor": 2
}