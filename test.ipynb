{
 "cells": [
  {
   "cell_type": "code",
   "execution_count": 15,
   "metadata": {
    "tags": []
   },
   "outputs": [
    {
     "output_type": "stream",
     "name": "stdout",
     "text": "The autoreload extension is already loaded. To reload it, use:\n  %reload_ext autoreload\n"
    }
   ],
   "source": [
    "%load_ext autoreload\n",
    "%autoreload 2\n",
    "from sklearn import datasets\n",
    "import numpy as np\n",
    "import pandas as pd\n",
    "from sklearn.model_selection import train_test_split\n",
    "from lark import Lark\n",
    "import time \n",
    "from sklearn.preprocessing import MinMaxScaler\n",
    "from sklearn import metrics"
   ]
  },
  {
   "cell_type": "markdown",
   "metadata": {},
   "source": [
    "# prepare dataset"
   ]
  },
  {
   "cell_type": "code",
   "execution_count": 17,
   "metadata": {
    "tags": []
   },
   "outputs": [
    {
     "output_type": "stream",
     "name": "stdout",
     "text": "-number of samples: (before dropping nan rows) 101\n-number of samples: (after dropping nan rows) 101\n{1: 1, 2: 1, 3: 1, 4: 0, 5: 0, 6: 0, 7: 0}\n"
    },
    {
     "output_type": "execute_result",
     "data": {
      "text/plain": "   hair  feathers  eggs  milk  airborne  aquatic  predator  toothed  backbone  \\\n0     1         0     0     1         0        0         1        1         1   \n1     1         0     0     1         0        0         0        1         1   \n2     0         0     1     0         0        1         1        1         1   \n3     1         0     0     1         0        0         1        1         1   \n4     1         0     0     1         0        0         1        1         1   \n\n   breathes  venomous  fins  legs  tail  domestic  catsize  class_type  \n0         1         0     0   0.5     0         0        1           1  \n1         1         0     0   0.5     1         0        1           1  \n2         0         0     1   0.0     1         0        0           0  \n3         1         0     0   0.5     0         0        1           1  \n4         1         0     0   0.5     1         0        1           1  ",
      "text/html": "<div>\n<style scoped>\n    .dataframe tbody tr th:only-of-type {\n        vertical-align: middle;\n    }\n\n    .dataframe tbody tr th {\n        vertical-align: top;\n    }\n\n    .dataframe thead th {\n        text-align: right;\n    }\n</style>\n<table border=\"1\" class=\"dataframe\">\n  <thead>\n    <tr style=\"text-align: right;\">\n      <th></th>\n      <th>hair</th>\n      <th>feathers</th>\n      <th>eggs</th>\n      <th>milk</th>\n      <th>airborne</th>\n      <th>aquatic</th>\n      <th>predator</th>\n      <th>toothed</th>\n      <th>backbone</th>\n      <th>breathes</th>\n      <th>venomous</th>\n      <th>fins</th>\n      <th>legs</th>\n      <th>tail</th>\n      <th>domestic</th>\n      <th>catsize</th>\n      <th>class_type</th>\n    </tr>\n  </thead>\n  <tbody>\n    <tr>\n      <th>0</th>\n      <td>1</td>\n      <td>0</td>\n      <td>0</td>\n      <td>1</td>\n      <td>0</td>\n      <td>0</td>\n      <td>1</td>\n      <td>1</td>\n      <td>1</td>\n      <td>1</td>\n      <td>0</td>\n      <td>0</td>\n      <td>0.5</td>\n      <td>0</td>\n      <td>0</td>\n      <td>1</td>\n      <td>1</td>\n    </tr>\n    <tr>\n      <th>1</th>\n      <td>1</td>\n      <td>0</td>\n      <td>0</td>\n      <td>1</td>\n      <td>0</td>\n      <td>0</td>\n      <td>0</td>\n      <td>1</td>\n      <td>1</td>\n      <td>1</td>\n      <td>0</td>\n      <td>0</td>\n      <td>0.5</td>\n      <td>1</td>\n      <td>0</td>\n      <td>1</td>\n      <td>1</td>\n    </tr>\n    <tr>\n      <th>2</th>\n      <td>0</td>\n      <td>0</td>\n      <td>1</td>\n      <td>0</td>\n      <td>0</td>\n      <td>1</td>\n      <td>1</td>\n      <td>1</td>\n      <td>1</td>\n      <td>0</td>\n      <td>0</td>\n      <td>1</td>\n      <td>0.0</td>\n      <td>1</td>\n      <td>0</td>\n      <td>0</td>\n      <td>0</td>\n    </tr>\n    <tr>\n      <th>3</th>\n      <td>1</td>\n      <td>0</td>\n      <td>0</td>\n      <td>1</td>\n      <td>0</td>\n      <td>0</td>\n      <td>1</td>\n      <td>1</td>\n      <td>1</td>\n      <td>1</td>\n      <td>0</td>\n      <td>0</td>\n      <td>0.5</td>\n      <td>0</td>\n      <td>0</td>\n      <td>1</td>\n      <td>1</td>\n    </tr>\n    <tr>\n      <th>4</th>\n      <td>1</td>\n      <td>0</td>\n      <td>0</td>\n      <td>1</td>\n      <td>0</td>\n      <td>0</td>\n      <td>1</td>\n      <td>1</td>\n      <td>1</td>\n      <td>1</td>\n      <td>0</td>\n      <td>0</td>\n      <td>0.5</td>\n      <td>1</td>\n      <td>0</td>\n      <td>1</td>\n      <td>1</td>\n    </tr>\n  </tbody>\n</table>\n</div>"
     },
     "metadata": {},
     "execution_count": 17
    }
   ],
   "source": [
    "from data.objects import zoo\n",
    "\n",
    "dataObj = zoo.Zoo()\n",
    "df = dataObj.get_df()\n",
    "\n",
    "# fix target class\n",
    "target_class = [1,2,3] \n",
    "_temp = {}\n",
    "for i in range(1, len(df[dataObj.target].unique())+1):\n",
    "    if(i in target_class):\n",
    "        _temp[i] = 1\n",
    "    else:\n",
    "        _temp[i] = 0\n",
    "print(_temp)\n",
    "df[dataObj.target] = df[dataObj.target].map(_temp)\n",
    "\n",
    "\n",
    "# declaration of classifier, X and y\n",
    "X = df.drop([dataObj.target], axis=1)\n",
    "y = df[dataObj.target]\n",
    "\n",
    "# Split dataset into training set and test set\n",
    "X_train, X_test, y_train, y_test = train_test_split(X, y, test_size=0.1) # 70% training and 30% test\n",
    "\n",
    "\n",
    "df.head()"
   ]
  },
  {
   "cell_type": "markdown",
   "metadata": {},
   "source": [
    "# train a black-box"
   ]
  },
  {
   "cell_type": "code",
   "execution_count": 18,
   "metadata": {
    "tags": []
   },
   "outputs": [
    {
     "output_type": "stream",
     "name": "stdout",
     "text": "Accuracy decision tree: 1.0\nAccuracy random forest: 1.0\nAccuracy neural netwrk: 1.0\n"
    }
   ],
   "source": [
    "from sklearn.ensemble import RandomForestClassifier\n",
    "from sklearn.neural_network import MLPClassifier\n",
    "from sklearn.model_selection import GridSearchCV\n",
    "from sklearn import tree\n",
    "from sklearn.metrics import roc_auc_score\n",
    "\n",
    "clf_rf=RandomForestClassifier(n_estimators=100)\n",
    "clf_mlp = MLPClassifier(random_state=1, max_iter=300).fit(X_train, y_train)\n",
    "\n",
    "clf_rf.fit(X_train,y_train)\n",
    "clf_mlp.fit(X_train,y_train)\n",
    "\n",
    "\n",
    "param_grid = {'max_depth': np.arange(3, 10)}\n",
    "grid_tree = GridSearchCV(tree.DecisionTreeClassifier(), param_grid)\n",
    "grid_tree.fit(X_train, y_train)\n",
    "tree_preds = grid_tree.predict_proba(X_test)[:, 1]\n",
    "tree_performance = roc_auc_score(y_test, tree_preds)\n",
    "clf_dt = grid_tree.best_estimator_\n",
    "\n",
    "\n",
    "\n",
    "print(\"Accuracy decision tree:\",metrics.accuracy_score(y_test, clf_dt.predict(X_test)))\n",
    "print(\"Accuracy random forest:\",metrics.accuracy_score(y_test, clf_rf.predict(X_test)))\n",
    "print(\"Accuracy neural netwrk:\",metrics.accuracy_score(y_test, clf_mlp.predict(X_test)))\n",
    "\n",
    "\n"
   ]
  },
  {
   "cell_type": "code",
   "execution_count": 19,
   "metadata": {
    "tags": []
   },
   "outputs": [
    {
     "output_type": "stream",
     "name": "stdout",
     "text": "\nLearned tree -->\n\ndef tree(hair, feathers, eggs, milk, airborne, aquatic, predator, toothed, backbone, breathes, venomous, fins, legs, tail, domestic, catsize):\n  if backbone <= 0.5:\n    return 0\n  else:  # if backbone > 0.5\n    if breathes <= 0.5:\n      if eggs <= 0.5:\n        return 1\n      else:  # if eggs > 0.5\n        return 0\n    else:  # if breathes > 0.5\n      if tail <= 0.5:\n        if eggs <= 0.5:\n          return 1\n        else:  # if eggs > 0.5\n          return 0\n      else:  # if tail > 0.5\n        if aquatic <= 0.5:\n          return 1\n        else:  # if aquatic > 0.5\n          if legs <= 0.375:\n            return 1\n          else:  # if legs > 0.375\n            if hair <= 0.5:\n              return 0\n            else:  # if hair > 0.5\n              return 1\n"
    }
   ],
   "source": [
    "from sklearn.tree import _tree\n",
    "def tree_to_code( tree, feature_names):\n",
    "\n",
    "        \n",
    "    tree_ = tree.tree_\n",
    "    feature_name = [\n",
    "        feature_names[i] if i != _tree.TREE_UNDEFINED else \"undefined!\"\n",
    "        for i in tree_.feature\n",
    "    ]\n",
    "    print(\"\\nLearned tree -->\\n\")\n",
    "    print(\"def tree({}):\".format(\", \".join(feature_names)))\n",
    "\n",
    "    def recurse(node, depth):\n",
    "        indent = \"  \" * depth\n",
    "        if tree_.feature[node] != _tree.TREE_UNDEFINED:\n",
    "            name = feature_name[node]\n",
    "            threshold = tree_.threshold[node]\n",
    "            print(\"{}if {} <= {}:\".format(indent, name, threshold))\n",
    "            recurse(tree_.children_left[node], depth + 1)\n",
    "            print(\"{}else:  # if {} > {}\".format(indent, name, threshold))\n",
    "            recurse(tree_.children_right[node], depth + 1)\n",
    "        else:\n",
    "            print(\"{}return {}\".format(indent, np.argmax(tree_.value[node][0])))\n",
    "\n",
    "    recurse(0, 1)\n",
    "\n",
    "    \n",
    "tree_to_code(clf_dt, X_train.columns.to_list())"
   ]
  },
  {
   "cell_type": "markdown",
   "metadata": {
    "tags": []
   },
   "source": [
    "# create a random generator"
   ]
  },
  {
   "cell_type": "code",
   "execution_count": 20,
   "metadata": {
    "tags": []
   },
   "outputs": [
    {
     "output_type": "stream",
     "name": "stdout",
     "text": "\n[0, 1, 0, 1, 0, 0, 1, 1, 0, 0, 1, 0, 0, 0, 0, 1]\nrandom forest : [1]\nneural network: [1]\ndecision tree : [0]\n\n[0, 1, 1, 0, 0, 0, 0, 1, 0, 1, 0, 0, 1, 1, 1, 1]\nrandom forest : [0]\nneural network: [1]\ndecision tree : [0]\n\n[1, 0, 0, 0, 0, 0, 1, 0, 1, 0, 0, 1, 0, 0, 1, 0]\nrandom forest : [1]\nneural network: [1]\ndecision tree : [1]\n\n[0, 1, 0, 1, 1, 1, 1, 1, 0, 1, 0, 0, 0, 0, 0, 1]\nrandom forest : [1]\nneural network: [1]\ndecision tree : [0]\n\n[1, 1, 0, 0, 0, 1, 0, 0, 0, 1, 1, 0, 0, 1, 1, 0]\nrandom forest : [0]\nneural network: [1]\ndecision tree : [0]\n"
    }
   ],
   "source": [
    "\n",
    "import random\n",
    "def random_generator(X):\n",
    "    num_attributes = len(X.columns)\n",
    "    x=[]\n",
    "    for i in range(num_attributes):\n",
    "        x.append(random.randint(0,1))\n",
    "    return x\n",
    "\n",
    "for i in range(5):\n",
    "    x = random_generator(X)\n",
    "    print()\n",
    "    print(x)\n",
    "    print(\"random forest :\", clf_rf.predict([x]))\n",
    "    print(\"neural network:\", clf_mlp.predict([x]))\n",
    "    print(\"decision tree :\", clf_dt.predict([x]))"
   ]
  },
  {
   "cell_type": "markdown",
   "metadata": {},
   "source": [
    "# implementation of the query"
   ]
  },
  {
   "cell_type": "code",
   "execution_count": 21,
   "metadata": {
    "tags": []
   },
   "outputs": [
    {
     "output_type": "stream",
     "name": "stdout",
     "text": "\nLearned tree -->\n\ndef tree(hair, feathers, eggs, milk, airborne, aquatic, predator, toothed, backbone, breathes, venomous, fins, legs, tail, domestic, catsize):\n  if backbone <= 0.5:\n    return 0\n  else:  # if backbone > 0.5\n    if breathes <= 0.5:\n      if eggs <= 0.5:\n        return 1\n      else:  # if eggs > 0.5\n        return 0\n    else:  # if breathes > 0.5\n      if tail <= 0.5:\n        if eggs <= 0.5:\n          return 1\n        else:  # if eggs > 0.5\n          return 0\n      else:  # if tail > 0.5\n        if aquatic <= 0.5:\n          return 1\n        else:  # if aquatic > 0.5\n          if legs <= 0.375:\n            return 1\n          else:  # if legs > 0.375\n            if hair <= 0.5:\n              return 0\n            else:  # if hair > 0.5\n              return 1\n"
    }
   ],
   "source": [
    "tree_to_code(clf_dt, X_train.columns.to_list())"
   ]
  },
  {
   "cell_type": "code",
   "execution_count": 26,
   "metadata": {},
   "outputs": [],
   "source": [
    "import query\n",
    "import numpy as np\n",
    "\n",
    "feature_to_index = {}\n",
    "cnt = 0\n",
    "for feature in X_train.columns.tolist():\n",
    "        feature_to_index[feature] = cnt\n",
    "        cnt += 1\n",
    "\n",
    "def predict_function_query(x):\n",
    "        if(x[feature_to_index['tail']] == 0):\n",
    "                return True\n",
    "        return False\n",
    "\n",
    "q = query.Query(model = None, prediction_function = predict_function_query)\n",
    "\n",
    "\n",
    "from blackbox import BlackBox\n",
    "bb = BlackBox(clf_dt, clf_dt.predict)"
   ]
  },
  {
   "cell_type": "markdown",
   "metadata": {},
   "source": [
    "# implementation of teacher"
   ]
  },
  {
   "cell_type": "code",
   "execution_count": 28,
   "metadata": {
    "tags": []
   },
   "outputs": [
    {
     "output_type": "stream",
     "name": "stdout",
     "text": "\n-iteration: 1\n-could not find True counterexample. Only found False\n\n-iteration: 2\n-found True counterexample\n\n-iteration: 3\n-found False counterexample\n\n-iteration: 4\n-found True counterexample\n\n-iteration: 5\n-found False counterexample\n\n-iteration: 6\n-found True counterexample\n\n-iteration: 7\n-found False counterexample\n\n-iteration: 8\n-could not find True counterexample. Only found False\n\n-iteration: 9\n-found True counterexample\n\n-iteration: 10\n-found False counterexample\n\n-iteration: 11\n-could not find True counterexample. Only found False\n\n-iteration: 12\n-could not find True counterexample. Only found False\n\n-iteration: 13\n-no counterexample returned\n\nLearning complete\n-total examples checked: 1011\n\n\n--------------------------------%%%%%%-------------------------------\nLearned explanation =>  (and backbone (not (or eggs tail)))\nIs learning complete? True\ncorrect:  11 out of  11 examples. Percentage:  1.0\n"
    }
   ],
   "source": [
    "from teacher import Teacher\n",
    "from learner import Learner\n",
    "from sygus_if import SyGuS_IF\n",
    "\n",
    "sgf = SyGuS_IF(feature_names=dataObj.attributes, feature_data_type=dataObj.attribute_type, function_return_type= \"Bool\")\n",
    "l = Learner(model = sgf, prediction_function = sgf.predict_z3, train_function = sgf.fit, X = [], y=[] )\n",
    "\n",
    "t = Teacher(max_iterations=15,epsilon=0.05, delta=0.05)\n",
    "new_l, flag = t.teach(blackbox = bb, learner = l, query = q, random_example_generator = random_generator, params_generator = X_train)\n",
    "\n",
    "\n",
    "\n",
    "print(\"\\n\\n--------------------------------%%%%%%-------------------------------\")\n",
    "print(\"Learned explanation =>\", new_l.model._function_snippet)\n",
    "print(\"Is learning complete?\", flag)\n",
    "\n",
    "\n",
    "\n",
    "\n",
    "start_ = time.time()\n",
    "cnt = 0\n",
    "for example in X_test.values.tolist():\n",
    "\n",
    "    blackbox_verdict = bb.classify_example(example)\n",
    "    learner_verdict = new_l.classify_example(example)\n",
    "    query_verdict = q.classify_example(example)\n",
    "\n",
    "    if(learner_verdict == (blackbox_verdict and query_verdict)):\n",
    "        cnt += 1\n",
    "print(\"correct: \", cnt, \"out of \", len(y_test), \"examples. Percentage: \", cnt/len(y_test))\n",
    "# print(time.time() - start_)\n",
    "\n"
   ]
  },
  {
   "cell_type": "markdown",
   "metadata": {},
   "source": [
    "## Learning on Zoo dataset using SyGus"
   ]
  },
  {
   "cell_type": "code",
   "execution_count": 15,
   "metadata": {
    "tags": []
   },
   "outputs": [
    {
     "output_type": "stream",
     "name": "stdout",
     "text": "-number of samples: (before dropping nan rows) 101\n-number of samples: (after dropping nan rows) 101\n milk\nAccuracy: 1.0\n1.7959465980529785\nAccuracy: 1.0\n2.0942163467407227\n"
    }
   ],
   "source": [
    "from data.objects import zoo\n",
    "from sygus_if import SyGuS_IF\n",
    "\n",
    "dataObj = zoo.Zoo()\n",
    "df = dataObj.get_df()\n",
    "\n",
    "# fix target class\n",
    "target_class = 1 \n",
    "_temp = {}\n",
    "for i in range(1, len(df[dataObj.target].unique())+1):\n",
    "    if(i == target_class):\n",
    "        _temp[i] = 1\n",
    "    else:\n",
    "        _temp[i] = 0\n",
    "df[dataObj.target] = df[dataObj.target].map(_temp)\n",
    "\n",
    "# declaration of classifier, X and y\n",
    "sgf = SyGuS_IF(feature_names=dataObj.attributes, feature_data_type=dataObj.attribute_type, function_return_type= \"Bool\")\n",
    "X = df.drop([dataObj.target], axis=1)\n",
    "y = df[dataObj.target].tolist()\n",
    "\n",
    "# train\n",
    "sgf.fit(X,y)\n",
    "print(sgf._function_snippet)\n",
    "\n",
    "\n",
    "start_ = time.time()\n",
    "y_pred_test = sgf.predict_z3(X)\n",
    "print(\"Accuracy:\",metrics.accuracy_score(y, y_pred_test))\n",
    "print(time.time() - start_)\n",
    "\n",
    "\n",
    "start_ = time.time()\n",
    "y_pred_test = sgf.predict(X, y)\n",
    "print(\"Accuracy:\",metrics.accuracy_score(y, y_pred_test))\n",
    "print(time.time() - start_)"
   ]
  },
  {
   "cell_type": "code",
   "execution_count": null,
   "metadata": {},
   "outputs": [],
   "source": []
  }
 ],
 "metadata": {
  "language_info": {
   "codemirror_mode": {
    "name": "ipython",
    "version": 3
   },
   "file_extension": ".py",
   "mimetype": "text/x-python",
   "name": "python",
   "nbconvert_exporter": "python",
   "pygments_lexer": "ipython3",
   "version": "3.6.10-final"
  },
  "orig_nbformat": 2,
  "kernelspec": {
   "name": "python_defaultSpec_1595926394379",
   "display_name": "Python 3.6.10 64-bit ('base': conda)"
  }
 },
 "nbformat": 4,
 "nbformat_minor": 2
}