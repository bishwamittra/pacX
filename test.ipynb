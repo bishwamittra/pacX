{
 "cells": [
  {
   "cell_type": "code",
   "execution_count": 3,
   "metadata": {
    "tags": []
   },
   "outputs": [
    {
     "output_type": "stream",
     "name": "stdout",
     "text": "The autoreload extension is already loaded. To reload it, use:\n  %reload_ext autoreload\n"
    }
   ],
   "source": [
    "%load_ext autoreload\n",
    "%autoreload 2\n",
    "from sklearn import datasets\n",
    "import numpy as np\n",
    "import pandas as pd\n",
    "from sklearn.model_selection import train_test_split\n",
    "from lark import Lark\n",
    "import time \n",
    "from sklearn.preprocessing import MinMaxScaler"
   ]
  },
  {
   "cell_type": "markdown",
   "metadata": {},
   "source": [
    "# prepare dataset"
   ]
  },
  {
   "cell_type": "code",
   "execution_count": 4,
   "metadata": {},
   "outputs": [
    {
     "output_type": "execute_result",
     "data": {
      "text/plain": "     sepal length  sepal width  petal length  petal width\n52       0.722222     0.458333      0.661017     0.583333\n48       0.277778     0.708333      0.084746     0.041667\n116      0.611111     0.416667      0.762712     0.708333\n40       0.194444     0.625000      0.050847     0.083333\n79       0.388889     0.250000      0.423729     0.375000\n..            ...          ...           ...          ...\n88       0.361111     0.416667      0.525424     0.500000\n122      0.944444     0.333333      0.966102     0.791667\n18       0.388889     0.750000      0.118644     0.083333\n57       0.166667     0.166667      0.389831     0.375000\n7        0.194444     0.583333      0.084746     0.041667\n\n[135 rows x 4 columns]",
      "text/html": "<div>\n<style scoped>\n    .dataframe tbody tr th:only-of-type {\n        vertical-align: middle;\n    }\n\n    .dataframe tbody tr th {\n        vertical-align: top;\n    }\n\n    .dataframe thead th {\n        text-align: right;\n    }\n</style>\n<table border=\"1\" class=\"dataframe\">\n  <thead>\n    <tr style=\"text-align: right;\">\n      <th></th>\n      <th>sepal length</th>\n      <th>sepal width</th>\n      <th>petal length</th>\n      <th>petal width</th>\n    </tr>\n  </thead>\n  <tbody>\n    <tr>\n      <th>52</th>\n      <td>0.722222</td>\n      <td>0.458333</td>\n      <td>0.661017</td>\n      <td>0.583333</td>\n    </tr>\n    <tr>\n      <th>48</th>\n      <td>0.277778</td>\n      <td>0.708333</td>\n      <td>0.084746</td>\n      <td>0.041667</td>\n    </tr>\n    <tr>\n      <th>116</th>\n      <td>0.611111</td>\n      <td>0.416667</td>\n      <td>0.762712</td>\n      <td>0.708333</td>\n    </tr>\n    <tr>\n      <th>40</th>\n      <td>0.194444</td>\n      <td>0.625000</td>\n      <td>0.050847</td>\n      <td>0.083333</td>\n    </tr>\n    <tr>\n      <th>79</th>\n      <td>0.388889</td>\n      <td>0.250000</td>\n      <td>0.423729</td>\n      <td>0.375000</td>\n    </tr>\n    <tr>\n      <th>...</th>\n      <td>...</td>\n      <td>...</td>\n      <td>...</td>\n      <td>...</td>\n    </tr>\n    <tr>\n      <th>88</th>\n      <td>0.361111</td>\n      <td>0.416667</td>\n      <td>0.525424</td>\n      <td>0.500000</td>\n    </tr>\n    <tr>\n      <th>122</th>\n      <td>0.944444</td>\n      <td>0.333333</td>\n      <td>0.966102</td>\n      <td>0.791667</td>\n    </tr>\n    <tr>\n      <th>18</th>\n      <td>0.388889</td>\n      <td>0.750000</td>\n      <td>0.118644</td>\n      <td>0.083333</td>\n    </tr>\n    <tr>\n      <th>57</th>\n      <td>0.166667</td>\n      <td>0.166667</td>\n      <td>0.389831</td>\n      <td>0.375000</td>\n    </tr>\n    <tr>\n      <th>7</th>\n      <td>0.194444</td>\n      <td>0.583333</td>\n      <td>0.084746</td>\n      <td>0.041667</td>\n    </tr>\n  </tbody>\n</table>\n<p>135 rows × 4 columns</p>\n</div>"
     },
     "metadata": {},
     "execution_count": 4
    }
   ],
   "source": [
    "def sklearn_to_df(sklearn_dataset):\n",
    "    \"\"\" \n",
    "    Convert sklearn dataset to a dataframe, the class-label is renamed to \"target\"\n",
    "    \"\"\"\n",
    "    df = pd.DataFrame(sklearn_dataset.data, columns=sklearn_dataset.feature_names)\n",
    "    df['target'] = pd.Series(sklearn_dataset.target)\n",
    "    return df\n",
    "\n",
    "\n",
    "target = \"target\"\n",
    "dataset = datasets.load_iris()\n",
    "dataset[target] = np.where(dataset[target]==2, 0, dataset[target])\n",
    "\n",
    "\n",
    "\n",
    "# get df\n",
    "data = sklearn_to_df(dataset)\n",
    "\n",
    "# get X,y\n",
    "X = data.drop(['target'], axis=1)\n",
    "y = data['target']\n",
    "\n",
    "scaler = MinMaxScaler()\n",
    "X[X.columns] = scaler.fit_transform(X[X.columns])\n",
    "\n",
    "\n",
    "\n",
    "X.columns = ['sepal length', 'sepal width', 'petal length', 'petal width']\n",
    "\n",
    "\n",
    "# Split dataset into training set and test set\n",
    "X_train, X_test, y_train, y_test = train_test_split(X, y, test_size=0.1) # 70% training and 30% test\n",
    "\n",
    "\n",
    "X_train"
   ]
  },
  {
   "cell_type": "markdown",
   "metadata": {},
   "source": [
    "# train a black-box"
   ]
  },
  {
   "cell_type": "code",
   "execution_count": 5,
   "metadata": {
    "tags": []
   },
   "outputs": [
    {
     "output_type": "stream",
     "name": "stdout",
     "text": "Accuracy: 1.0\n[0]\n[0]\n"
    }
   ],
   "source": [
    "from sklearn.ensemble import RandomForestClassifier\n",
    "from sklearn.neural_network import MLPClassifier\n",
    "\n",
    "clf_rf=RandomForestClassifier(n_estimators=100)\n",
    "clf_mlp = MLPClassifier(random_state=1, max_iter=300).fit(X_train, y_train)\n",
    "\n",
    "clf_rf.fit(X_train,y_train)\n",
    "clf_mlp.fit(X_train,y_train)\n",
    "\n",
    "y_pred=clf_mlp.predict(X_test)\n",
    "\n",
    "#Import scikit-learn metrics module for accuracy calculation\n",
    "from sklearn import metrics\n",
    "# Model Accuracy, how often is the classifier correct?\n",
    "print(\"Accuracy:\",metrics.accuracy_score(y_test, y_pred))\n",
    "\n",
    "\n",
    "print(clf_rf.predict([[3, 5, 4, 2]]))\n",
    "print(clf_mlp.predict([[3, 5, 4, 2]]))"
   ]
  },
  {
   "cell_type": "markdown",
   "metadata": {
    "tags": []
   },
   "source": [
    "# create a random generator"
   ]
  },
  {
   "cell_type": "code",
   "execution_count": 6,
   "metadata": {
    "tags": []
   },
   "outputs": [
    {
     "output_type": "stream",
     "name": "stdout",
     "text": "[0.9732016535240183, 0.8082277456960519, 0.969532256501753, 0.12025199920529406]\n[0]\n[1]\n[0.9848535135245551, 0.24106511385383222, 0.08084031599239716, 0.3758672091438924]\n[0]\n[1]\n[0.1623359079550395, 0.24381385461971572, 0.9972108407224352, 0.6847181026245915]\n[0]\n[1]\n[0.31899360857929326, 0.7716619341429445, 0.2030555130055769, 0.9973000177236226]\n[0]\n[0]\n[0.6658975698676909, 0.22466363688295432, 0.7689939617338137, 0.23984531292860767]\n[0]\n[1]\n"
    }
   ],
   "source": [
    "\n",
    "import random\n",
    "def random_generator(X):\n",
    "    num_attributes = len(X.columns)\n",
    "    x=[]\n",
    "    for i in range(num_attributes):\n",
    "        x.append(random.uniform(X[X.columns[i]].min(),X[X.columns[i]].max()))\n",
    "    return x\n",
    "\n",
    "for i in range(5):\n",
    "    x = random_generator(X)\n",
    "    print(x)\n",
    "    print(clf_rf.predict([x]))\n",
    "    print(clf_mlp.predict([x]))"
   ]
  },
  {
   "cell_type": "markdown",
   "metadata": {
    "tags": []
   },
   "source": [
    "# implementation of learner"
   ]
  },
  {
   "cell_type": "code",
   "execution_count": 14,
   "metadata": {
    "tags": []
   },
   "outputs": [],
   "source": []
  },
  {
   "cell_type": "code",
   "execution_count": 7,
   "metadata": {
    "tags": []
   },
   "outputs": [],
   "source": [
    "from sygus_if import SyGuS_IF\n",
    "# X = [\n",
    "#     [1,2,1,1],\n",
    "#     [-1.1,1,1,42]\n",
    "# ]\n",
    "# y = [\n",
    "#     1,\n",
    "#     0\n",
    "# ]"
   ]
  },
  {
   "cell_type": "code",
   "execution_count": 8,
   "metadata": {
    "tags": []
   },
   "outputs": [],
   "source": [
    "# start_ = time.time()\n",
    "\n",
    "\n",
    "\n",
    "# y_pred_test = sgf.predict_z3(X_test)\n",
    "# print(\"Accuracy:\",metrics.accuracy_score(y_test, y_pred_test))\n",
    "# y_pred_train = sgf.predict_z3(X_train)\n",
    "# print(\"Accuracy:\",metrics.accuracy_score(y_train, y_pred_train))\n",
    "# print(y_pred_test)\n",
    "# print(time.time() - start_)"
   ]
  },
  {
   "cell_type": "code",
   "execution_count": 9,
   "metadata": {
    "tags": []
   },
   "outputs": [],
   "source": [
    "\n",
    "\n",
    "# start_ = time.time()\n",
    "\n",
    "# y_pred_test = sgf.predict(X_test, y_test)\n",
    "# print(\"Accuracy:\",metrics.accuracy_score(y_test, y_pred_test))\n",
    "# y_pred_train = sgf.predict(X_train, y_train)\n",
    "# print(\"Accuracy:\",metrics.accuracy_score(y_train, y_pred_train))\n",
    "\n",
    "# print(time.time() - start_)"
   ]
  },
  {
   "cell_type": "markdown",
   "metadata": {},
   "source": [
    "# implementation of the query"
   ]
  },
  {
   "cell_type": "code",
   "execution_count": 47,
   "metadata": {},
   "outputs": [
    {
     "output_type": "execute_result",
     "data": {
      "text/plain": "False"
     },
     "metadata": {},
     "execution_count": 47
    }
   ],
   "source": [
    "import query\n",
    "import numpy as np\n",
    "def predict_function_query(x):\n",
    "    a = np.array([0.5, 0.5, 0.5, 0.5])\n",
    "    dist = np.linalg.norm(a-np.array(x))\n",
    "    if(dist < 0.5):\n",
    "        return True\n",
    "    else:\n",
    "        return False\n",
    "\n",
    "q = query.Query(model = None, prediction_function = predict_function_query)\n",
    "q.classify_example([1, 0.5, 0.5, 0.55])"
   ]
  },
  {
   "cell_type": "markdown",
   "metadata": {},
   "source": [
    "# implementation of black-box"
   ]
  },
  {
   "cell_type": "code",
   "execution_count": 48,
   "metadata": {},
   "outputs": [
    {
     "output_type": "execute_result",
     "data": {
      "text/plain": "False"
     },
     "metadata": {},
     "execution_count": 48
    }
   ],
   "source": [
    "from blackbox import BlackBox\n",
    "bb = BlackBox(clf_mlp, clf_mlp.predict)\n",
    "bb.classify_example([3, 5, 4, 2])"
   ]
  },
  {
   "cell_type": "markdown",
   "metadata": {},
   "source": [
    "# implementation of teacher"
   ]
  },
  {
   "cell_type": "code",
   "execution_count": 59,
   "metadata": {
    "tags": []
   },
   "outputs": [
    {
     "output_type": "stream",
     "name": "stderr",
     "text": "0%|          | 0/3 [00:00<?, ?it/s]True False False 0\n100%|██████████| 3/3 [00:00<00:00,  3.80it/s]False True True 1\nTrue False False 0\nTotal examples checked: 26\n\n\nLearning complete\nIs learning complete? False\n(define-fun func ((x_0 Real) (x_1 Real) (x_2 Real) (x_3 Real)) Real (ite (>= x_2 (/ 1 2)) (ite (< x_1 (/ 1 2)) 0 0) 1))\n[0, 1, 0]\n\n"
    }
   ],
   "source": [
    "from teacher import Teacher\n",
    "from learner import Learner\n",
    "sgf = SyGuS_IF()\n",
    "l = Learner(model = sgf, prediction_function = sgf.predict_z3, train_function = sgf.fit, X = [], y=[] )\n",
    "\n",
    "t = Teacher(max_iterations=3,epsilon=0.03, delta=0.03)\n",
    "new_l, flag = t.teach(blackbox = bb, learner = l, query = q, random_example_generator = random_generator, params_generator = X)\n",
    "print()\n",
    "print(\"\\nLearning complete\")\n",
    "print(\"Is learning complete?\", flag)\n",
    "print(new_l.model.synthesized_function)\n",
    "print(new_l.y)"
   ]
  },
  {
   "cell_type": "code",
   "execution_count": 56,
   "metadata": {
    "tags": []
   },
   "outputs": [
    {
     "output_type": "stream",
     "name": "stdout",
     "text": "correct:  119 out of  150 examples. Percentage:  0.7933333333333333\n3.652432680130005\n"
    }
   ],
   "source": [
    "start_ = time.time()\n",
    "\n",
    "cnt = 0\n",
    "for example in X.values.tolist():\n",
    "\n",
    "    blackbox_verdict = bb.classify_example(example)\n",
    "    learner_verdict = new_l.classify_example(example)\n",
    "    query_verdict = q.classify_example(example)\n",
    "\n",
    "    if(learner_verdict == (blackbox_verdict and query_verdict)):\n",
    "        cnt += 1\n",
    "print(\"correct: \", cnt, \"out of \", len(y), \"examples. Percentage: \", cnt/len(y))\n",
    "print(time.time() - start_)"
   ]
  },
  {
   "cell_type": "code",
   "execution_count": null,
   "metadata": {},
   "outputs": [],
   "source": []
  },
  {
   "cell_type": "code",
   "execution_count": null,
   "metadata": {},
   "outputs": [],
   "source": []
  }
 ],
 "metadata": {
  "language_info": {
   "codemirror_mode": {
    "name": "ipython",
    "version": 3
   },
   "file_extension": ".py",
   "mimetype": "text/x-python",
   "name": "python",
   "nbconvert_exporter": "python",
   "pygments_lexer": "ipython3",
   "version": "3.6.10-final"
  },
  "orig_nbformat": 2,
  "kernelspec": {
   "name": "python_defaultSpec_1595233500763",
   "display_name": "Python 3.6.10 64-bit ('base': conda)"
  }
 },
 "nbformat": 4,
 "nbformat_minor": 2
}