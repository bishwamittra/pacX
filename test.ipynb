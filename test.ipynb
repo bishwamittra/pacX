{
 "cells": [
  {
   "cell_type": "code",
   "execution_count": 1,
   "metadata": {
    "tags": []
   },
   "outputs": [],
   "source": [
    "%load_ext autoreload\n",
    "%autoreload 2\n",
    "from sklearn import datasets\n",
    "import numpy as np\n",
    "import pandas as pd\n",
    "from sklearn.model_selection import train_test_split\n",
    "from lark import Lark\n",
    "import time "
   ]
  },
  {
   "cell_type": "markdown",
   "metadata": {},
   "source": [
    "# prepare dataset"
   ]
  },
  {
   "cell_type": "code",
   "execution_count": 2,
   "metadata": {},
   "outputs": [],
   "source": [
    "def sklearn_to_df(sklearn_dataset):\n",
    "    \"\"\" \n",
    "    Convert sklearn dataset to a dataframe, the class-label is renamed to \"target\"\n",
    "    \"\"\"\n",
    "    df = pd.DataFrame(sklearn_dataset.data, columns=sklearn_dataset.feature_names)\n",
    "    df['target'] = pd.Series(sklearn_dataset.target)\n",
    "    return df\n",
    "\n",
    "\n",
    "target = \"target\"\n",
    "dataset = datasets.load_iris()\n",
    "dataset[target] = np.where(dataset[target]==2, 0, dataset[target])\n",
    "\n",
    "\n",
    "\n",
    "# get df\n",
    "data = sklearn_to_df(dataset)\n",
    "\n",
    "# get X,y\n",
    "X = data.drop(['target'], axis=1)\n",
    "y = data['target']\n",
    "\n",
    "X.columns = ['sepal length', 'sepal width', 'petal length', 'petal width']\n",
    "\n",
    "\n",
    "# Split dataset into training set and test set\n",
    "X_train, X_test, y_train, y_test = train_test_split(X, y, test_size=0.1) # 70% training and 30% test\n",
    "\n",
    "\n"
   ]
  },
  {
   "cell_type": "markdown",
   "metadata": {},
   "source": [
    "# train a black-box"
   ]
  },
  {
   "cell_type": "code",
   "execution_count": 3,
   "metadata": {
    "tags": []
   },
   "outputs": [
    {
     "output_type": "stream",
     "name": "stdout",
     "text": "Accuracy: 0.9333333333333333\n[1]\n[0]\n"
    }
   ],
   "source": [
    "from sklearn.ensemble import RandomForestClassifier\n",
    "from sklearn.neural_network import MLPClassifier\n",
    "\n",
    "clf_rf=RandomForestClassifier(n_estimators=100)\n",
    "clf_mlp = MLPClassifier(random_state=1, max_iter=300).fit(X_train, y_train)\n",
    "\n",
    "clf_rf.fit(X_train,y_train)\n",
    "clf_mlp.fit(X_train,y_train)\n",
    "\n",
    "y_pred=clf_mlp.predict(X_test)\n",
    "\n",
    "#Import scikit-learn metrics module for accuracy calculation\n",
    "from sklearn import metrics\n",
    "# Model Accuracy, how often is the classifier correct?\n",
    "print(\"Accuracy:\",metrics.accuracy_score(y_test, y_pred))\n",
    "\n",
    "\n",
    "print(clf_rf.predict([[3, 5, 4, 2]]))\n",
    "print(clf_mlp.predict([[3, 5, 4, 2]]))"
   ]
  },
  {
   "cell_type": "markdown",
   "metadata": {
    "tags": []
   },
   "source": [
    "# create a random generator"
   ]
  },
  {
   "cell_type": "code",
   "execution_count": 4,
   "metadata": {
    "tags": []
   },
   "outputs": [
    {
     "output_type": "stream",
     "name": "stdout",
     "text": "[7.8168659283006185, 2.146322080077088, 5.038241224325036, 0.36593311647039706]\n[0]\n[1]\n[7.586024143944473, 2.816257156027497, 6.443621555661401, 0.29878300446239736]\n[0]\n[1]\n[5.659587313486211, 3.090570560561754, 3.047413696747793, 0.7190902567353016]\n[1]\n[0]\n[5.039674180189529, 2.392833340404275, 2.5475575390850462, 2.2801594003677885]\n[0]\n[0]\n[5.758233840103882, 3.0313050737047007, 4.958412591743274, 1.7936062728180715]\n[0]\n[0]\n"
    }
   ],
   "source": [
    "\n",
    "import random\n",
    "def random_generator(X):\n",
    "    num_attributes = len(X.columns)\n",
    "    x=[]\n",
    "    for i in range(num_attributes):\n",
    "        x.append(random.uniform(X[X.columns[i]].min(),X[X.columns[i]].max()))\n",
    "    return x\n",
    "\n",
    "for i in range(5):\n",
    "    x = random_generator(X)\n",
    "    print(x)\n",
    "    print(clf_rf.predict([x]))\n",
    "    print(clf_mlp.predict([x]))"
   ]
  },
  {
   "cell_type": "markdown",
   "metadata": {
    "tags": []
   },
   "source": [
    "# implementation of learner"
   ]
  },
  {
   "cell_type": "code",
   "execution_count": 14,
   "metadata": {
    "tags": []
   },
   "outputs": [],
   "source": []
  },
  {
   "cell_type": "code",
   "execution_count": 5,
   "metadata": {
    "tags": []
   },
   "outputs": [],
   "source": [
    "from sygus_if import SyGuS_IF\n",
    "# X = [\n",
    "#     [1,2,1,1],\n",
    "#     [-1.1,1,1,42]\n",
    "# ]\n",
    "# y = [\n",
    "#     1,\n",
    "#     0\n",
    "# ]"
   ]
  },
  {
   "cell_type": "code",
   "execution_count": 6,
   "metadata": {
    "tags": []
   },
   "outputs": [],
   "source": [
    "# start_ = time.time()\n",
    "\n",
    "\n",
    "\n",
    "# y_pred_test = sgf.predict_z3(X_test)\n",
    "# print(\"Accuracy:\",metrics.accuracy_score(y_test, y_pred_test))\n",
    "# y_pred_train = sgf.predict_z3(X_train)\n",
    "# print(\"Accuracy:\",metrics.accuracy_score(y_train, y_pred_train))\n",
    "# print(y_pred_test)\n",
    "# print(time.time() - start_)"
   ]
  },
  {
   "cell_type": "code",
   "execution_count": 7,
   "metadata": {
    "tags": []
   },
   "outputs": [],
   "source": [
    "\n",
    "\n",
    "# start_ = time.time()\n",
    "\n",
    "# y_pred_test = sgf.predict(X_test, y_test)\n",
    "# print(\"Accuracy:\",metrics.accuracy_score(y_test, y_pred_test))\n",
    "# y_pred_train = sgf.predict(X_train, y_train)\n",
    "# print(\"Accuracy:\",metrics.accuracy_score(y_train, y_pred_train))\n",
    "\n",
    "# print(time.time() - start_)"
   ]
  },
  {
   "cell_type": "markdown",
   "metadata": {},
   "source": [
    "# implementation of the query"
   ]
  },
  {
   "cell_type": "code",
   "execution_count": 8,
   "metadata": {},
   "outputs": [
    {
     "output_type": "execute_result",
     "data": {
      "text/plain": "True"
     },
     "metadata": {},
     "execution_count": 8
    }
   ],
   "source": [
    "import query\n",
    "def predict_function_query(x):\n",
    "    return True\n",
    "\n",
    "q = query.Query(model = None, prediction_function = predict_function_query)\n",
    "q.classify_example([3, 5, 4, 2])"
   ]
  },
  {
   "cell_type": "markdown",
   "metadata": {},
   "source": [
    "# implementation of black-box"
   ]
  },
  {
   "cell_type": "code",
   "execution_count": 9,
   "metadata": {},
   "outputs": [
    {
     "output_type": "execute_result",
     "data": {
      "text/plain": "False"
     },
     "metadata": {},
     "execution_count": 9
    }
   ],
   "source": [
    "from blackbox import BlackBox\n",
    "bb = BlackBox(clf_mlp, clf_mlp.predict)\n",
    "bb.classify_example([3, 5, 4, 2])"
   ]
  },
  {
   "cell_type": "markdown",
   "metadata": {},
   "source": [
    "# implementation of learner"
   ]
  },
  {
   "cell_type": "code",
   "execution_count": 91,
   "metadata": {
    "tags": []
   },
   "outputs": [
    {
     "output_type": "stream",
     "name": "stdout",
     "text": "(define-fun func ((x_0 Real) (x_1 Real) (x_2 Real) (x_3 Real)) Real 1)\n"
    }
   ],
   "source": []
  },
  {
   "cell_type": "markdown",
   "metadata": {},
   "source": [
    "# implementation of teacher"
   ]
  },
  {
   "cell_type": "code",
   "execution_count": 33,
   "metadata": {
    "tags": []
   },
   "outputs": [
    {
     "output_type": "stream",
     "name": "stderr",
     "text": "100%|██████████| 50/50 [00:13<00:00,  3.80it/s]False\n(define-fun func ((x_0 Real) (x_1 Real) (x_2 Real) (x_3 Real)) Real (ite (>= x_3 (/ 1 5)) (ite (>= x_0 (/ 13 3)) (ite (>= x_3 (/ 1 4)) (ite (>= x_3 (/ 1 3)) (ite (>= x_0 (/ 9 2)) (ite (< x_2 6) (ite (< x_3 2) (ite (< x_3 (/ 3 2)) (ite (< x_2 5) (ite (>= x_2 (/ 4 3)) (ite (>= x_1 (/ 5 2)) (ite (>= x_0 5) (ite (>= x_1 3) (ite (< x_1 4) (ite (< x_3 1) (ite (>= x_3 (/ 1 2)) (ite (>= x_2 3) 1 0) (ite (< x_0 6) 0 (ite (>= x_2 3) 1 0))) (ite (< x_2 4) 0 (ite (< x_0 6) 0 1))) (ite (< x_3 1) (ite (< x_3 (/ 1 2)) (ite (>= x_2 4) 1 0) 0) (ite (< x_2 4) 0 1))) (ite (< x_3 1) 1 (ite (< x_2 4) 0 1))) (ite (>= x_1 3) 0 (ite (< x_3 1) (ite (< x_3 (/ 1 2)) (ite (< x_2 2) 0 1) 0) 1))) (ite (>= x_0 5) (ite (< x_3 1) (ite (< x_3 (/ 1 2)) 1 (ite (>= x_2 4) 1 (ite (< x_0 6) 0 1))) 1) 0)) (ite (>= x_1 (/ 5 2)) 0 (ite (>= x_0 5) 1 0))) (ite (>= x_0 5) (ite (>= x_1 3) (ite (< x_1 4) (ite (< x_0 6) 0 (ite (>= x_2 3) 1 0)) (ite (< x_3 1) (ite (< x_3 (/ 1 2)) (ite (>= x_2 4) 1 0) 0) (ite (< x_2 4) 0 1))) 0) (ite (< x_3 1) (ite (< x_3 (/ 1 2)) (ite (< x_2 2) 0 1) 0) 0))) (ite (< x_0 7) (ite (>= x_2 (/ 3 2)) (ite (>= x_1 3) 0 0) (ite (>= x_1 (/ 5 2)) 0 0)) (ite (< x_2 5) (ite (>= x_2 (/ 3 2)) (ite (>= x_1 (/ 7 2)) 0 1) (ite (>= x_1 (/ 5 2)) 0 0)) 0))) (ite (< x_0 7) 0 (ite (< x_1 3) (ite (>= x_1 (/ 11 4)) (ite (< x_2 4) 1 0) 1) 0))) (ite (< x_3 2) (ite (>= x_3 (/ 3 2)) 0 1) 0)) (ite (< x_2 5) (ite (>= x_2 (/ 4 3)) (ite (>= x_1 (/ 5 2)) (ite (>= x_0 5) (ite (>= x_1 3) (ite (< x_1 4) (ite (< x_3 1) (ite (>= x_3 (/ 1 2)) (ite (>= x_2 3) 1 0) (ite (< x_0 6) 0 (ite (>= x_2 3) 1 0))) (ite (< x_2 4) 0 (ite (< x_0 6) 0 1))) (ite (< x_3 1) (ite (< x_3 (/ 1 2)) (ite (>= x_2 4) 1 0) 0) (ite (< x_2 4) 0 1))) (ite (< x_3 1) 1 (ite (< x_2 4) 0 1))) (ite (>= x_1 3) 0 (ite (< x_3 1) (ite (< x_3 (/ 1 2)) (ite (< x_2 2) 0 1) 0) 1))) (ite (>= x_0 5) (ite (< x_3 1) (ite (< x_3 (/ 1 2)) 1 (ite (>= x_2 4) 1 (ite (< x_0 6) 0 1))) 1) 0)) (ite (>= x_1 (/ 5 2)) 0 (ite (>= x_0 5) 1 0))) (ite (>= x_0 5) (ite (>= x_1 3) (ite (< x_1 4) (ite (< x_0 6) 0 (ite (>= x_2 3) 1 0)) (ite (< x_3 1) (ite (< x_3 (/ 1 2)) (ite (>= x_2 4) 1 0) 0) (ite (< x_2 4) 0 1))) 0) (ite (< x_3 1) (ite (< x_3 (/ 1 2)) (ite (< x_2 2) 0 1) 0) 0)))) (ite (< x_0 7) (ite (>= x_0 5) (ite (< x_3 1) (ite (< x_3 (/ 1 2)) 1 (ite (>= x_2 4) 1 (ite (< x_0 6) 0 1))) 1) 0) (ite (>= x_3 (/ 1 2)) (ite (>= x_2 3) 1 0) (ite (< x_0 6) 0 (ite (>= x_2 3) 1 0))))) 0) (ite (>= x_2 (/ 4 3)) (ite (>= x_1 (/ 5 2)) (ite (>= x_0 5) (ite (>= x_1 3) (ite (< x_1 4) (ite (< x_3 1) (ite (>= x_3 (/ 1 2)) (ite (>= x_2 3) 1 0) (ite (< x_0 6) 0 (ite (>= x_2 3) 1 0))) (ite (< x_2 4) 0 (ite (< x_0 6) 0 1))) (ite (< x_3 1) (ite (< x_3 (/ 1 2)) (ite (>= x_2 4) 1 0) 0) (ite (< x_2 4) 0 1))) (ite (< x_3 1) 1 (ite (< x_2 4) 0 1))) (ite (>= x_1 3) 0 (ite (< x_3 1) (ite (< x_3 (/ 1 2)) (ite (< x_2 2) 0 1) 0) 1))) (ite (>= x_0 5) (ite (< x_3 1) (ite (< x_3 (/ 1 2)) 1 (ite (>= x_2 4) 1 (ite (< x_0 6) 0 1))) 1) 0)) (ite (>= x_1 (/ 5 2)) 0 (ite (>= x_0 5) 1 0)))) (ite (< x_2 6) (ite (< x_0 7) 0 (ite (< x_3 1) (ite (< x_3 (/ 1 2)) (ite (>= x_2 4) 1 0) 0) (ite (< x_2 4) 0 1))) (ite (< x_3 (/ 1 2)) (ite (< x_2 2) 0 1) 0))))\n[0, 1, 0, 1, 1, 0, 0, 0, 0, 1, 0, 0, 1, 0, 1, 1, 0, 1, 0, 0, 1, 0, 0, 0, 0, 0, 0, 1, 0, 0, 0, 0, 1, 1, 0, 0, 1, 0, 0, 1, 0, 1, 1, 1, 0, 1, 0, 0, 1, 0, 1]\n\n"
    }
   ],
   "source": [
    "from teacher import Teacher\n",
    "from learner import Learner\n",
    "sgf = SyGuS_IF()\n",
    "l = Learner(model = sgf, prediction_function = sgf.predict_z3, train_function = sgf.fit, X = X_train.iloc[[0]].values.tolist() , y = y_train.iloc[[0]].values.tolist() )\n",
    "l.fit()\n",
    "\n",
    "\n",
    "t = Teacher(max_iterations=50)\n",
    "new_l, flag = t.teach(blackbox = bb, learner = l, query = q, random_example_generator = random_generator, params_generator = X)\n",
    "print(flag)\n",
    "print(new_l.model.synthesized_function)\n",
    "print(new_l.y)"
   ]
  },
  {
   "cell_type": "code",
   "execution_count": 34,
   "metadata": {
    "tags": []
   },
   "outputs": [
    {
     "output_type": "stream",
     "name": "stdout",
     "text": "Accuracy: 0.6\nAccuracy: 0.837037037037037\n[0, 0, 0, 0, 0, 1, 0, 0, 0, 0, 0, 0, 0, 1, 0]\n1.9271278381347656\n"
    }
   ],
   "source": [
    "start_ = time.time()\n",
    "y_pred_test = new_l.model.predict_z3(X_test.values.tolist())\n",
    "print(\"Accuracy:\",metrics.accuracy_score(y_test, y_pred_test))\n",
    "y_pred_train = new_l.model.predict_z3(X_train.values.tolist())\n",
    "print(\"Accuracy:\",metrics.accuracy_score(y_train, y_pred_train))\n",
    "print(time.time() - start_)"
   ]
  },
  {
   "cell_type": "code",
   "execution_count": null,
   "metadata": {},
   "outputs": [],
   "source": []
  }
 ],
 "metadata": {
  "language_info": {
   "codemirror_mode": {
    "name": "ipython",
    "version": 3
   },
   "file_extension": ".py",
   "mimetype": "text/x-python",
   "name": "python",
   "nbconvert_exporter": "python",
   "pygments_lexer": "ipython3",
   "version": "3.6.10-final"
  },
  "orig_nbformat": 2,
  "kernelspec": {
   "name": "python_defaultSpec_1595213120004",
   "display_name": "Python 3.6.10 64-bit ('base': conda)"
  }
 },
 "nbformat": 4,
 "nbformat_minor": 2
}