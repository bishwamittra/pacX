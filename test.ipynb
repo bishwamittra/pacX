{
 "cells": [
  {
   "cell_type": "code",
   "execution_count": 5,
   "metadata": {
    "tags": []
   },
   "outputs": [
    {
     "output_type": "stream",
     "name": "stdout",
     "text": "The autoreload extension is already loaded. To reload it, use:\n  %reload_ext autoreload\n"
    }
   ],
   "source": [
    "%load_ext autoreload\n",
    "%autoreload 2\n",
    "from sklearn import datasets\n",
    "import numpy as np\n",
    "import pandas as pd\n",
    "from sklearn.model_selection import train_test_split\n"
   ]
  },
  {
   "cell_type": "code",
   "execution_count": 6,
   "metadata": {},
   "outputs": [],
   "source": [
    "def sklearn_to_df(sklearn_dataset):\n",
    "    \"\"\" \n",
    "    Convert sklearn dataset to a dataframe, the class-label is renamed to \"target\"\n",
    "    \"\"\"\n",
    "    df = pd.DataFrame(sklearn_dataset.data, columns=sklearn_dataset.feature_names)\n",
    "    df['target'] = pd.Series(sklearn_dataset.target)\n",
    "    return df"
   ]
  },
  {
   "cell_type": "code",
   "execution_count": 7,
   "metadata": {},
   "outputs": [],
   "source": [
    "target = \"target\"\n",
    "dataset = datasets.load_iris()\n",
    "dataset[target] = np.where(dataset[target]==2, 0, dataset[target])"
   ]
  },
  {
   "cell_type": "code",
   "execution_count": 21,
   "metadata": {},
   "outputs": [],
   "source": [
    "# get df\n",
    "data = sklearn_to_df(dataset)\n",
    "\n",
    "# get X,y\n",
    "X = data.drop(['target'], axis=1)\n",
    "y = data['target']\n",
    "\n",
    "X.columns = ['sepal length', 'sepal width', 'petal length', 'petal width']\n",
    "\n",
    "\n",
    "# Split dataset into training set and test set\n",
    "X_train, X_test, y_train, y_test = train_test_split(X, y, test_size=0.1) # 70% training and 30% test"
   ]
  },
  {
   "cell_type": "code",
   "execution_count": 22,
   "metadata": {},
   "outputs": [],
   "source": [
    "from sklearn.ensemble import RandomForestClassifier\n",
    "from sklearn.neural_network import MLPClassifier\n",
    "\n",
    "clf_rf=RandomForestClassifier(n_estimators=100)\n",
    "clf_mlp = MLPClassifier(random_state=1, max_iter=300).fit(X_train, y_train)\n",
    "\n",
    "clf_rf.fit(X_train,y_train)\n",
    "clf_mlp.fit(X_train,y_train)\n",
    "\n",
    "y_pred=clf_mlp.predict(X_test)"
   ]
  },
  {
   "cell_type": "code",
   "execution_count": 23,
   "metadata": {
    "tags": []
   },
   "outputs": [
    {
     "output_type": "stream",
     "name": "stdout",
     "text": "Accuracy: 1.0\n"
    }
   ],
   "source": [
    "#Import scikit-learn metrics module for accuracy calculation\n",
    "from sklearn import metrics\n",
    "# Model Accuracy, how often is the classifier correct?\n",
    "print(\"Accuracy:\",metrics.accuracy_score(y_test, y_pred))"
   ]
  },
  {
   "cell_type": "code",
   "execution_count": 24,
   "metadata": {
    "tags": []
   },
   "outputs": [
    {
     "output_type": "stream",
     "name": "stdout",
     "text": "[0]\n[0]\n"
    }
   ],
   "source": [
    "print(clf_rf.predict([[3, 5, 4, 2]]))\n",
    "print(clf_mlp.predict([[3, 5, 4, 2]]))"
   ]
  },
  {
   "cell_type": "code",
   "execution_count": 25,
   "metadata": {},
   "outputs": [],
   "source": [
    "# create a random generator\n",
    "import random\n",
    "def random_generator(X):\n",
    "    num_attributes = len(X.columns)\n",
    "    x=[]\n",
    "    for i in range(num_attributes):\n",
    "        x.append(random.uniform(X[X.columns[i]].min(),X[X.columns[i]].max()))\n",
    "    return x\n",
    "\n"
   ]
  },
  {
   "cell_type": "code",
   "execution_count": 26,
   "metadata": {
    "tags": []
   },
   "outputs": [
    {
     "output_type": "stream",
     "name": "stdout",
     "text": "[4.351054989568278, 4.3570348555949145, 4.491423827688905, 0.34681966914231593]\n[0]\n[0]\n[6.469401971694088, 2.176455313285955, 1.8868169414331404, 1.739448071664315]\n[0]\n[1]\n[4.85299411574609, 2.959935273381828, 2.28430315179705, 2.3280056907555897]\n[0]\n[0]\n[4.430649385878211, 4.386912083286276, 4.471077053736142, 0.7207619409225728]\n[0]\n[0]\n[5.034024085905356, 2.140970292274957, 1.0985488595602984, 0.4681777518654344]\n[0]\n[0]\n"
    }
   ],
   "source": [
    "for i in range(5):\n",
    "    x = random_generator(X)\n",
    "    print(x)\n",
    "    print(clf_rf.predict([x]))\n",
    "    print(clf_mlp.predict([x]))"
   ]
  },
  {
   "cell_type": "code",
   "execution_count": 27,
   "metadata": {},
   "outputs": [],
   "source": [
    "from blackbox import BlackBox\n",
    "bb = BlackBox(clf_mlp, clf_mlp.predict)"
   ]
  },
  {
   "cell_type": "code",
   "execution_count": 28,
   "metadata": {
    "tags": []
   },
   "outputs": [
    {
     "output_type": "execute_result",
     "data": {
      "text/plain": "0"
     },
     "metadata": {},
     "execution_count": 28
    }
   ],
   "source": [
    "bb.classify_example([3, 5, 4, 2])"
   ]
  },
  {
   "cell_type": "code",
   "execution_count": 29,
   "metadata": {
    "tags": []
   },
   "outputs": [],
   "source": [
    "from sygus_if import SyGuS_IF\n",
    "X = [\n",
    "    [1,2,1,1],\n",
    "    [-1.1,1,1,42]\n",
    "]\n",
    "y = [\n",
    "    1,\n",
    "    0\n",
    "]"
   ]
  },
  {
   "cell_type": "code",
   "execution_count": 30,
   "metadata": {
    "tags": []
   },
   "outputs": [
    {
     "output_type": "stream",
     "name": "stdout",
     "text": "(define-fun func ((sepal_length Real) (sepal_width Real) (petal_length Real) (petal_width Real)) Real (ite (not (= petal_width 1)) (ite (> petal_length 1) (ite (>= sepal_length 5) (ite (< sepal_width 4) (ite (> sepal_length 5) (ite (>= petal_length 2) (ite (<= sepal_width 3) (ite (< sepal_width 3) (ite (>= sepal_length 6) (ite (>= petal_width 2) 0 (ite (= petal_length 4) (* (/ 1 4) petal_length) 0)) 1) 0) (- petal_width (/ 1 2))) 0) 0) 0) 0) (- petal_length 1)) petal_width))\n"
    }
   ],
   "source": [
    "sgf = SyGuS_IF()\n",
    "# sgf.fit(X,y)\n",
    "sgf.fit(X_test,y_test)\n",
    "print(sgf.synthesized_function)"
   ]
  },
  {
   "cell_type": "code",
   "execution_count": 16,
   "metadata": {
    "tags": []
   },
   "outputs": [
    {
     "output_type": "stream",
     "name": "stdout",
     "text": "Accuracy: 0.6666666666666666\nAccuracy: 0.6666666666666666\n"
    }
   ],
   "source": [
    "y_pred_test = sgf.predict(X_test, y_test)\n",
    "print(\"Accuracy:\",metrics.accuracy_score(y_test, y_pred_test))\n",
    "y_pred_train = sgf.predict(X_train, y_train)\n",
    "print(\"Accuracy:\",metrics.accuracy_score(y_train, y_pred_train))"
   ]
  },
  {
   "cell_type": "code",
   "execution_count": null,
   "metadata": {},
   "outputs": [],
   "source": []
  }
 ],
 "metadata": {
  "language_info": {
   "codemirror_mode": {
    "name": "ipython",
    "version": 3
   },
   "file_extension": ".py",
   "mimetype": "text/x-python",
   "name": "python",
   "nbconvert_exporter": "python",
   "pygments_lexer": "ipython3",
   "version": "3.7.4-final"
  },
  "orig_nbformat": 2,
  "kernelspec": {
   "name": "python3",
   "display_name": "Python 3"
  }
 },
 "nbformat": 4,
 "nbformat_minor": 2
}