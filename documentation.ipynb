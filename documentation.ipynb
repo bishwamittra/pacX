{
 "metadata": {
  "language_info": {
   "codemirror_mode": {
    "name": "ipython",
    "version": 3
   },
   "file_extension": ".py",
   "mimetype": "text/x-python",
   "name": "python",
   "nbconvert_exporter": "python",
   "pygments_lexer": "ipython3",
   "version": "3.7.6-final"
  },
  "orig_nbformat": 2,
  "kernelspec": {
   "name": "python37664bitbaseconda80e1cfdfccea47ebb630fdeddfb8e020",
   "display_name": "Python 3.7.6 64-bit ('base': conda)"
  }
 },
 "nbformat": 4,
 "nbformat_minor": 2,
 "cells": [
  {
   "source": [
    "#### Load libraries"
   ],
   "cell_type": "markdown",
   "metadata": {}
  },
  {
   "cell_type": "code",
   "execution_count": 1,
   "metadata": {},
   "outputs": [],
   "source": [
    "# standard libraries\n",
    "from sklearn.model_selection import train_test_split\n",
    "import pickle\n",
    "import pandas as pd\n",
    "import numpy as np\n",
    "from tqdm import tqdm\n",
    "from sklearn.ensemble import RandomForestClassifier\n",
    "from sklearn.neural_network import MLPClassifier\n",
    "from sklearn.model_selection import GridSearchCV\n",
    "from sklearn import tree\n",
    "from sklearn.metrics import roc_auc_score\n",
    "\n",
    "\n",
    "# from our code-base\n",
    "import pac_explanation\n",
    "from data.objects import zoo, iris, adult, anchor_dataset_wrap\n",
    "from pac_explanation import example_queries\n",
    "from pac_explanation.blackbox import *\n",
    "from pac_explanation.learner import *\n",
    "from pac_explanation.query import *\n",
    "from pac_explanation.sygus_if import *\n",
    "from pac_explanation.teacher import *"
   ]
  },
  {
   "source": [
    "### Load dataset\n",
    "\n",
    "Extra information that we need are following.\n",
    "\n",
    "(1) `attribute_names` : feature names of the dataset,\n",
    "\n",
    "(2) `attribute_type`: a map between an attribute and its data type; we consider either \"Bool\", \"Categorical\" or \"Real\" (numerical) attributes.\n",
    "\n",
    "(3) `real_attribute_domain_info` (optional): for real-valued attributes, we construct a map where the key is the attribute and the value is a tuple (max_value, min_value) for that attribute. In case `real_attribute_domain_info` is incomplete or not provided, we assume that the attribute values are within \\[0,1\\]\n",
    "\n",
    "(4) `categorical_attribute_domain_info` (optional): for categorical attributes, we similarly construct a map where the key is the attribute and the value is the possible categories that the attribute can take. If `categorical_attribute_domain_info` is not provided or incomplete, we assumt that the attribute to be Boolean and thus the attribute can be either 0 or 1 \n",
    "\n",
    "For example, see the [adult dataset](data/objects/adult.py)\n",
    "\n",
    "Since scikit-learn classifiers do not allow us to specify categorical features, we apply one-hot encoding on categorical features due to practical concerns. However, note that our SyGuS-based classifier does not have such a restriction.\n",
    "\n",
    "\n",
    "\n"
   ],
   "cell_type": "markdown",
   "metadata": {}
  },
  {
   "cell_type": "code",
   "execution_count": 2,
   "metadata": {},
   "outputs": [
    {
     "output_type": "stream",
     "name": "stdout",
     "text": [
      "Calling one hot encoder on ['Workclass', 'Education', 'MaritalStatus', 'Occupation', 'Relationship', 'Race', 'CapitalGain', 'CapitalLoss', 'Country', 'Age', 'Hoursperweek']\n"
     ]
    },
    {
     "output_type": "execute_result",
     "data": {
      "text/plain": [
       "   Sex  target  Workclass_0.0  Workclass_1.0  Workclass_2.0  Workclass_3.0  \\\n",
       "0  1.0       1              0              0              0              0   \n",
       "1  0.0       1              0              0              0              0   \n",
       "2  0.0       0              0              0              0              0   \n",
       "3  1.0       0              0              0              0              0   \n",
       "4  1.0       0              0              0              0              0   \n",
       "\n",
       "   Workclass_4.0  Workclass_5.0  Workclass_6.0  Workclass_7.0  ...  \\\n",
       "0              0              0              1              0  ...   \n",
       "1              0              0              0              1  ...   \n",
       "2              1              0              0              0  ...   \n",
       "3              1              0              0              0  ...   \n",
       "4              1              0              0              0  ...   \n",
       "\n",
       "   Country_39.0  Country_40.0  Country_41.0  Age_0.0  Age_1.0  Age_2.0  \\\n",
       "0             1             0             0        0        0        0   \n",
       "1             0             0             0        0        0        1   \n",
       "2             1             0             0        0        0        0   \n",
       "3             1             0             0        0        1        0   \n",
       "4             1             0             0        0        1        0   \n",
       "\n",
       "   Age_3.0  Hoursperweek_0.0  Hoursperweek_1.0  Hoursperweek_2.0  \n",
       "0        1                 0                 1                 0  \n",
       "1        0                 1                 0                 0  \n",
       "2        1                 1                 0                 0  \n",
       "3        0                 1                 0                 0  \n",
       "4        0                 1                 0                 0  \n",
       "\n",
       "[5 rows x 114 columns]"
      ],
      "text/html": "<div>\n<style scoped>\n    .dataframe tbody tr th:only-of-type {\n        vertical-align: middle;\n    }\n\n    .dataframe tbody tr th {\n        vertical-align: top;\n    }\n\n    .dataframe thead th {\n        text-align: right;\n    }\n</style>\n<table border=\"1\" class=\"dataframe\">\n  <thead>\n    <tr style=\"text-align: right;\">\n      <th></th>\n      <th>Sex</th>\n      <th>target</th>\n      <th>Workclass_0.0</th>\n      <th>Workclass_1.0</th>\n      <th>Workclass_2.0</th>\n      <th>Workclass_3.0</th>\n      <th>Workclass_4.0</th>\n      <th>Workclass_5.0</th>\n      <th>Workclass_6.0</th>\n      <th>Workclass_7.0</th>\n      <th>...</th>\n      <th>Country_39.0</th>\n      <th>Country_40.0</th>\n      <th>Country_41.0</th>\n      <th>Age_0.0</th>\n      <th>Age_1.0</th>\n      <th>Age_2.0</th>\n      <th>Age_3.0</th>\n      <th>Hoursperweek_0.0</th>\n      <th>Hoursperweek_1.0</th>\n      <th>Hoursperweek_2.0</th>\n    </tr>\n  </thead>\n  <tbody>\n    <tr>\n      <th>0</th>\n      <td>1.0</td>\n      <td>1</td>\n      <td>0</td>\n      <td>0</td>\n      <td>0</td>\n      <td>0</td>\n      <td>0</td>\n      <td>0</td>\n      <td>1</td>\n      <td>0</td>\n      <td>...</td>\n      <td>1</td>\n      <td>0</td>\n      <td>0</td>\n      <td>0</td>\n      <td>0</td>\n      <td>0</td>\n      <td>1</td>\n      <td>0</td>\n      <td>1</td>\n      <td>0</td>\n    </tr>\n    <tr>\n      <th>1</th>\n      <td>0.0</td>\n      <td>1</td>\n      <td>0</td>\n      <td>0</td>\n      <td>0</td>\n      <td>0</td>\n      <td>0</td>\n      <td>0</td>\n      <td>0</td>\n      <td>1</td>\n      <td>...</td>\n      <td>0</td>\n      <td>0</td>\n      <td>0</td>\n      <td>0</td>\n      <td>0</td>\n      <td>1</td>\n      <td>0</td>\n      <td>1</td>\n      <td>0</td>\n      <td>0</td>\n    </tr>\n    <tr>\n      <th>2</th>\n      <td>0.0</td>\n      <td>0</td>\n      <td>0</td>\n      <td>0</td>\n      <td>0</td>\n      <td>0</td>\n      <td>1</td>\n      <td>0</td>\n      <td>0</td>\n      <td>0</td>\n      <td>...</td>\n      <td>1</td>\n      <td>0</td>\n      <td>0</td>\n      <td>0</td>\n      <td>0</td>\n      <td>0</td>\n      <td>1</td>\n      <td>1</td>\n      <td>0</td>\n      <td>0</td>\n    </tr>\n    <tr>\n      <th>3</th>\n      <td>1.0</td>\n      <td>0</td>\n      <td>0</td>\n      <td>0</td>\n      <td>0</td>\n      <td>0</td>\n      <td>1</td>\n      <td>0</td>\n      <td>0</td>\n      <td>0</td>\n      <td>...</td>\n      <td>1</td>\n      <td>0</td>\n      <td>0</td>\n      <td>0</td>\n      <td>1</td>\n      <td>0</td>\n      <td>0</td>\n      <td>1</td>\n      <td>0</td>\n      <td>0</td>\n    </tr>\n    <tr>\n      <th>4</th>\n      <td>1.0</td>\n      <td>0</td>\n      <td>0</td>\n      <td>0</td>\n      <td>0</td>\n      <td>0</td>\n      <td>1</td>\n      <td>0</td>\n      <td>0</td>\n      <td>0</td>\n      <td>...</td>\n      <td>1</td>\n      <td>0</td>\n      <td>0</td>\n      <td>0</td>\n      <td>1</td>\n      <td>0</td>\n      <td>0</td>\n      <td>1</td>\n      <td>0</td>\n      <td>0</td>\n    </tr>\n  </tbody>\n</table>\n<p>5 rows × 114 columns</p>\n</div>"
     },
     "metadata": {},
     "execution_count": 2
    }
   ],
   "source": [
    "# choose one dataset\n",
    "dataset = ['zoo', 'adult', 'iris', \"anchor_adult\"][3]\n",
    "\n",
    "df = None\n",
    "\n",
    "if(dataset == \"zoo\"):\n",
    "    dataObj = zoo.Zoo()\n",
    "    df = dataObj.get_df()\n",
    "    # fix target class because zoo dataset has 7 classes while we support binary class datasets in this implementation\n",
    "    target_class = [4] \n",
    "    _temp = {}\n",
    "    for i in range(1, len(df[dataObj.target].unique())+1):\n",
    "        if(i in target_class):\n",
    "            _temp[i] = 1\n",
    "        else:\n",
    "            _temp[i] = 0\n",
    "    df[dataObj.target] = df[dataObj.target].map(_temp)\n",
    "elif(dataset == \"adult\"):\n",
    "    dataObj = adult.Adult() \n",
    "    df = dataObj.get_df()\n",
    "elif(dataset == \"iris\"):\n",
    "    dataObj = iris.Iris()\n",
    "    df = dataObj.get_df()\n",
    "elif(dataset == \"anchor_adult\"):\n",
    "    dataObj = anchor_dataset_wrap.Anchor(dataset_name=\"adult\")\n",
    "    df = dataObj.get_df()\n",
    "\n",
    "\n",
    "df.head()"
   ]
  },
  {
   "source": [
    "#### More information about the dataset"
   ],
   "cell_type": "markdown",
   "metadata": {}
  },
  {
   "cell_type": "code",
   "execution_count": 3,
   "metadata": {},
   "outputs": [
    {
     "output_type": "stream",
     "name": "stdout",
     "text": [
      "Attributes: ['Sex', 'Workclass_0.0', 'Workclass_1.0', 'Workclass_2.0', 'Workclass_3.0', 'Workclass_4.0', 'Workclass_5.0', 'Workclass_6.0', 'Workclass_7.0', 'Workclass_8.0', 'Education_0.0', 'Education_1.0', 'Education_2.0', 'Education_3.0', 'Education_4.0', 'Education_5.0', 'Education_6.0', 'Education_7.0', 'Education_8.0', 'Education_9.0', 'Education_10.0', 'Education_11.0', 'Education_12.0', 'Education_13.0', 'Education_14.0', 'Education_15.0', 'MaritalStatus_0.0', 'MaritalStatus_1.0', 'MaritalStatus_2.0', 'MaritalStatus_3.0', 'MaritalStatus_4.0', 'MaritalStatus_5.0', 'MaritalStatus_6.0', 'Occupation_0.0', 'Occupation_1.0', 'Occupation_2.0', 'Occupation_3.0', 'Occupation_4.0', 'Occupation_5.0', 'Occupation_6.0', 'Occupation_7.0', 'Occupation_8.0', 'Occupation_9.0', 'Occupation_10.0', 'Occupation_11.0', 'Occupation_12.0', 'Occupation_13.0', 'Occupation_14.0', 'Relationship_0.0', 'Relationship_1.0', 'Relationship_2.0', 'Relationship_3.0', 'Relationship_4.0', 'Relationship_5.0', 'Race_0.0', 'Race_1.0', 'Race_2.0', 'Race_3.0', 'Race_4.0', 'CapitalGain_0.0', 'CapitalGain_1.0', 'CapitalGain_2.0', 'CapitalLoss_0.0', 'CapitalLoss_1.0', 'CapitalLoss_2.0', 'Country_0.0', 'Country_1.0', 'Country_2.0', 'Country_3.0', 'Country_4.0', 'Country_5.0', 'Country_6.0', 'Country_7.0', 'Country_8.0', 'Country_9.0', 'Country_10.0', 'Country_11.0', 'Country_12.0', 'Country_13.0', 'Country_14.0', 'Country_16.0', 'Country_17.0', 'Country_18.0', 'Country_19.0', 'Country_20.0', 'Country_21.0', 'Country_22.0', 'Country_23.0', 'Country_24.0', 'Country_25.0', 'Country_26.0', 'Country_27.0', 'Country_28.0', 'Country_29.0', 'Country_30.0', 'Country_31.0', 'Country_32.0', 'Country_33.0', 'Country_34.0', 'Country_35.0', 'Country_36.0', 'Country_37.0', 'Country_38.0', 'Country_39.0', 'Country_40.0', 'Country_41.0', 'Age_0.0', 'Age_1.0', 'Age_2.0', 'Age_3.0', 'Hoursperweek_0.0', 'Hoursperweek_1.0', 'Hoursperweek_2.0'] \n\nAttributes type (without class): {'Sex': 'Bool', 'Workclass_0.0': 'Bool', 'Workclass_1.0': 'Bool', 'Workclass_2.0': 'Bool', 'Workclass_3.0': 'Bool', 'Workclass_4.0': 'Bool', 'Workclass_5.0': 'Bool', 'Workclass_6.0': 'Bool', 'Workclass_7.0': 'Bool', 'Workclass_8.0': 'Bool', 'Education_0.0': 'Bool', 'Education_1.0': 'Bool', 'Education_2.0': 'Bool', 'Education_3.0': 'Bool', 'Education_4.0': 'Bool', 'Education_5.0': 'Bool', 'Education_6.0': 'Bool', 'Education_7.0': 'Bool', 'Education_8.0': 'Bool', 'Education_9.0': 'Bool', 'Education_10.0': 'Bool', 'Education_11.0': 'Bool', 'Education_12.0': 'Bool', 'Education_13.0': 'Bool', 'Education_14.0': 'Bool', 'Education_15.0': 'Bool', 'MaritalStatus_0.0': 'Bool', 'MaritalStatus_1.0': 'Bool', 'MaritalStatus_2.0': 'Bool', 'MaritalStatus_3.0': 'Bool', 'MaritalStatus_4.0': 'Bool', 'MaritalStatus_5.0': 'Bool', 'MaritalStatus_6.0': 'Bool', 'Occupation_0.0': 'Bool', 'Occupation_1.0': 'Bool', 'Occupation_2.0': 'Bool', 'Occupation_3.0': 'Bool', 'Occupation_4.0': 'Bool', 'Occupation_5.0': 'Bool', 'Occupation_6.0': 'Bool', 'Occupation_7.0': 'Bool', 'Occupation_8.0': 'Bool', 'Occupation_9.0': 'Bool', 'Occupation_10.0': 'Bool', 'Occupation_11.0': 'Bool', 'Occupation_12.0': 'Bool', 'Occupation_13.0': 'Bool', 'Occupation_14.0': 'Bool', 'Relationship_0.0': 'Bool', 'Relationship_1.0': 'Bool', 'Relationship_2.0': 'Bool', 'Relationship_3.0': 'Bool', 'Relationship_4.0': 'Bool', 'Relationship_5.0': 'Bool', 'Race_0.0': 'Bool', 'Race_1.0': 'Bool', 'Race_2.0': 'Bool', 'Race_3.0': 'Bool', 'Race_4.0': 'Bool', 'CapitalGain_0.0': 'Bool', 'CapitalGain_1.0': 'Bool', 'CapitalGain_2.0': 'Bool', 'CapitalLoss_0.0': 'Bool', 'CapitalLoss_1.0': 'Bool', 'CapitalLoss_2.0': 'Bool', 'Country_0.0': 'Bool', 'Country_1.0': 'Bool', 'Country_2.0': 'Bool', 'Country_3.0': 'Bool', 'Country_4.0': 'Bool', 'Country_5.0': 'Bool', 'Country_6.0': 'Bool', 'Country_7.0': 'Bool', 'Country_8.0': 'Bool', 'Country_9.0': 'Bool', 'Country_10.0': 'Bool', 'Country_11.0': 'Bool', 'Country_12.0': 'Bool', 'Country_13.0': 'Bool', 'Country_14.0': 'Bool', 'Country_16.0': 'Bool', 'Country_17.0': 'Bool', 'Country_18.0': 'Bool', 'Country_19.0': 'Bool', 'Country_20.0': 'Bool', 'Country_21.0': 'Bool', 'Country_22.0': 'Bool', 'Country_23.0': 'Bool', 'Country_24.0': 'Bool', 'Country_25.0': 'Bool', 'Country_26.0': 'Bool', 'Country_27.0': 'Bool', 'Country_28.0': 'Bool', 'Country_29.0': 'Bool', 'Country_30.0': 'Bool', 'Country_31.0': 'Bool', 'Country_32.0': 'Bool', 'Country_33.0': 'Bool', 'Country_34.0': 'Bool', 'Country_35.0': 'Bool', 'Country_36.0': 'Bool', 'Country_37.0': 'Bool', 'Country_38.0': 'Bool', 'Country_39.0': 'Bool', 'Country_40.0': 'Bool', 'Country_41.0': 'Bool', 'Age_0.0': 'Bool', 'Age_1.0': 'Bool', 'Age_2.0': 'Bool', 'Age_3.0': 'Bool', 'Hoursperweek_0.0': 'Bool', 'Hoursperweek_1.0': 'Bool', 'Hoursperweek_2.0': 'Bool'} \n\nDomain information of real-valued attributes:\n {} \n\nDomain information of categorical attributes:\n {} \n\nBoolean attributes: ['Sex', 'Workclass_0.0', 'Workclass_1.0', 'Workclass_2.0', 'Workclass_3.0', 'Workclass_4.0', 'Workclass_5.0', 'Workclass_6.0', 'Workclass_7.0', 'Workclass_8.0', 'Education_0.0', 'Education_1.0', 'Education_2.0', 'Education_3.0', 'Education_4.0', 'Education_5.0', 'Education_6.0', 'Education_7.0', 'Education_8.0', 'Education_9.0', 'Education_10.0', 'Education_11.0', 'Education_12.0', 'Education_13.0', 'Education_14.0', 'Education_15.0', 'MaritalStatus_0.0', 'MaritalStatus_1.0', 'MaritalStatus_2.0', 'MaritalStatus_3.0', 'MaritalStatus_4.0', 'MaritalStatus_5.0', 'MaritalStatus_6.0', 'Occupation_0.0', 'Occupation_1.0', 'Occupation_2.0', 'Occupation_3.0', 'Occupation_4.0', 'Occupation_5.0', 'Occupation_6.0', 'Occupation_7.0', 'Occupation_8.0', 'Occupation_9.0', 'Occupation_10.0', 'Occupation_11.0', 'Occupation_12.0', 'Occupation_13.0', 'Occupation_14.0', 'Relationship_0.0', 'Relationship_1.0', 'Relationship_2.0', 'Relationship_3.0', 'Relationship_4.0', 'Relationship_5.0', 'Race_0.0', 'Race_1.0', 'Race_2.0', 'Race_3.0', 'Race_4.0', 'CapitalGain_0.0', 'CapitalGain_1.0', 'CapitalGain_2.0', 'CapitalLoss_0.0', 'CapitalLoss_1.0', 'CapitalLoss_2.0', 'Country_0.0', 'Country_1.0', 'Country_2.0', 'Country_3.0', 'Country_4.0', 'Country_5.0', 'Country_6.0', 'Country_7.0', 'Country_8.0', 'Country_9.0', 'Country_10.0', 'Country_11.0', 'Country_12.0', 'Country_13.0', 'Country_14.0', 'Country_16.0', 'Country_17.0', 'Country_18.0', 'Country_19.0', 'Country_20.0', 'Country_21.0', 'Country_22.0', 'Country_23.0', 'Country_24.0', 'Country_25.0', 'Country_26.0', 'Country_27.0', 'Country_28.0', 'Country_29.0', 'Country_30.0', 'Country_31.0', 'Country_32.0', 'Country_33.0', 'Country_34.0', 'Country_35.0', 'Country_36.0', 'Country_37.0', 'Country_38.0', 'Country_39.0', 'Country_40.0', 'Country_41.0', 'Age_0.0', 'Age_1.0', 'Age_2.0', 'Age_3.0', 'Hoursperweek_0.0', 'Hoursperweek_1.0', 'Hoursperweek_2.0']\n"
     ]
    }
   ],
   "source": [
    "print(\"Attributes:\", dataObj.attributes, \"\\n\")\n",
    "print(\"Attributes type (without class):\", dataObj.attribute_type, \"\\n\")\n",
    "print(\"Domain information of real-valued attributes:\\n\", dataObj.real_attribute_domain_info, \"\\n\")\n",
    "print(\"Domain information of categorical attributes:\\n\", dataObj.categorical_attribute_domain_info, \"\\n\")\n",
    "print(\"Boolean attributes:\", dataObj.Boolean_attributes)"
   ]
  },
  {
   "source": [
    "#### Dataset preparation for training"
   ],
   "cell_type": "markdown",
   "metadata": {}
  },
  {
   "cell_type": "code",
   "execution_count": 4,
   "metadata": {},
   "outputs": [],
   "source": [
    "# declaration of classifier, X and y\n",
    "X = df.drop([dataObj.target], axis=1)\n",
    "y = df[dataObj.target]\n",
    "\n",
    "# Split dataset into training set and test set\n",
    "X_train, X_test, y_train, y_test = train_test_split(X, y, test_size=0.1, shuffle = True, random_state=2) # 70% training and 30% test"
   ]
  },
  {
   "source": [
    "### Train a black-box model"
   ],
   "cell_type": "markdown",
   "metadata": {}
  },
  {
   "cell_type": "code",
   "execution_count": 5,
   "metadata": {
    "tags": [
     "outputPrepend"
    ]
   },
   "outputs": [
    {
     "output_type": "stream",
     "name": "stdout",
     "text": [
      "       else:\n                                return 0\n                else:\n                    if Education_2.0 <= 0.5:\n                        if Education_9.0 <= 0.5:\n                            if Race_1.0 <= 0.5:\n                                if Education_7.0 <= 0.5:\n                                    if Education_14.0 <= 0.5:\n                                        return 0\n                                    else:\n                                        return 0\n                                else:\n                                    if Hoursperweek_2.0 <= 0.5:\n                                        return 0\n                                    else:\n                                        return 1\n                            else:\n                                if Hoursperweek_1.0 <= 0.5:\n                                    if Occupation_1.0 <= 0.5:\n                                        return 0\n                                    else:\n                                        return 1\n                                else:\n                                    return 1\n                        else:\n                            if CapitalLoss_0.0 <= 0.5:\n                                if Sex <= 0.5:\n                                    return 1\n                                else:\n                                    if CapitalLoss_2.0 <= 0.5:\n                                        return 0\n                                    else:\n                                        return 1\n                            else:\n                                if Workclass_5.0 <= 0.5:\n                                    if Occupation_3.0 <= 0.5:\n                                        return 0\n                                    else:\n                                        return 1\n                                else:\n                                    if Hoursperweek_2.0 <= 0.5:\n                                        return 1\n                                    else:\n                                        return 0\n                    else:\n                        if Occupation_7.0 <= 0.5:\n                            return 1\n                        else:\n                            return 0\n            else:\n                if Occupation_10.0 <= 0.5:\n                    if Occupation_4.0 <= 0.5:\n                        if CapitalLoss_2.0 <= 0.5:\n                            if Age_0.0 <= 0.5:\n                                if Education_9.0 <= 0.5:\n                                    if Country_19.0 <= 0.5:\n                                        return 0\n                                    else:\n                                        return 1\n                                else:\n                                    if Occupation_12.0 <= 0.5:\n                                        return 0\n                                    else:\n                                        return 1\n                            else:\n                                if MaritalStatus_1.0 <= 0.5:\n                                    if Education_9.0 <= 0.5:\n                                        return 0\n                                    else:\n                                        return 0\n                                else:\n                                    if Occupation_8.0 <= 0.5:\n                                        return 0\n                                    else:\n                                        return 1\n                        else:\n                            if Sex <= 0.5:\n                                if Education_9.0 <= 0.5:\n                                    if MaritalStatus_0.0 <= 0.5:\n                                        return 0\n                                    else:\n                                        return 0\n                                else:\n                                    return 1\n                            else:\n                                if Education_11.0 <= 0.5:\n                                    if Occupation_1.0 <= 0.5:\n                                        return 1\n                                    else:\n                                        return 0\n                                else:\n                                    return 0\n                    else:\n                        if Education_12.0 <= 0.5:\n                            if Relationship_3.0 <= 0.5:\n                                if Sex <= 0.5:\n                                    if Education_10.0 <= 0.5:\n                                        return 0\n                                    else:\n                                        return 1\n                                else:\n                                    if Age_0.0 <= 0.5:\n                                        return 0\n                                    else:\n                                        return 0\n                            else:\n                                return 0\n                        else:\n                            if Workclass_7.0 <= 0.5:\n                                if Race_1.0 <= 0.5:\n                                    if Age_0.0 <= 0.5:\n                                        return 1\n                                    else:\n                                        return 0\n                                else:\n                                    return 0\n                            else:\n                                return 0\n                else:\n                    if Age_0.0 <= 0.5:\n                        if Sex <= 0.5:\n                            if Country_11.0 <= 0.5:\n                                if MaritalStatus_0.0 <= 0.5:\n                                    if Country_30.0 <= 0.5:\n                                        return 0\n                                    else:\n                                        return 1\n                                else:\n                                    if Relationship_1.0 <= 0.5:\n                                        return 0\n                                    else:\n                                        return 0\n                            else:\n                                if MaritalStatus_5.0 <= 0.5:\n                                    return 0\n                                else:\n                                    return 1\n                        else:\n                            if MaritalStatus_0.0 <= 0.5:\n                                if Age_1.0 <= 0.5:\n                                    if Race_2.0 <= 0.5:\n                                        return 1\n                                    else:\n                                        return 0\n                                else:\n                                    if Country_19.0 <= 0.5:\n                                        return 0\n                                    else:\n                                        return 1\n                            else:\n                                if Education_8.0 <= 0.5:\n                                    if Workclass_1.0 <= 0.5:\n                                        return 0\n                                    else:\n                                        return 1\n                                else:\n                                    return 1\n                    else:\n                        if Education_12.0 <= 0.5:\n                            if CapitalLoss_1.0 <= 0.5:\n                                if Education_9.0 <= 0.5:\n                                    return 0\n                                else:\n                                    if Workclass_4.0 <= 0.5:\n                                        return 0\n                                    else:\n                                        return 0\n                            else:\n                                if Relationship_1.0 <= 0.5:\n                                    return 1\n                                else:\n                                    return 0\n                        else:\n                            if Workclass_4.0 <= 0.5:\n                                return 0\n                            else:\n                                if Relationship_1.0 <= 0.5:\n                                    return 0\n                                else:\n                                    return 0\n        else:\n            if Occupation_1.0 <= 0.5:\n                return 1\n            else:\n                if Education_15.0 <= 0.5:\n                    return 1\n                else:\n                    if MaritalStatus_0.0 <= 0.5:\n                        return 1\n                    else:\n                        if Age_3.0 <= 0.5:\n                            return 1\n                        else:\n                            return 0\n    else:\n        if Age_0.0 <= 0.5:\n            if CapitalGain_2.0 <= 0.5:\n                if Education_9.0 <= 0.5:\n                    if Occupation_10.0 <= 0.5:\n                        if Occupation_4.0 <= 0.5:\n                            if Education_5.0 <= 0.5:\n                                if Education_1.0 <= 0.5:\n                                    if Occupation_8.0 <= 0.5:\n                                        return 1\n                                    else:\n                                        return 0\n                                else:\n                                    if CapitalGain_0.0 <= 0.5:\n                                        return 1\n                                    else:\n                                        return 0\n                            else:\n                                if Country_2.0 <= 0.5:\n                                    if Workclass_4.0 <= 0.5:\n                                        return 0\n                                    else:\n                                        return 0\n                                else:\n                                    return 1\n                        else:\n                            if Workclass_6.0 <= 0.5:\n                                if Education_12.0 <= 0.5:\n                                    if Education_0.0 <= 0.5:\n                                        return 1\n                                    else:\n                                        return 0\n                                else:\n                                    if Workclass_7.0 <= 0.5:\n                                        return 1\n                                    else:\n                                        return 1\n                            else:\n                                if Age_1.0 <= 0.5:\n                                    if Country_39.0 <= 0.5:\n                                        return 0\n                                    else:\n                                        return 1\n                                else:\n                                    if CapitalLoss_0.0 <= 0.5:\n                                        return 1\n                                    else:\n                                        return 0\n                    else:\n                        if Education_11.0 <= 0.5:\n                            if Country_35.0 <= 0.5:\n                                if Country_24.0 <= 0.5:\n                                    if Education_14.0 <= 0.5:\n                                        return 1\n                                    else:\n                                        return 1\n                                else:\n                                    return 0\n                            else:\n                                return 0\n                        else:\n                            if Race_4.0 <= 0.5:\n                                return 0\n                            else:\n                                if CapitalGain_0.0 <= 0.5:\n                                    if Workclass_6.0 <= 0.5:\n                                        return 1\n                                    else:\n                                        return 0\n                                else:\n                                    if Workclass_5.0 <= 0.5:\n                                        return 1\n                                    else:\n                                        return 0\n                else:\n                    if Hoursperweek_0.0 <= 0.5:\n                        if Country_23.0 <= 0.5:\n                            if Country_31.0 <= 0.5:\n                                if Relationship_2.0 <= 0.5:\n                                    if Workclass_6.0 <= 0.5:\n                                        return 1\n                                    else:\n                                        return 1\n                                else:\n                                    return 0\n                            else:\n                                return 0\n                        else:\n                            return 0\n                    else:\n                        if Workclass_4.0 <= 0.5:\n                            if Occupation_3.0 <= 0.5:\n                                if Occupation_1.0 <= 0.5:\n                                    if Occupation_8.0 <= 0.5:\n                                        return 1\n                                    else:\n                                        return 0\n                                else:\n                                    if Race_1.0 <= 0.5:\n                                        return 1\n                                    else:\n                                        return 0\n                            else:\n                                return 0\n                        else:\n                            if Occupation_5.0 <= 0.5:\n                                if Occupation_8.0 <= 0.5:\n                                    if CapitalLoss_0.0 <= 0.5:\n                                        return 1\n                                    else:\n                                        return 1\n                                else:\n                                    if Country_0.0 <= 0.5:\n                                        return 0\n                                    else:\n                                        return 1\n                            else:\n                                return 0\n            else:\n                if Occupation_5.0 <= 0.5:\n                    if Workclass_6.0 <= 0.5:\n                        return 1\n                    else:\n                        if Education_9.0 <= 0.5:\n                            return 1\n                        else:\n                            if Occupation_10.0 <= 0.5:\n                                return 1\n                            else:\n                                if Age_3.0 <= 0.5:\n                                    return 1\n                                else:\n                                    if Hoursperweek_1.0 <= 0.5:\n                                        return 0\n                                    else:\n                                        return 1\n                else:\n                    if Relationship_0.0 <= 0.5:\n                        return 0\n                    else:\n                        return 1\n        else:\n            if Education_9.0 <= 0.5:\n                if CapitalGain_2.0 <= 0.5:\n                    if Hoursperweek_0.0 <= 0.5:\n                        if Education_15.0 <= 0.5:\n                            if Workclass_7.0 <= 0.5:\n                                if Education_7.0 <= 0.5:\n                                    if Occupation_4.0 <= 0.5:\n                                        return 0\n                                    else:\n                                        return 1\n                                else:\n                                    return 1\n                            else:\n                                return 1\n                        else:\n                            if Race_0.0 <= 0.5:\n                                if Workclass_1.0 <= 0.5:\n                                    if Occupation_6.0 <= 0.5:\n                                        return 1\n                                    else:\n                                        return 0\n                                else:\n                                    return 0\n                            else:\n                                return 0\n                    else:\n                        if Occupation_1.0 <= 0.5:\n                            if Occupation_10.0 <= 0.5:\n                                if Workclass_5.0 <= 0.5:\n                                    if Occupation_3.0 <= 0.5:\n                                        return 0\n                                    else:\n                                        return 0\n                                else:\n                                    if Relationship_0.0 <= 0.5:\n                                        return 1\n                                    else:\n                                        return 0\n                            else:\n                                if Education_11.0 <= 0.5:\n                                    if Education_8.0 <= 0.5:\n                                        return 1\n                                    else:\n                                        return 0\n                                else:\n                                    return 0\n                        else:\n                            if Country_39.0 <= 0.5:\n                                return 0\n                            else:\n                                if Workclass_7.0 <= 0.5:\n                                    if Workclass_4.0 <= 0.5:\n                                        return 1\n                                    else:\n                                        return 1\n                                else:\n                                    return 0\n                else:\n                    if Education_13.0 <= 0.5:\n                        return 1\n                    else:\n                        return 0\n            else:\n                if Hoursperweek_1.0 <= 0.5:\n                    if Workclass_5.0 <= 0.5:\n                        if CapitalLoss_0.0 <= 0.5:\n                            if Occupation_0.0 <= 0.5:\n                                return 1\n                            else:\n                                if Relationship_0.0 <= 0.5:\n                                    return 1\n                                else:\n                                    return 0\n                        else:\n                            if Occupation_10.0 <= 0.5:\n                                if CapitalGain_0.0 <= 0.5:\n                                    if Occupation_12.0 <= 0.5:\n                                        return 1\n                                    else:\n                                        return 0\n                                else:\n                                    if Occupation_12.0 <= 0.5:\n                                        return 0\n                                    else:\n                                        return 1\n                            else:\n                                if Workclass_4.0 <= 0.5:\n                                    if Sex <= 0.5:\n                                        return 1\n                                    else:\n                                        return 0\n                                else:\n                                    if Hoursperweek_0.0 <= 0.5:\n                                        return 0\n                                    else:\n                                        return 0\n                    else:\n                        return 1\n                else:\n                    if Occupation_1.0 <= 0.5:\n                        if Occupation_4.0 <= 0.5:\n                            return 1\n                        else:\n                            if Relationship_0.0 <= 0.5:\n                                return 1\n                            else:\n                                return 0\n                    else:\n                        return 0\n\n"
     ]
    }
   ],
   "source": [
    "# Preload/store trained model\n",
    "\n",
    "select_blackbox = ['decision tree','neural network', 'random forest'][0]\n",
    "\n",
    "model_name = None\n",
    "if(select_blackbox == 'decision tree'):\n",
    "    model_name = 'data/model/dt_' + dataset + '.pkl'\n",
    "elif(select_blackbox == \"random forest\"):\n",
    "    model_name = 'data/model/rf_' + dataset + '.pkl'\n",
    "elif(select_blackbox == \"neural network\"):\n",
    "    model_name = 'data/model/nn_' + dataset + '.pkl'\n",
    "\n",
    "else:\n",
    "    raise ValueError(\"Black box not defined\")\n",
    "\n",
    "\n",
    "\n",
    "if(not os.path.isfile(model_name)):\n",
    "    clf = None\n",
    "    if(select_blackbox == 'decision tree'):\n",
    "        param_grid = {'max_depth': np.arange(3, 10)}\n",
    "        grid_tree = GridSearchCV(tree.DecisionTreeClassifier(random_state=0), param_grid)\n",
    "        grid_tree.fit(X_train, y_train)\n",
    "        tree_preds = grid_tree.predict_proba(X_test)[:, 1]\n",
    "        tree_performance = roc_auc_score(y_test, tree_preds)\n",
    "        clf = grid_tree.best_estimator_\n",
    "    elif(select_blackbox == \"random forest\"):\n",
    "        clf = RandomForestClassifier(n_estimators=100)\n",
    "        clf.fit(X_train,y_train)\n",
    "\n",
    "    elif(select_blackbox == \"neural network\"):\n",
    "        clf = MLPClassifier(random_state=1, max_iter=300).fit(X_train, y_train) \n",
    "        clf.fit(X_train,y_train)\n",
    "        \n",
    "    else:\n",
    "        raise ValueError(\"Black box not defined\")\n",
    "\n",
    "    # store the classifier\n",
    "    with open(model_name, 'wb') as fid:\n",
    "        pickle.dump(clf, fid)    \n",
    "\n",
    "else:\n",
    "    print(\"Loding model\")\n",
    "    with open(model_name, 'rb') as fid:\n",
    "        clf = pickle.load(fid)\n",
    "\n",
    "    \n",
    "# For visualization\n",
    "if(select_blackbox == \"decision tree\"):\n",
    "    print(pac_explanation.utils.tree_to_code(clf,X_train.columns.tolist()))\n",
    "\n"
   ]
  },
  {
   "source": [
    "## Specify a target sample (i.e., query with a distance parameter)\n",
    "In this experiment, we have considered two types of queries: \n",
    "    \n",
    "    (1) target sample,\n",
    "    (2) a logical specification of the sample space viewed as a region    \n",
    "    \n",
    "for which, we learn a local explanation of the black-box model"
   ],
   "cell_type": "markdown",
   "metadata": {}
  },
  {
   "cell_type": "code",
   "execution_count": 10,
   "metadata": {},
   "outputs": [
    {
     "output_type": "stream",
     "name": "stdout",
     "text": [
      "Learned threshold: 0.5\nQuery is a specific input\n- threshold: 0.5\n- specific_input: [1.0, 0.0, 0.0, 0.0, 0.0, 1.0, 0.0, 0.0, 0.0, 0.0, 0.0, 0.0, 0.0, 0.0, 0.0, 0.0, 0.0, 0.0, 0.0, 0.0, 0.0, 0.0, 1.0, 0.0, 0.0, 0.0, 0.0, 0.0, 0.0, 0.0, 0.0, 1.0, 0.0, 0.0, 0.0, 0.0, 0.0, 1.0, 0.0, 0.0, 0.0, 0.0, 0.0, 0.0, 0.0, 0.0, 0.0, 0.0, 0.0, 1.0, 0.0, 0.0, 0.0, 0.0, 0.0, 0.0, 0.0, 0.0, 1.0, 1.0, 0.0, 0.0, 0.0, 0.0, 1.0, 0.0, 0.0, 0.0, 0.0, 0.0, 0.0, 0.0, 0.0, 0.0, 0.0, 0.0, 0.0, 0.0, 0.0, 0.0, 0.0, 0.0, 0.0, 0.0, 0.0, 0.0, 0.0, 0.0, 0.0, 0.0, 0.0, 0.0, 0.0, 0.0, 0.0, 0.0, 0.0, 0.0, 0.0, 0.0, 0.0, 0.0, 0.0, 1.0, 0.0, 0.0, 0.0, 1.0, 0.0, 0.0, 0.0, 0.0, 1.0]\n- detailed_input: [('Sex', 1.0), ('Workclass_0.0', 0.0), ('Workclass_1.0', 0.0), ('Workclass_2.0', 0.0), ('Workclass_3.0', 0.0), ('Workclass_4.0', 1.0), ('Workclass_5.0', 0.0), ('Workclass_6.0', 0.0), ('Workclass_7.0', 0.0), ('Workclass_8.0', 0.0), ('Education_0.0', 0.0), ('Education_1.0', 0.0), ('Education_2.0', 0.0), ('Education_3.0', 0.0), ('Education_4.0', 0.0), ('Education_5.0', 0.0), ('Education_6.0', 0.0), ('Education_7.0', 0.0), ('Education_8.0', 0.0), ('Education_9.0', 0.0), ('Education_10.0', 0.0), ('Education_11.0', 0.0), ('Education_12.0', 1.0), ('Education_13.0', 0.0), ('Education_14.0', 0.0), ('Education_15.0', 0.0), ('MaritalStatus_0.0', 0.0), ('MaritalStatus_1.0', 0.0), ('MaritalStatus_2.0', 0.0), ('MaritalStatus_3.0', 0.0), ('MaritalStatus_4.0', 0.0), ('MaritalStatus_5.0', 1.0), ('MaritalStatus_6.0', 0.0), ('Occupation_0.0', 0.0), ('Occupation_1.0', 0.0), ('Occupation_2.0', 0.0), ('Occupation_3.0', 0.0), ('Occupation_4.0', 1.0), ('Occupation_5.0', 0.0), ('Occupation_6.0', 0.0), ('Occupation_7.0', 0.0), ('Occupation_8.0', 0.0), ('Occupation_9.0', 0.0), ('Occupation_10.0', 0.0), ('Occupation_11.0', 0.0), ('Occupation_12.0', 0.0), ('Occupation_13.0', 0.0), ('Occupation_14.0', 0.0), ('Relationship_0.0', 0.0), ('Relationship_1.0', 1.0), ('Relationship_2.0', 0.0), ('Relationship_3.0', 0.0), ('Relationship_4.0', 0.0), ('Relationship_5.0', 0.0), ('Race_0.0', 0.0), ('Race_1.0', 0.0), ('Race_2.0', 0.0), ('Race_3.0', 0.0), ('Race_4.0', 1.0), ('CapitalGain_0.0', 1.0), ('CapitalGain_1.0', 0.0), ('CapitalGain_2.0', 0.0), ('CapitalLoss_0.0', 0.0), ('CapitalLoss_1.0', 0.0), ('CapitalLoss_2.0', 1.0), ('Country_0.0', 0.0), ('Country_1.0', 0.0), ('Country_2.0', 0.0), ('Country_3.0', 0.0), ('Country_4.0', 0.0), ('Country_5.0', 0.0), ('Country_6.0', 0.0), ('Country_7.0', 0.0), ('Country_8.0', 0.0), ('Country_9.0', 0.0), ('Country_10.0', 0.0), ('Country_11.0', 0.0), ('Country_12.0', 0.0), ('Country_13.0', 0.0), ('Country_14.0', 0.0), ('Country_16.0', 0.0), ('Country_17.0', 0.0), ('Country_18.0', 0.0), ('Country_19.0', 0.0), ('Country_20.0', 0.0), ('Country_21.0', 0.0), ('Country_22.0', 0.0), ('Country_23.0', 0.0), ('Country_24.0', 0.0), ('Country_25.0', 0.0), ('Country_26.0', 0.0), ('Country_27.0', 0.0), ('Country_28.0', 0.0), ('Country_29.0', 0.0), ('Country_30.0', 0.0), ('Country_31.0', 0.0), ('Country_32.0', 0.0), ('Country_33.0', 0.0), ('Country_34.0', 0.0), ('Country_35.0', 0.0), ('Country_36.0', 0.0), ('Country_37.0', 0.0), ('Country_38.0', 0.0), ('Country_39.0', 1.0), ('Country_40.0', 0.0), ('Country_41.0', 0.0), ('Age_0.0', 0.0), ('Age_1.0', 1.0), ('Age_2.0', 0.0), ('Age_3.0', 0.0), ('Hoursperweek_0.0', 0.0), ('Hoursperweek_1.0', 0.0), ('Hoursperweek_2.0', 1.0)]\nLabel of this sample by the black box predictor: [1]\n"
     ]
    }
   ],
   "source": [
    "select_query = ['decision tree', 'specific input'][1]\n",
    "\n",
    "# X and y will be used as arguments for learner as initial examples. While this is not a strict requirement, we make sure that the learner is atleast correct with respect to the given sample (when select_query = specific_input).\n",
    "\n",
    "X = None\n",
    "y = None \n",
    "\n",
    "# Our PAC explainer considers a query object. For either type of queries, we define a query_class\n",
    "query_class = None\n",
    "if(select_query == \"decision tree\"):\n",
    "    # We define query specilized for decision tree\n",
    "    query_class = example_queries.DecisionTree(features=X_train.columns.tolist(), halfspace=example_queries.ExampleQueries().queries[0])\n",
    "    X = []\n",
    "    y = []\n",
    "elif(select_query == \"specific input\"):  \n",
    "    # An input from the training set\n",
    "    specific_input = X_test.iloc[0].tolist()\n",
    "\n",
    "    # A threshold is provided for distance based query. The range of this threshold is not properly checked. Roughly, all neighboring samples with distance less than the threshold are considered inside the local region\n",
    "    query_class = example_queries.DistanceQuery(specific_input=specific_input, threshold=utils.learn_threshold(specific_input,X_test.values, quantile_val=.2), features = X_train.columns.tolist())\n",
    "    X = [specific_input]\n",
    "    y = [clf.predict([specific_input])[0]]\n",
    "    print(query_class)\n",
    "    print(\"Label of this sample by the black box predictor:\", y)\n",
    "    \n",
    "else:\n",
    "    raise ValueError(select_query +\" is not a defined query.\")"
   ]
  },
  {
   "source": [
    "## Generate a PAC explanation with SyGuS\n",
    "We define three entities here.\n",
    "\n",
    "    (1) blackbox,\n",
    "    (2) learner, and\n",
    "    (3) query\n",
    "\n",
    "Our task is to define a `teacher` who performs the task of learning an explanation of the `blackbox` given the `query` by sending necessary information to the `learner`."
   ],
   "cell_type": "markdown",
   "metadata": {}
  },
  {
   "cell_type": "code",
   "execution_count": 11,
   "metadata": {},
   "outputs": [],
   "source": [
    "# define the black-box as a scikit-learn object (trained)\n",
    "blackbox = None\n",
    "if(select_blackbox == 'decision tree' or select_blackbox == \"random forest\" or select_blackbox == \"neural network\"):\n",
    "    blackbox = BlackBox(clf, clf.predict)\n",
    "else:\n",
    "    raise ValueError(\"Black box not defined\")\n",
    "\n",
    "# define the learner as a SyGuS object\n",
    "sygus = SyGuS_IF(rule_type=\"CNF\", feature_names=dataObj.attributes, feature_data_type=dataObj.attribute_type, function_return_type= \"Bool\", real_attribute_domain_info=dataObj.real_attribute_domain_info, categorical_attribute_domain_info=dataObj.categorical_attribute_domain_info, verbose=False, syntactic_grammar=True, workdir=\"temp\")\n",
    "\n",
    "learner = Learner(model = sygus, prediction_function = sygus.predict_z3, train_function = sygus.fit, X = X, y=y)\n",
    "\n",
    "# define the query as specified above\n",
    "query = Query(model = None, prediction_function = query_class.predict_function_query)\n"
   ]
  },
  {
   "source": [
    "### Teacher"
   ],
   "cell_type": "markdown",
   "metadata": {}
  },
  {
   "cell_type": "code",
   "execution_count": 12,
   "metadata": {},
   "outputs": [
    {
     "output_type": "stream",
     "name": "stdout",
     "text": [
      "\nLearned explanation =>\nNone\nFunction snippet is None\n\n-explanation size: 0\n-is explanation learning complete? True\n-it took 1.3902878761291504 seconds\n-learner time: 0\n-verifier time: 1.3900480270385742\n-random words checked 0\n-random words filtered by querys: 7601\n-total counterexamples: 1\n-percentage of positive counterexamples for the learner: 1.0\n"
     ]
    }
   ],
   "source": [
    "# Now let the teacher complete its task\n",
    "teacher = Teacher(max_iterations=100000, epsilon=0.001, delta=0.001, timeout=10)\n",
    "\n",
    "# Teacher object needs an access to a random sample generator for the verification task. We call a specilized random generator that utilizes the knowledge of the training dataset, for example, the attribute type of each attribute.\n",
    "\n",
    "teach_start = time.time()\n",
    "learner, flag = teacher.teach(blackbox = blackbox, learner = learner, query = query, random_example_generator = utils.random_generator, params_generator = (X_train, dataObj.attribute_type), verbose=False)\n",
    "teach_end = time.time()\n",
    "\n",
    "# print(\"Explanation for =>\")\n",
    "# print(query_class)\n",
    "print(\"\\nLearned explanation =>\")\n",
    "print(learner.model._function_snippet)\n",
    "print(\"\\n-explanation size:\", learner.model.get_formula_size(verbose=False))\n",
    "print(\"-is explanation learning complete?\", flag)\n",
    "print(\"-it took\", teach_end - teach_start, \"seconds\")\n",
    "print(\"-learner time:\", teacher.time_learner)\n",
    "print(\"-verifier time:\", teacher.time_verifier)\n",
    "print('-random words checked', teacher.verifier.number_of_examples_checked)\n",
    "print(\"-random words filtered by querys:\", teacher.verifier.filtered_by_query)\n",
    "print(\"-total counterexamples:\", len(learner.y))\n",
    "print(\"-percentage of positive counterexamples for the learner:\", np.array(learner.y).mean())\n"
   ]
  },
  {
   "source": [
    "#### Evaluation of the explanation"
   ],
   "cell_type": "markdown",
   "metadata": {}
  },
  {
   "cell_type": "code",
   "execution_count": 13,
   "metadata": {},
   "outputs": [
    {
     "output_type": "stream",
     "name": "stdout",
     "text": [
      "correct:  None out of  1412 examples. Percentage:  None\n"
     ]
    }
   ],
   "source": [
    "# If a test sample is not within the query, we do not report explanation error, otherwise we report error when the learner and the blackbox have different classification for that sample\n",
    "\n",
    "acc = None\n",
    "try:\n",
    "    cnt = 0\n",
    "    learner_verdicts = learner.classify_examples(X_test.values.tolist())\n",
    "    blackbox_verdicts = blackbox.classify_examples(X_test.values.tolist())\n",
    "    for i in range(len(X_test.values.tolist())):\n",
    "\n",
    "        blackbox_verdict = blackbox_verdicts[i]\n",
    "        learner_verdict = learner_verdicts[i]\n",
    "        query_verdict = query.classify_example(X_test.values.tolist()[i])\n",
    "        if(not query_verdict):\n",
    "            cnt += 1\n",
    "            continue\n",
    "        if(learner_verdict == blackbox_verdict):\n",
    "            cnt += 1\n",
    "    acc = cnt/len(y_test)\n",
    "except:\n",
    "    cnt = None\n",
    "    acc = None\n",
    "\n",
    "print(\"correct: \", cnt, \"out of \", len(y_test), \"examples. Percentage: \", acc)"
   ]
  },
  {
   "source": [
    "### Anchor explanation"
   ],
   "cell_type": "markdown",
   "metadata": {}
  },
  {
   "cell_type": "code",
   "execution_count": 14,
   "metadata": {},
   "outputs": [
    {
     "output_type": "stream",
     "name": "stdout",
     "text": [
      "Prediction:  1\n",
      "Anchor: CapitalLoss_2.0 = 1 AND CapitalLoss_0.0 = 0 AND Occupation_4.0 = 1\n",
      "Precision: 0.97\n",
      "Coverage: 0.01\n"
     ]
    }
   ],
   "source": [
    "import anchor.utils\n",
    "from anchor import anchor_tabular\n",
    "\n",
    "# compatible for Anchor input\n",
    "anchor_categorical_names = {}\n",
    "cnt = 0\n",
    "for attribute in dataObj.attributes:\n",
    "    assert dataObj.attribute_type[attribute] == \"Bool\"\n",
    "    anchor_categorical_names[cnt] = [\"0\",\"1\"]\n",
    "    cnt += 1\n",
    "\n",
    "\n",
    "explainer = anchor_tabular.AnchorTabularExplainer(\n",
    "    [0,1],\n",
    "    dataObj.attributes,\n",
    "    np.array(X_train),\n",
    "    anchor_categorical_names\n",
    ")\n",
    "\n",
    "# target sample\n",
    "idx = 0\n",
    "np.random.seed(1)\n",
    "print('Prediction: ', explainer.class_names[clf.predict(np.array(X_test)[idx].reshape(1, -1))[0]])\n",
    "exp = explainer.explain_instance(np.array(X_test)[idx], clf.predict, threshold=0.95)\n",
    "\n",
    "print('Anchor: %s' % (' AND '.join(exp.names())))\n",
    "print('Precision: %.2f' % exp.precision())\n",
    "print('Coverage: %.2f' % exp.coverage())"
   ]
  },
  {
   "cell_type": "code",
   "execution_count": null,
   "metadata": {},
   "outputs": [],
   "source": []
  }
 ]
}