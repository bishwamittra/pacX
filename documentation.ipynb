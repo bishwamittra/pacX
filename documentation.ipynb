{
 "metadata": {
  "language_info": {
   "codemirror_mode": {
    "name": "ipython",
    "version": 3
   },
   "file_extension": ".py",
   "mimetype": "text/x-python",
   "name": "python",
   "nbconvert_exporter": "python",
   "pygments_lexer": "ipython3",
   "version": "3.7.6-final"
  },
  "orig_nbformat": 2,
  "kernelspec": {
   "name": "python37664bitbaseconda80e1cfdfccea47ebb630fdeddfb8e020",
   "display_name": "Python 3.7.6 64-bit ('base': conda)"
  }
 },
 "nbformat": 4,
 "nbformat_minor": 2,
 "cells": [
  {
   "source": [
    "#### Load libraries"
   ],
   "cell_type": "markdown",
   "metadata": {}
  },
  {
   "cell_type": "code",
   "execution_count": 1,
   "metadata": {},
   "outputs": [],
   "source": [
    "# standard libraries\n",
    "from sklearn.model_selection import train_test_split\n",
    "import pickle\n",
    "import pandas as pd\n",
    "import numpy as np\n",
    "from tqdm import tqdm\n",
    "from sklearn.ensemble import RandomForestClassifier\n",
    "from sklearn.neural_network import MLPClassifier\n",
    "\n",
    "# from our code-base\n",
    "import pac_explanation\n",
    "from data.objects import zoo, iris, adult\n",
    "from pac_explanation import example_queries\n",
    "from pac_explanation.blackbox import *\n",
    "from pac_explanation.learner import *\n",
    "from pac_explanation.query import *\n",
    "from pac_explanation.sygus_if import *\n",
    "from pac_explanation.teacher import *"
   ]
  },
  {
   "source": [
    "### Load dataset\n",
    "\n",
    "Extra information that we need are following.\n",
    "\n",
    "(1) `attribute_names` : feature names of the dataset,\n",
    "\n",
    "(2) `attribute_type`: a map between an attribute and its data type; we consider either \"Bool\" or \"Real\" (ordinal or numerical)attributes where categorical values have to be one-hot encoded (thus \"Bool\"),\n",
    "\n",
    "(3) `real_attribute_domain_info` : for real-valued attributes, we construct a map where the key is the attribute and the value is a tuple (max_value, min_value) for that attribute. In case `real_attribute_domain_info` is incomplete or not provided, we assume that the attribute values are within \\[0,1\\]\n",
    "\n",
    "For example, see [zoo dataset](data/objects/zoo.py)\n",
    "\n"
   ],
   "cell_type": "markdown",
   "metadata": {}
  },
  {
   "cell_type": "code",
   "execution_count": 2,
   "metadata": {},
   "outputs": [
    {
     "output_type": "stream",
     "name": "stdout",
     "text": [
      "Calling one hot encoder on ['race', 'sex', 'workclass', 'education', 'marital-status', 'occupation', 'relationship', 'native-country']\nworkclass  is not considered in classification\neducation  is not considered in classification\nmarital-status  is not considered in classification\noccupation  is not considered in classification\nrelationship  is not considered in classification\nnative-country  is not considered in classification\n"
     ]
    },
    {
     "output_type": "execute_result",
     "data": {
      "text/plain": [
       "       sex       age  education-num  capital-gain  capital-loss  \\\n",
       "0        1  0.301370       0.800000      0.021740           0.0   \n",
       "1        1  0.452055       0.800000      0.000000           0.0   \n",
       "2        1  0.287671       0.533333      0.000000           0.0   \n",
       "3        1  0.493151       0.400000      0.000000           0.0   \n",
       "4        0  0.150685       0.800000      0.000000           0.0   \n",
       "...    ...       ...            ...           ...           ...   \n",
       "48837    0  0.301370       0.800000      0.000000           0.0   \n",
       "48838    1  0.643836       0.533333      0.000000           0.0   \n",
       "48839    1  0.287671       0.800000      0.000000           0.0   \n",
       "48840    1  0.369863       0.800000      0.054551           0.0   \n",
       "48841    1  0.246575       0.800000      0.000000           0.0   \n",
       "\n",
       "       hours-per-week  target  race_0  race_1  race_2  race_3  race_4  \n",
       "0            0.397959       1       0       0       0       0       1  \n",
       "1            0.122449       1       0       0       0       0       1  \n",
       "2            0.397959       1       0       0       0       0       1  \n",
       "3            0.397959       1       0       0       1       0       0  \n",
       "4            0.397959       1       0       0       1       0       0  \n",
       "...               ...     ...     ...     ...     ...     ...     ...  \n",
       "48837        0.357143       1       0       0       0       0       1  \n",
       "48838        0.397959       1       0       0       1       0       0  \n",
       "48839        0.500000       1       0       0       0       0       1  \n",
       "48840        0.397959       1       0       1       0       0       0  \n",
       "48841        0.602041       0       0       0       0       0       1  \n",
       "\n",
       "[48842 rows x 12 columns]"
      ],
      "text/html": "<div>\n<style scoped>\n    .dataframe tbody tr th:only-of-type {\n        vertical-align: middle;\n    }\n\n    .dataframe tbody tr th {\n        vertical-align: top;\n    }\n\n    .dataframe thead th {\n        text-align: right;\n    }\n</style>\n<table border=\"1\" class=\"dataframe\">\n  <thead>\n    <tr style=\"text-align: right;\">\n      <th></th>\n      <th>sex</th>\n      <th>age</th>\n      <th>education-num</th>\n      <th>capital-gain</th>\n      <th>capital-loss</th>\n      <th>hours-per-week</th>\n      <th>target</th>\n      <th>race_0</th>\n      <th>race_1</th>\n      <th>race_2</th>\n      <th>race_3</th>\n      <th>race_4</th>\n    </tr>\n  </thead>\n  <tbody>\n    <tr>\n      <th>0</th>\n      <td>1</td>\n      <td>0.301370</td>\n      <td>0.800000</td>\n      <td>0.021740</td>\n      <td>0.0</td>\n      <td>0.397959</td>\n      <td>1</td>\n      <td>0</td>\n      <td>0</td>\n      <td>0</td>\n      <td>0</td>\n      <td>1</td>\n    </tr>\n    <tr>\n      <th>1</th>\n      <td>1</td>\n      <td>0.452055</td>\n      <td>0.800000</td>\n      <td>0.000000</td>\n      <td>0.0</td>\n      <td>0.122449</td>\n      <td>1</td>\n      <td>0</td>\n      <td>0</td>\n      <td>0</td>\n      <td>0</td>\n      <td>1</td>\n    </tr>\n    <tr>\n      <th>2</th>\n      <td>1</td>\n      <td>0.287671</td>\n      <td>0.533333</td>\n      <td>0.000000</td>\n      <td>0.0</td>\n      <td>0.397959</td>\n      <td>1</td>\n      <td>0</td>\n      <td>0</td>\n      <td>0</td>\n      <td>0</td>\n      <td>1</td>\n    </tr>\n    <tr>\n      <th>3</th>\n      <td>1</td>\n      <td>0.493151</td>\n      <td>0.400000</td>\n      <td>0.000000</td>\n      <td>0.0</td>\n      <td>0.397959</td>\n      <td>1</td>\n      <td>0</td>\n      <td>0</td>\n      <td>1</td>\n      <td>0</td>\n      <td>0</td>\n    </tr>\n    <tr>\n      <th>4</th>\n      <td>0</td>\n      <td>0.150685</td>\n      <td>0.800000</td>\n      <td>0.000000</td>\n      <td>0.0</td>\n      <td>0.397959</td>\n      <td>1</td>\n      <td>0</td>\n      <td>0</td>\n      <td>1</td>\n      <td>0</td>\n      <td>0</td>\n    </tr>\n    <tr>\n      <th>...</th>\n      <td>...</td>\n      <td>...</td>\n      <td>...</td>\n      <td>...</td>\n      <td>...</td>\n      <td>...</td>\n      <td>...</td>\n      <td>...</td>\n      <td>...</td>\n      <td>...</td>\n      <td>...</td>\n      <td>...</td>\n    </tr>\n    <tr>\n      <th>48837</th>\n      <td>0</td>\n      <td>0.301370</td>\n      <td>0.800000</td>\n      <td>0.000000</td>\n      <td>0.0</td>\n      <td>0.357143</td>\n      <td>1</td>\n      <td>0</td>\n      <td>0</td>\n      <td>0</td>\n      <td>0</td>\n      <td>1</td>\n    </tr>\n    <tr>\n      <th>48838</th>\n      <td>1</td>\n      <td>0.643836</td>\n      <td>0.533333</td>\n      <td>0.000000</td>\n      <td>0.0</td>\n      <td>0.397959</td>\n      <td>1</td>\n      <td>0</td>\n      <td>0</td>\n      <td>1</td>\n      <td>0</td>\n      <td>0</td>\n    </tr>\n    <tr>\n      <th>48839</th>\n      <td>1</td>\n      <td>0.287671</td>\n      <td>0.800000</td>\n      <td>0.000000</td>\n      <td>0.0</td>\n      <td>0.500000</td>\n      <td>1</td>\n      <td>0</td>\n      <td>0</td>\n      <td>0</td>\n      <td>0</td>\n      <td>1</td>\n    </tr>\n    <tr>\n      <th>48840</th>\n      <td>1</td>\n      <td>0.369863</td>\n      <td>0.800000</td>\n      <td>0.054551</td>\n      <td>0.0</td>\n      <td>0.397959</td>\n      <td>1</td>\n      <td>0</td>\n      <td>1</td>\n      <td>0</td>\n      <td>0</td>\n      <td>0</td>\n    </tr>\n    <tr>\n      <th>48841</th>\n      <td>1</td>\n      <td>0.246575</td>\n      <td>0.800000</td>\n      <td>0.000000</td>\n      <td>0.0</td>\n      <td>0.602041</td>\n      <td>0</td>\n      <td>0</td>\n      <td>0</td>\n      <td>0</td>\n      <td>0</td>\n      <td>1</td>\n    </tr>\n  </tbody>\n</table>\n<p>48842 rows × 12 columns</p>\n</div>"
     },
     "metadata": {},
     "execution_count": 2
    }
   ],
   "source": [
    "# choose one dataset\n",
    "dataset = ['zoo', 'adult', 'iris'][1]\n",
    "\n",
    "df = None\n",
    "\n",
    "if(dataset == \"zoo\"):\n",
    "    dataObj = zoo.Zoo()\n",
    "    df = dataObj.get_df()\n",
    "    # fix target class because zoo dataset has 7 classes while we support binary class datasets in this implementation\n",
    "    target_class = [4] \n",
    "    _temp = {}\n",
    "    for i in range(1, len(df[dataObj.target].unique())+1):\n",
    "        if(i in target_class):\n",
    "            _temp[i] = 1\n",
    "        else:\n",
    "            _temp[i] = 0\n",
    "    df[dataObj.target] = df[dataObj.target].map(_temp)\n",
    "elif(dataset == \"adult\"):\n",
    "    dataObj = adult.Adult() \n",
    "    df = dataObj.get_df()\n",
    "elif(dataset == \"iris\"):\n",
    "    dataObj = iris.Iris()\n",
    "    df = dataObj.get_df()\n",
    "\n",
    "df"
   ]
  },
  {
   "source": [
    "#### Dataset preparation for training"
   ],
   "cell_type": "markdown",
   "metadata": {}
  },
  {
   "cell_type": "code",
   "execution_count": 3,
   "metadata": {},
   "outputs": [],
   "source": [
    "# declaration of classifier, X and y\n",
    "X = df.drop([dataObj.target], axis=1)\n",
    "y = df[dataObj.target]\n",
    "\n",
    "# Split dataset into training set and test set\n",
    "X_train, X_test, y_train, y_test = train_test_split(X, y, test_size=0.1, shuffle = True, random_state=2) # 70% training and 30% test"
   ]
  },
  {
   "source": [
    "### Train a black-box model"
   ],
   "cell_type": "markdown",
   "metadata": {}
  },
  {
   "cell_type": "code",
   "execution_count": 4,
   "metadata": {},
   "outputs": [
    {
     "output_type": "stream",
     "name": "stdout",
     "text": [
      "Loding model\n"
     ]
    }
   ],
   "source": [
    "# Preload/store trained model\n",
    "\n",
    "select_blackbox = ['decision tree','neural network', 'random forest'][1]\n",
    "\n",
    "model_name = None\n",
    "if(select_blackbox == 'decision tree'):\n",
    "    model_name = 'data/model/dt_' + dataset + '.pkl'\n",
    "elif(select_blackbox == \"random forest\"):\n",
    "    model_name = 'data/model/rf_' + dataset + '.pkl'\n",
    "elif(select_blackbox == \"neural network\"):\n",
    "    model_name = 'data/model/nn_' + dataset + '.pkl'\n",
    "\n",
    "else:\n",
    "    raise ValueError(\"Black box not defined\")\n",
    "\n",
    "\n",
    "\n",
    "if(not os.path.isfile(model_name)):\n",
    "    clf = None\n",
    "    if(select_blackbox == 'decision tree'):\n",
    "        param_grid = {'max_depth': np.arange(3, 10)}\n",
    "        grid_tree = GridSearchCV(tree.DecisionTreeClassifier(random_state=0), param_grid)\n",
    "        grid_tree.fit(X_train, y_train)\n",
    "        tree_preds = grid_tree.predict_proba(X_test)[:, 1]\n",
    "        tree_performance = roc_auc_score(y_test, tree_preds)\n",
    "        clf = grid_tree.best_estimator_\n",
    "        print(helper_functions.tree_to_code(clf,X_train.columns.tolist()))\n",
    "    elif(select_blackbox == \"random forest\"):\n",
    "        clf = RandomForestClassifier(n_estimators=100)\n",
    "        clf.fit(X_train,y_train)\n",
    "\n",
    "    elif(select_blackbox == \"neural network\"):\n",
    "        clf = MLPClassifier(random_state=1, max_iter=300).fit(X_train, y_train) \n",
    "        clf.fit(X_train,y_train)\n",
    "        \n",
    "    else:\n",
    "        raise ValueError(\"Black box not defined\")\n",
    "\n",
    "    # store the classifier\n",
    "    with open(model_name, 'wb') as fid:\n",
    "        pickle.dump(clf, fid)    \n",
    "\n",
    "else:\n",
    "    print(\"Loding model\")\n",
    "    with open(model_name, 'rb') as fid:\n",
    "        clf = pickle.load(fid)\n",
    "\n",
    "    \n",
    "    # For visualization\n",
    "    if(select_blackbox == \"decision tree\"):\n",
    "        print(pac_explanation.utils.tree_to_code(clf,X_train.columns.tolist()))\n",
    "\n"
   ]
  },
  {
   "source": [
    "## Specify target sample (queries with distance parameter)\n",
    "In this experiment, we have considered two types of queries: \n",
    "    \n",
    "    (1) target sample,\n",
    "    (2) a logical specification of the sample space viewed as a region    \n",
    "    \n",
    "for which, we learn a local explanation"
   ],
   "cell_type": "markdown",
   "metadata": {}
  },
  {
   "cell_type": "code",
   "execution_count": 5,
   "metadata": {},
   "outputs": [
    {
     "output_type": "stream",
     "name": "stdout",
     "text": [
      "Query is a specific input\n- threshold: 0.5\n- specific_input: [1.0, 0.2465753424657534, 0.5333333333333333, 0.0, 0.0, 0.39795918367346933, 0.0, 0.0, 0.0, 0.0, 1.0]\n- detailed_input: [('sex', 1.0), ('age', 0.2465753424657534), ('education-num', 0.5333333333333333), ('capital-gain', 0.0), ('capital-loss', 0.0), ('hours-per-week', 0.39795918367346933), ('race_0', 0.0), ('race_1', 0.0), ('race_2', 0.0), ('race_3', 0.0), ('race_4', 1.0)]\nLabel of this sample by the black box predictor: [1]\n"
     ]
    }
   ],
   "source": [
    "select_query = ['decision tree', 'specific input'][1]\n",
    "\n",
    "# X and y will be used as arguments for learner as initial examples. While this is not a strict requirement, we make sure that the learner is atleast correct with respect to the given sample (when select_query = specific_input).\n",
    "\n",
    "X = None\n",
    "y = None \n",
    "\n",
    "# Our PAC explainer considers a query object. For either type of queries, we define a query_class\n",
    "query_class = None\n",
    "if(select_query == \"decision tree\"):\n",
    "    # We define query specilized for decision tree\n",
    "    query_class = example_queries.DecisionTree(features=X_train.columns.tolist(), halfspace=example_queries.ExampleQueries().queries[0])\n",
    "    X = []\n",
    "    y = []\n",
    "elif(select_query == \"specific input\"):  \n",
    "    # An input from the training set\n",
    "    specific_input = X_train.iloc[0].tolist()\n",
    "\n",
    "    # A threshold is provided for distance based query. The range of this threshold is not properly checked. Roughly, all neighboring samples with distance less than the threshold are considered inside the local region\n",
    "    query_class = example_queries.DistanceQuery(specific_input=specific_input, threshold=0.5, features = X_train.columns.tolist())\n",
    "    X = [specific_input]\n",
    "    y = [clf.predict([specific_input])[0]]\n",
    "    print(query_class)\n",
    "    print(\"Label of this sample by the black box predictor:\", y)\n",
    "    \n",
    "else:\n",
    "    raise ValueError(select_query +\" is not a defined query.\")"
   ]
  },
  {
   "source": [
    "## Generate a PAC explanation with SyGuS\n",
    "We define three entities here.\n",
    "\n",
    "    (1) blackbox,\n",
    "    (2) learner, and\n",
    "    (3) query\n",
    "\n",
    "Our task is to define a `teacher` who performs the task of learning an explanation of the `blackbox` given the `query` by sending necessary information to the `learner`."
   ],
   "cell_type": "markdown",
   "metadata": {}
  },
  {
   "cell_type": "code",
   "execution_count": 6,
   "metadata": {},
   "outputs": [],
   "source": [
    "# define the black-box as a scikit-learn object (trained)\n",
    "blackbox = None\n",
    "if(select_blackbox == 'decision tree' or select_blackbox == \"random forest\" or select_blackbox == \"neural network\"):\n",
    "    blackbox = BlackBox(clf, clf.predict)\n",
    "else:\n",
    "    raise ValueError(\"Black box not defined\")\n",
    "\n",
    "# define the learner as a SyGuS object\n",
    "sygus = SyGuS_IF(rule_type=\"CNF\", feature_names=dataObj.attributes, feature_data_type=dataObj.attribute_type, function_return_type= \"Bool\", real_attribute_domain_info=dataObj.real_attribute_domain_info, verbose=False, syntactic_grammar=True, workdir=\"temp\")\n",
    "\n",
    "learner = Learner(model = sygus, prediction_function = sygus.predict_z3, train_function = sygus.fit, X = X, y=y)\n",
    "\n",
    "# define the query as specified above\n",
    "query = Query(model = None, prediction_function = query_class.predict_function_query)\n"
   ]
  },
  {
   "source": [
    "### Teacher"
   ],
   "cell_type": "markdown",
   "metadata": {}
  },
  {
   "cell_type": "code",
   "execution_count": 11,
   "metadata": {},
   "outputs": [
    {
     "output_type": "stream",
     "name": "stdout",
     "text": [
      "Explanation for =>\nQuery is a specific input\n- threshold: 0.5\n- specific_input: [1.0, 0.2465753424657534, 0.5333333333333333, 0.0, 0.0, 0.39795918367346933, 0.0, 0.0, 0.0, 0.0, 1.0]\n- detailed_input: [('sex', 1.0), ('age', 0.2465753424657534), ('education-num', 0.5333333333333333), ('capital-gain', 0.0), ('capital-loss', 0.0), ('hours-per-week', 0.39795918367346933), ('race_0', 0.0), ('race_1', 0.0), ('race_2', 0.0), ('race_3', 0.0), ('race_4', 1.0)]\n\nLearned explanation =>\n (and (< capital-loss (/ 4 5)) (or (< education-num (/ 2 5)) (or (> education-num (/ 4 5)) (< hours-per-week (/ 39999999999999997 100000000000000000)))))\n\n-explanation size: 5\n-is explanation learning complete? False\n-it took 11.009070873260498 seconds\n-learner time: 9.944893836975098\n-verifier time: 0.06206011772155762\n-random words checked 1\n-random words filtered by querys: 0\n-total counterexamples: 14\n-percentage of positive counterexamples for the learner: 0.35714285714285715\n"
     ]
    }
   ],
   "source": [
    "# Now let the teacher complete its task\n",
    "teacher = Teacher(max_iterations=100000, epsilon=0.051, delta=0.501, timeout=10)\n",
    "\n",
    "# Teacher object needs an access to a random sample generator for the verification task. We call a specilized random generator that utilizes the knowledge of the training dataset, for example, the attribute type of each attribute.\n",
    "\n",
    "teach_start = time.time()\n",
    "learner, flag = teacher.teach(blackbox = blackbox, learner = learner, query = query, random_example_generator = utils.random_generator, params_generator = (X_train, dataObj.attribute_type), verbose=False)\n",
    "teach_end = time.time()\n",
    "\n",
    "print(\"Explanation for =>\")\n",
    "print(query_class)\n",
    "print(\"\\nLearned explanation =>\")\n",
    "print(learner.model._function_snippet)\n",
    "print(\"\\n-explanation size:\", learner.model.get_formula_size(verbose=False))\n",
    "print(\"-is explanation learning complete?\", flag)\n",
    "print(\"-it took\", teach_end - teach_start, \"seconds\")\n",
    "print(\"-learner time:\", teacher.time_learner)\n",
    "print(\"-verifier time:\", teacher.time_verifier)\n",
    "print('-random words checked', teacher.verifier.number_of_examples_checked)\n",
    "print(\"-random words filtered by querys:\", teacher.verifier.filtered_by_query)\n",
    "print(\"-total counterexamples:\", len(learner.y))\n",
    "print(\"-percentage of positive counterexamples for the learner:\", np.array(learner.y).mean())\n"
   ]
  },
  {
   "source": [
    "#### Evaluation of the explanation"
   ],
   "cell_type": "markdown",
   "metadata": {}
  },
  {
   "cell_type": "code",
   "execution_count": 9,
   "metadata": {},
   "outputs": [
    {
     "output_type": "stream",
     "name": "stdout",
     "text": [
      "-is explanation learning complete? False\n-it took 11.018446922302246 seconds\n-learner time: 9.932276964187622\n-verifier time: 0.0792238712310791\ncorrect:  3845 out of  4885 examples. Percentage:  0.7871033776867963\nrandom words checked 1\nFiltered by querys: 0\nTotal counterexamples: 12\npercentage of positive counterexamples for the learner: 0.4166666666666667\n\n"
     ]
    }
   ],
   "source": [
    "# If a test sample is not within the query, we do not report explanation error, otherwise we report error when the learner and the blackbox have different classification for that sample\n",
    "\n",
    "acc = None\n",
    "try:\n",
    "    cnt = 0\n",
    "    learner_verdicts = learner.classify_examples(X_test.values.tolist())\n",
    "    blackbox_verdicts = blackbox.classify_examples(X_test.values.tolist())\n",
    "    for i in range(len(X_test.values.tolist())):\n",
    "\n",
    "        blackbox_verdict = blackbox_verdicts[i]\n",
    "        learner_verdict = learner_verdicts[i]\n",
    "        query_verdict = query.classify_example(X_test.values.tolist()[i])\n",
    "        if(not query_verdict):\n",
    "            cnt += 1\n",
    "            continue\n",
    "        if(learner_verdict == blackbox_verdict):\n",
    "            cnt += 1\n",
    "    acc = cnt/len(y_test)\n",
    "except:\n",
    "    cnt = None\n",
    "    acc = None\n",
    "\n",
    "print(\"correct: \", cnt, \"out of \", len(y_test), \"examples. Percentage: \", acc)"
   ]
  },
  {
   "cell_type": "code",
   "execution_count": null,
   "metadata": {},
   "outputs": [],
   "source": []
  }
 ]
}