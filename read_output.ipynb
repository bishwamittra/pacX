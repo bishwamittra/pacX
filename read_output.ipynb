{
 "metadata": {
  "language_info": {
   "codemirror_mode": {
    "name": "ipython",
    "version": 3
   },
   "file_extension": ".py",
   "mimetype": "text/x-python",
   "name": "python",
   "nbconvert_exporter": "python",
   "pygments_lexer": "ipython3",
   "version": 3
  },
  "orig_nbformat": 2,
  "kernelspec": {
   "name": "python_defaultSpec_1596656773561",
   "display_name": "Python 3.7.6 64-bit ('base': conda)"
  }
 },
 "nbformat": 4,
 "nbformat_minor": 2,
 "cells": [
  {
   "cell_type": "code",
   "execution_count": 6,
   "metadata": {},
   "outputs": [
    {
     "output_type": "execute_result",
     "data": {
      "text/plain": "   accuracy  counterexamples checked  \\\n0       1.0                    403.0   \n1       1.0                    256.0   \n2       1.0                    263.0   \n3       1.0                    349.0   \n4       1.0                    159.0   \n\n                                         explanation  \\\n0                           (not (or eggs breathes))   \n1                           (not (or eggs breathes))   \n2                           (not (or eggs breathes))   \n3                           (not (or eggs breathes))   \n4   (or (and backbone venomous) (not (or eggs aqu...   \n\n   positive counterexamples         query  terminate       time  time learner  \\\n0                  0.428571  breathes = 0        1.0   3.772221      0.191404   \n1                  0.428571  breathes = 0        1.0   2.313438      0.194700   \n2                  0.500000  breathes = 0        1.0   2.443796      0.156289   \n3                  0.400000  breathes = 0        1.0   3.023467      0.127053   \n4                  0.466667      eggs = 0        0.0  61.009408     54.861349   \n\n   time verifier  \n0       3.580459  \n1       2.118371  \n2       2.287163  \n3       2.896136  \n4       0.910921  ",
      "text/html": "<div>\n<style scoped>\n    .dataframe tbody tr th:only-of-type {\n        vertical-align: middle;\n    }\n\n    .dataframe tbody tr th {\n        vertical-align: top;\n    }\n\n    .dataframe thead th {\n        text-align: right;\n    }\n</style>\n<table border=\"1\" class=\"dataframe\">\n  <thead>\n    <tr style=\"text-align: right;\">\n      <th></th>\n      <th>accuracy</th>\n      <th>counterexamples checked</th>\n      <th>explanation</th>\n      <th>positive counterexamples</th>\n      <th>query</th>\n      <th>terminate</th>\n      <th>time</th>\n      <th>time learner</th>\n      <th>time verifier</th>\n    </tr>\n  </thead>\n  <tbody>\n    <tr>\n      <th>0</th>\n      <td>1.0</td>\n      <td>403.0</td>\n      <td>(not (or eggs breathes))</td>\n      <td>0.428571</td>\n      <td>breathes = 0</td>\n      <td>1.0</td>\n      <td>3.772221</td>\n      <td>0.191404</td>\n      <td>3.580459</td>\n    </tr>\n    <tr>\n      <th>1</th>\n      <td>1.0</td>\n      <td>256.0</td>\n      <td>(not (or eggs breathes))</td>\n      <td>0.428571</td>\n      <td>breathes = 0</td>\n      <td>1.0</td>\n      <td>2.313438</td>\n      <td>0.194700</td>\n      <td>2.118371</td>\n    </tr>\n    <tr>\n      <th>2</th>\n      <td>1.0</td>\n      <td>263.0</td>\n      <td>(not (or eggs breathes))</td>\n      <td>0.500000</td>\n      <td>breathes = 0</td>\n      <td>1.0</td>\n      <td>2.443796</td>\n      <td>0.156289</td>\n      <td>2.287163</td>\n    </tr>\n    <tr>\n      <th>3</th>\n      <td>1.0</td>\n      <td>349.0</td>\n      <td>(not (or eggs breathes))</td>\n      <td>0.400000</td>\n      <td>breathes = 0</td>\n      <td>1.0</td>\n      <td>3.023467</td>\n      <td>0.127053</td>\n      <td>2.896136</td>\n    </tr>\n    <tr>\n      <th>4</th>\n      <td>1.0</td>\n      <td>159.0</td>\n      <td>(or (and backbone venomous) (not (or eggs aqu...</td>\n      <td>0.466667</td>\n      <td>eggs = 0</td>\n      <td>0.0</td>\n      <td>61.009408</td>\n      <td>54.861349</td>\n      <td>0.910921</td>\n    </tr>\n  </tbody>\n</table>\n</div>"
     },
     "metadata": {},
     "execution_count": 6
    }
   ],
   "source": [
    "import pandas as pd \n",
    "import numpy as np\n",
    "df = pd.read_csv(\"data/output/result.csv\", header=None)\n",
    "df.columns = ['accuracy', 'counterexamples checked', 'explanation', 'positive counterexamples', 'query', 'terminate', 'time', 'time learner', 'time verifier']\n",
    "df.head()"
   ]
  },
  {
   "cell_type": "code",
   "execution_count": 7,
   "metadata": {},
   "outputs": [
    {
     "output_type": "execute_result",
     "data": {
      "text/plain": "          query  accuracy  counterexamples checked  positive counterexamples  \\\n0   aquatic = 0  0.954545                    389.5                  0.428571   \n1  backbone = 1  0.727273                    220.5                  0.464103   \n2  breathes = 0  1.000000                    306.0                  0.428571   \n3      eggs = 0  0.818182                    268.5                  0.466667   \n4   legs <= 0.2  0.636364                    363.5                  0.445055   \n\n   terminate       time  time learner  time verifier  \n0        0.0  61.019881     37.877101       3.586408  \n1        0.0  61.025941     34.832642       1.949248  \n2        1.0   2.733631      0.173847       2.591650  \n3        0.0  61.013182     48.991406       2.249623  \n4        0.0  61.023240     35.185468       3.871168  ",
      "text/html": "<div>\n<style scoped>\n    .dataframe tbody tr th:only-of-type {\n        vertical-align: middle;\n    }\n\n    .dataframe tbody tr th {\n        vertical-align: top;\n    }\n\n    .dataframe thead th {\n        text-align: right;\n    }\n</style>\n<table border=\"1\" class=\"dataframe\">\n  <thead>\n    <tr style=\"text-align: right;\">\n      <th></th>\n      <th>query</th>\n      <th>accuracy</th>\n      <th>counterexamples checked</th>\n      <th>positive counterexamples</th>\n      <th>terminate</th>\n      <th>time</th>\n      <th>time learner</th>\n      <th>time verifier</th>\n    </tr>\n  </thead>\n  <tbody>\n    <tr>\n      <th>0</th>\n      <td>aquatic = 0</td>\n      <td>0.954545</td>\n      <td>389.5</td>\n      <td>0.428571</td>\n      <td>0.0</td>\n      <td>61.019881</td>\n      <td>37.877101</td>\n      <td>3.586408</td>\n    </tr>\n    <tr>\n      <th>1</th>\n      <td>backbone = 1</td>\n      <td>0.727273</td>\n      <td>220.5</td>\n      <td>0.464103</td>\n      <td>0.0</td>\n      <td>61.025941</td>\n      <td>34.832642</td>\n      <td>1.949248</td>\n    </tr>\n    <tr>\n      <th>2</th>\n      <td>breathes = 0</td>\n      <td>1.000000</td>\n      <td>306.0</td>\n      <td>0.428571</td>\n      <td>1.0</td>\n      <td>2.733631</td>\n      <td>0.173847</td>\n      <td>2.591650</td>\n    </tr>\n    <tr>\n      <th>3</th>\n      <td>eggs = 0</td>\n      <td>0.818182</td>\n      <td>268.5</td>\n      <td>0.466667</td>\n      <td>0.0</td>\n      <td>61.013182</td>\n      <td>48.991406</td>\n      <td>2.249623</td>\n    </tr>\n    <tr>\n      <th>4</th>\n      <td>legs &lt;= 0.2</td>\n      <td>0.636364</td>\n      <td>363.5</td>\n      <td>0.445055</td>\n      <td>0.0</td>\n      <td>61.023240</td>\n      <td>35.185468</td>\n      <td>3.871168</td>\n    </tr>\n  </tbody>\n</table>\n</div>"
     },
     "metadata": {},
     "execution_count": 7
    }
   ],
   "source": [
    "# take median\n",
    "group_list = ['query']\n",
    "df_med = df.groupby(group_list).median()\n",
    "df_med.reset_index(inplace=True)\n",
    "df_med.head()"
   ]
  },
  {
   "cell_type": "code",
   "execution_count": 8,
   "metadata": {
    "tags": []
   },
   "outputs": [],
   "source": [
    "# find representative explanation\n",
    "query_explanations = {}\n",
    "for key, item in df.groupby(['query'], as_index=False):\n",
    "    item.reset_index(inplace=True, drop=True)\n",
    "    explanation = item.iloc[item.index[(item['accuracy']-df_med['accuracy'][(df_med['query'] == key)].item()).abs().argsort()][0]]['explanation']\n",
    "    query_explanations[key] = explanation"
   ]
  },
  {
   "cell_type": "code",
   "execution_count": 9,
   "metadata": {
    "tags": []
   },
   "outputs": [
    {
     "output_type": "execute_result",
     "data": {
      "text/plain": "          query  accuracy  counterexamples checked  positive counterexamples  \\\n0   aquatic = 0  0.954545                    389.5                  0.428571   \n1  backbone = 1  0.727273                    220.5                  0.464103   \n2  breathes = 0  1.000000                    306.0                  0.428571   \n3      eggs = 0  0.818182                    268.5                  0.466667   \n4   legs <= 0.2  0.636364                    363.5                  0.445055   \n\n   terminate       time  time learner  time verifier  \\\n0        0.0  61.019881     37.877101       3.586408   \n1        0.0  61.025941     34.832642       1.949248   \n2        1.0   2.733631      0.173847       2.591650   \n3        0.0  61.013182     48.991406       2.249623   \n4        0.0  61.023240     35.185468       3.871168   \n\n                                         explanation  \n0   (or (and backbone breathes) (not (or eggs air...  \n1   (or (and milk breathes) (not (or eggs breathe...  \n2                           (not (or eggs breathes))  \n3   (or (and backbone venomous) (not (or eggs bre...  \n4   (and (or milk aquatic) (not (and breathes (or...  ",
      "text/html": "<div>\n<style scoped>\n    .dataframe tbody tr th:only-of-type {\n        vertical-align: middle;\n    }\n\n    .dataframe tbody tr th {\n        vertical-align: top;\n    }\n\n    .dataframe thead th {\n        text-align: right;\n    }\n</style>\n<table border=\"1\" class=\"dataframe\">\n  <thead>\n    <tr style=\"text-align: right;\">\n      <th></th>\n      <th>query</th>\n      <th>accuracy</th>\n      <th>counterexamples checked</th>\n      <th>positive counterexamples</th>\n      <th>terminate</th>\n      <th>time</th>\n      <th>time learner</th>\n      <th>time verifier</th>\n      <th>explanation</th>\n    </tr>\n  </thead>\n  <tbody>\n    <tr>\n      <th>0</th>\n      <td>aquatic = 0</td>\n      <td>0.954545</td>\n      <td>389.5</td>\n      <td>0.428571</td>\n      <td>0.0</td>\n      <td>61.019881</td>\n      <td>37.877101</td>\n      <td>3.586408</td>\n      <td>(or (and backbone breathes) (not (or eggs air...</td>\n    </tr>\n    <tr>\n      <th>1</th>\n      <td>backbone = 1</td>\n      <td>0.727273</td>\n      <td>220.5</td>\n      <td>0.464103</td>\n      <td>0.0</td>\n      <td>61.025941</td>\n      <td>34.832642</td>\n      <td>1.949248</td>\n      <td>(or (and milk breathes) (not (or eggs breathe...</td>\n    </tr>\n    <tr>\n      <th>2</th>\n      <td>breathes = 0</td>\n      <td>1.000000</td>\n      <td>306.0</td>\n      <td>0.428571</td>\n      <td>1.0</td>\n      <td>2.733631</td>\n      <td>0.173847</td>\n      <td>2.591650</td>\n      <td>(not (or eggs breathes))</td>\n    </tr>\n    <tr>\n      <th>3</th>\n      <td>eggs = 0</td>\n      <td>0.818182</td>\n      <td>268.5</td>\n      <td>0.466667</td>\n      <td>0.0</td>\n      <td>61.013182</td>\n      <td>48.991406</td>\n      <td>2.249623</td>\n      <td>(or (and backbone venomous) (not (or eggs bre...</td>\n    </tr>\n    <tr>\n      <th>4</th>\n      <td>legs &lt;= 0.2</td>\n      <td>0.636364</td>\n      <td>363.5</td>\n      <td>0.445055</td>\n      <td>0.0</td>\n      <td>61.023240</td>\n      <td>35.185468</td>\n      <td>3.871168</td>\n      <td>(and (or milk aquatic) (not (and breathes (or...</td>\n    </tr>\n  </tbody>\n</table>\n</div>"
     },
     "metadata": {},
     "execution_count": 9
    }
   ],
   "source": [
    "df_output = df_med\n",
    "df_output['explanation'] = np.nan \n",
    "for key in query_explanations:\n",
    "    df_output['explanation'][df_output['query'] == key] = query_explanations[key]\n",
    "df_output.head()"
   ]
  },
  {
   "cell_type": "code",
   "execution_count": null,
   "metadata": {},
   "outputs": [],
   "source": []
  }
 ]
}