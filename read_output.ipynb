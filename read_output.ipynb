{
 "metadata": {
  "language_info": {
   "codemirror_mode": {
    "name": "ipython",
    "version": 3
   },
   "file_extension": ".py",
   "mimetype": "text/x-python",
   "name": "python",
   "nbconvert_exporter": "python",
   "pygments_lexer": "ipython3",
   "version": "3.8.3-final"
  },
  "orig_nbformat": 2,
  "kernelspec": {
   "name": "python3",
   "display_name": "Python 3"
  }
 },
 "nbformat": 4,
 "nbformat_minor": 2,
 "cells": [
  {
   "cell_type": "code",
   "execution_count": 9,
   "metadata": {
    "tags": []
   },
   "outputs": [
    {
     "output_type": "error",
     "ename": "KeyError",
     "evalue": "'blackbox'",
     "traceback": [
      "\u001b[0;31m---------------------------------------------------------------------------\u001b[0m",
      "\u001b[0;31mKeyError\u001b[0m                                  Traceback (most recent call last)",
      "\u001b[0;32m~/anaconda3/lib/python3.8/site-packages/pandas/core/indexes/base.py\u001b[0m in \u001b[0;36mget_loc\u001b[0;34m(self, key, method, tolerance)\u001b[0m\n\u001b[1;32m   2645\u001b[0m             \u001b[0;32mtry\u001b[0m\u001b[0;34m:\u001b[0m\u001b[0;34m\u001b[0m\u001b[0;34m\u001b[0m\u001b[0m\n\u001b[0;32m-> 2646\u001b[0;31m                 \u001b[0;32mreturn\u001b[0m \u001b[0mself\u001b[0m\u001b[0;34m.\u001b[0m\u001b[0m_engine\u001b[0m\u001b[0;34m.\u001b[0m\u001b[0mget_loc\u001b[0m\u001b[0;34m(\u001b[0m\u001b[0mkey\u001b[0m\u001b[0;34m)\u001b[0m\u001b[0;34m\u001b[0m\u001b[0;34m\u001b[0m\u001b[0m\n\u001b[0m\u001b[1;32m   2647\u001b[0m             \u001b[0;32mexcept\u001b[0m \u001b[0mKeyError\u001b[0m\u001b[0;34m:\u001b[0m\u001b[0;34m\u001b[0m\u001b[0;34m\u001b[0m\u001b[0m\n",
      "\u001b[0;32mpandas/_libs/index.pyx\u001b[0m in \u001b[0;36mpandas._libs.index.IndexEngine.get_loc\u001b[0;34m()\u001b[0m\n",
      "\u001b[0;32mpandas/_libs/index.pyx\u001b[0m in \u001b[0;36mpandas._libs.index.IndexEngine.get_loc\u001b[0;34m()\u001b[0m\n",
      "\u001b[0;32mpandas/_libs/index_class_helper.pxi\u001b[0m in \u001b[0;36mpandas._libs.index.Int64Engine._check_type\u001b[0;34m()\u001b[0m\n",
      "\u001b[0;31mKeyError\u001b[0m: 'blackbox'",
      "\nDuring handling of the above exception, another exception occurred:\n",
      "\u001b[0;31mKeyError\u001b[0m                                  Traceback (most recent call last)",
      "\u001b[0;32m<ipython-input-9-805eecee3116>\u001b[0m in \u001b[0;36m<module>\u001b[0;34m\u001b[0m\n\u001b[1;32m      7\u001b[0m \u001b[0;32melse\u001b[0m\u001b[0;34m:\u001b[0m\u001b[0;34m\u001b[0m\u001b[0;34m\u001b[0m\u001b[0m\n\u001b[1;32m      8\u001b[0m     \u001b[0mdf\u001b[0m \u001b[0;34m=\u001b[0m \u001b[0mpd\u001b[0m\u001b[0;34m.\u001b[0m\u001b[0mread_csv\u001b[0m\u001b[0;34m(\u001b[0m\u001b[0;34m\"data/output/result.csv\"\u001b[0m\u001b[0;34m,\u001b[0m \u001b[0mheader\u001b[0m\u001b[0;34m=\u001b[0m\u001b[0;32mNone\u001b[0m\u001b[0;34m)\u001b[0m\u001b[0;34m\u001b[0m\u001b[0;34m\u001b[0m\u001b[0m\n\u001b[0;32m----> 9\u001b[0;31m     \u001b[0mdf\u001b[0m \u001b[0;34m=\u001b[0m \u001b[0mdf\u001b[0m\u001b[0;34m[\u001b[0m\u001b[0mdf\u001b[0m\u001b[0;34m[\u001b[0m\u001b[0;34m'blackbox'\u001b[0m\u001b[0;34m]\u001b[0m \u001b[0;34m==\u001b[0m \u001b[0mselect_blackbox\u001b[0m\u001b[0;34m]\u001b[0m\u001b[0;34m\u001b[0m\u001b[0;34m\u001b[0m\u001b[0m\n\u001b[0m\u001b[1;32m     10\u001b[0m \u001b[0;34m\u001b[0m\u001b[0m\n\u001b[1;32m     11\u001b[0m \u001b[0;34m\u001b[0m\u001b[0m\n",
      "\u001b[0;32m~/anaconda3/lib/python3.8/site-packages/pandas/core/frame.py\u001b[0m in \u001b[0;36m__getitem__\u001b[0;34m(self, key)\u001b[0m\n\u001b[1;32m   2798\u001b[0m             \u001b[0;32mif\u001b[0m \u001b[0mself\u001b[0m\u001b[0;34m.\u001b[0m\u001b[0mcolumns\u001b[0m\u001b[0;34m.\u001b[0m\u001b[0mnlevels\u001b[0m \u001b[0;34m>\u001b[0m \u001b[0;36m1\u001b[0m\u001b[0;34m:\u001b[0m\u001b[0;34m\u001b[0m\u001b[0;34m\u001b[0m\u001b[0m\n\u001b[1;32m   2799\u001b[0m                 \u001b[0;32mreturn\u001b[0m \u001b[0mself\u001b[0m\u001b[0;34m.\u001b[0m\u001b[0m_getitem_multilevel\u001b[0m\u001b[0;34m(\u001b[0m\u001b[0mkey\u001b[0m\u001b[0;34m)\u001b[0m\u001b[0;34m\u001b[0m\u001b[0;34m\u001b[0m\u001b[0m\n\u001b[0;32m-> 2800\u001b[0;31m             \u001b[0mindexer\u001b[0m \u001b[0;34m=\u001b[0m \u001b[0mself\u001b[0m\u001b[0;34m.\u001b[0m\u001b[0mcolumns\u001b[0m\u001b[0;34m.\u001b[0m\u001b[0mget_loc\u001b[0m\u001b[0;34m(\u001b[0m\u001b[0mkey\u001b[0m\u001b[0;34m)\u001b[0m\u001b[0;34m\u001b[0m\u001b[0;34m\u001b[0m\u001b[0m\n\u001b[0m\u001b[1;32m   2801\u001b[0m             \u001b[0;32mif\u001b[0m \u001b[0mis_integer\u001b[0m\u001b[0;34m(\u001b[0m\u001b[0mindexer\u001b[0m\u001b[0;34m)\u001b[0m\u001b[0;34m:\u001b[0m\u001b[0;34m\u001b[0m\u001b[0;34m\u001b[0m\u001b[0m\n\u001b[1;32m   2802\u001b[0m                 \u001b[0mindexer\u001b[0m \u001b[0;34m=\u001b[0m \u001b[0;34m[\u001b[0m\u001b[0mindexer\u001b[0m\u001b[0;34m]\u001b[0m\u001b[0;34m\u001b[0m\u001b[0;34m\u001b[0m\u001b[0m\n",
      "\u001b[0;32m~/anaconda3/lib/python3.8/site-packages/pandas/core/indexes/base.py\u001b[0m in \u001b[0;36mget_loc\u001b[0;34m(self, key, method, tolerance)\u001b[0m\n\u001b[1;32m   2646\u001b[0m                 \u001b[0;32mreturn\u001b[0m \u001b[0mself\u001b[0m\u001b[0;34m.\u001b[0m\u001b[0m_engine\u001b[0m\u001b[0;34m.\u001b[0m\u001b[0mget_loc\u001b[0m\u001b[0;34m(\u001b[0m\u001b[0mkey\u001b[0m\u001b[0;34m)\u001b[0m\u001b[0;34m\u001b[0m\u001b[0;34m\u001b[0m\u001b[0m\n\u001b[1;32m   2647\u001b[0m             \u001b[0;32mexcept\u001b[0m \u001b[0mKeyError\u001b[0m\u001b[0;34m:\u001b[0m\u001b[0;34m\u001b[0m\u001b[0;34m\u001b[0m\u001b[0m\n\u001b[0;32m-> 2648\u001b[0;31m                 \u001b[0;32mreturn\u001b[0m \u001b[0mself\u001b[0m\u001b[0;34m.\u001b[0m\u001b[0m_engine\u001b[0m\u001b[0;34m.\u001b[0m\u001b[0mget_loc\u001b[0m\u001b[0;34m(\u001b[0m\u001b[0mself\u001b[0m\u001b[0;34m.\u001b[0m\u001b[0m_maybe_cast_indexer\u001b[0m\u001b[0;34m(\u001b[0m\u001b[0mkey\u001b[0m\u001b[0;34m)\u001b[0m\u001b[0;34m)\u001b[0m\u001b[0;34m\u001b[0m\u001b[0;34m\u001b[0m\u001b[0m\n\u001b[0m\u001b[1;32m   2649\u001b[0m         \u001b[0mindexer\u001b[0m \u001b[0;34m=\u001b[0m \u001b[0mself\u001b[0m\u001b[0;34m.\u001b[0m\u001b[0mget_indexer\u001b[0m\u001b[0;34m(\u001b[0m\u001b[0;34m[\u001b[0m\u001b[0mkey\u001b[0m\u001b[0;34m]\u001b[0m\u001b[0;34m,\u001b[0m \u001b[0mmethod\u001b[0m\u001b[0;34m=\u001b[0m\u001b[0mmethod\u001b[0m\u001b[0;34m,\u001b[0m \u001b[0mtolerance\u001b[0m\u001b[0;34m=\u001b[0m\u001b[0mtolerance\u001b[0m\u001b[0;34m)\u001b[0m\u001b[0;34m\u001b[0m\u001b[0;34m\u001b[0m\u001b[0m\n\u001b[1;32m   2650\u001b[0m         \u001b[0;32mif\u001b[0m \u001b[0mindexer\u001b[0m\u001b[0;34m.\u001b[0m\u001b[0mndim\u001b[0m \u001b[0;34m>\u001b[0m \u001b[0;36m1\u001b[0m \u001b[0;32mor\u001b[0m \u001b[0mindexer\u001b[0m\u001b[0;34m.\u001b[0m\u001b[0msize\u001b[0m \u001b[0;34m>\u001b[0m \u001b[0;36m1\u001b[0m\u001b[0;34m:\u001b[0m\u001b[0;34m\u001b[0m\u001b[0;34m\u001b[0m\u001b[0m\n",
      "\u001b[0;32mpandas/_libs/index.pyx\u001b[0m in \u001b[0;36mpandas._libs.index.IndexEngine.get_loc\u001b[0;34m()\u001b[0m\n",
      "\u001b[0;32mpandas/_libs/index.pyx\u001b[0m in \u001b[0;36mpandas._libs.index.IndexEngine.get_loc\u001b[0;34m()\u001b[0m\n",
      "\u001b[0;32mpandas/_libs/index_class_helper.pxi\u001b[0m in \u001b[0;36mpandas._libs.index.Int64Engine._check_type\u001b[0;34m()\u001b[0m\n",
      "\u001b[0;31mKeyError\u001b[0m: 'blackbox'"
     ]
    }
   ],
   "source": [
    "import pandas as pd \n",
    "import numpy as np\n",
    "select_blackbox = ['dt', 'nn', 'rf'][1]\n",
    "sanity = False\n",
    "if(sanity):\n",
    "    df = pd.read_csv(\"data/output/sanity_result.csv\", header=None)\n",
    "    df.columns = ['accuracy', 'blackbox', 'dataset', 'explainer', 'explanation', 'explanation size', 'positive counterexamples', 'query', 'random words checked', 'syntactic grammar', 'terminate', 'time', 'time learner', 'time verifier', 'total counterexamples']\n",
    "\n",
    "else:\n",
    "    df = pd.read_csv(\"data/output/result.csv\", header=None)\n",
    "    df.columns = ['accuracy', 'blackbox', 'dataset', 'explainer', 'explanation', 'explanation size', 'positive counterexamples', 'query', 'random words checked', 'syntactic grammar', 'terminate', 'time', 'time learner', 'time verifier', 'total counterexamples']\n",
    "    df = df[df['blackbox'] == select_blackbox]\n",
    "\n",
    "\n",
    "print(\"minimum iterations:\", min(df.groupby(['query'])['explanation'].count()), \"max iterations:\",max(df.groupby(['query'])['explanation'].count()))\n",
    "df.head()"
   ]
  },
  {
   "cell_type": "code",
   "execution_count": 3,
   "metadata": {},
   "outputs": [
    {
     "output_type": "execute_result",
     "data": {
      "text/plain": "  dataset explainer          query  syntactic grammar  accuracy  \\\n0     zoo     sygus   breathes = 1                0.0  1.000000   \n1     zoo     sygus   breathes = 1                1.0  1.000000   \n2     zoo     sygus  breathes >= 0                0.0  0.818182   \n3     zoo     sygus  breathes >= 0                1.0  1.000000   \n4     zoo     sygus       fins = 0                0.0  1.000000   \n5     zoo     sygus       fins = 0                1.0  1.000000   \n6     zoo     sygus       milk = 1                0.0  1.000000   \n7     zoo     sygus       milk = 1                1.0  1.000000   \n\n   explanation size  positive counterexamples  random words checked  \\\n0               1.0                  0.000000                  89.0   \n1               1.0                  0.000000                  89.0   \n2            1650.5                  0.915538              209194.0   \n3               2.0                  0.267857                 165.5   \n4               1.0                  0.000000                  89.0   \n5               1.0                  0.000000                  89.0   \n6            1566.0                  0.919271              231451.5   \n7               3.0                  0.279221                 373.5   \n\n   terminate        time  time learner  time verifier  total counterexamples  \n0        1.0    0.051779      0.028197       0.023548                   15.5  \n1        1.0    0.065364      0.041451       0.022833                    5.5  \n2        0.0  101.058080     73.555758      26.444369                  184.0  \n3        1.0    0.542820      0.393466       0.145502                   10.5  \n4        1.0    0.064683      0.033741       0.030472                   15.5  \n5        1.0    0.084493      0.053889       0.029768                    5.5  \n6        0.0  101.058845     74.822900      25.182061                  192.0  \n7        1.0    1.371359      1.155108       0.209128                   13.5  ",
      "text/html": "<div>\n<style scoped>\n    .dataframe tbody tr th:only-of-type {\n        vertical-align: middle;\n    }\n\n    .dataframe tbody tr th {\n        vertical-align: top;\n    }\n\n    .dataframe thead th {\n        text-align: right;\n    }\n</style>\n<table border=\"1\" class=\"dataframe\">\n  <thead>\n    <tr style=\"text-align: right;\">\n      <th></th>\n      <th>dataset</th>\n      <th>explainer</th>\n      <th>query</th>\n      <th>syntactic grammar</th>\n      <th>accuracy</th>\n      <th>explanation size</th>\n      <th>positive counterexamples</th>\n      <th>random words checked</th>\n      <th>terminate</th>\n      <th>time</th>\n      <th>time learner</th>\n      <th>time verifier</th>\n      <th>total counterexamples</th>\n    </tr>\n  </thead>\n  <tbody>\n    <tr>\n      <th>0</th>\n      <td>zoo</td>\n      <td>sygus</td>\n      <td>breathes = 1</td>\n      <td>0.0</td>\n      <td>1.000000</td>\n      <td>1.0</td>\n      <td>0.000000</td>\n      <td>89.0</td>\n      <td>1.0</td>\n      <td>0.051779</td>\n      <td>0.028197</td>\n      <td>0.023548</td>\n      <td>15.5</td>\n    </tr>\n    <tr>\n      <th>1</th>\n      <td>zoo</td>\n      <td>sygus</td>\n      <td>breathes = 1</td>\n      <td>1.0</td>\n      <td>1.000000</td>\n      <td>1.0</td>\n      <td>0.000000</td>\n      <td>89.0</td>\n      <td>1.0</td>\n      <td>0.065364</td>\n      <td>0.041451</td>\n      <td>0.022833</td>\n      <td>5.5</td>\n    </tr>\n    <tr>\n      <th>2</th>\n      <td>zoo</td>\n      <td>sygus</td>\n      <td>breathes &gt;= 0</td>\n      <td>0.0</td>\n      <td>0.818182</td>\n      <td>1650.5</td>\n      <td>0.915538</td>\n      <td>209194.0</td>\n      <td>0.0</td>\n      <td>101.058080</td>\n      <td>73.555758</td>\n      <td>26.444369</td>\n      <td>184.0</td>\n    </tr>\n    <tr>\n      <th>3</th>\n      <td>zoo</td>\n      <td>sygus</td>\n      <td>breathes &gt;= 0</td>\n      <td>1.0</td>\n      <td>1.000000</td>\n      <td>2.0</td>\n      <td>0.267857</td>\n      <td>165.5</td>\n      <td>1.0</td>\n      <td>0.542820</td>\n      <td>0.393466</td>\n      <td>0.145502</td>\n      <td>10.5</td>\n    </tr>\n    <tr>\n      <th>4</th>\n      <td>zoo</td>\n      <td>sygus</td>\n      <td>fins = 0</td>\n      <td>0.0</td>\n      <td>1.000000</td>\n      <td>1.0</td>\n      <td>0.000000</td>\n      <td>89.0</td>\n      <td>1.0</td>\n      <td>0.064683</td>\n      <td>0.033741</td>\n      <td>0.030472</td>\n      <td>15.5</td>\n    </tr>\n    <tr>\n      <th>5</th>\n      <td>zoo</td>\n      <td>sygus</td>\n      <td>fins = 0</td>\n      <td>1.0</td>\n      <td>1.000000</td>\n      <td>1.0</td>\n      <td>0.000000</td>\n      <td>89.0</td>\n      <td>1.0</td>\n      <td>0.084493</td>\n      <td>0.053889</td>\n      <td>0.029768</td>\n      <td>5.5</td>\n    </tr>\n    <tr>\n      <th>6</th>\n      <td>zoo</td>\n      <td>sygus</td>\n      <td>milk = 1</td>\n      <td>0.0</td>\n      <td>1.000000</td>\n      <td>1566.0</td>\n      <td>0.919271</td>\n      <td>231451.5</td>\n      <td>0.0</td>\n      <td>101.058845</td>\n      <td>74.822900</td>\n      <td>25.182061</td>\n      <td>192.0</td>\n    </tr>\n    <tr>\n      <th>7</th>\n      <td>zoo</td>\n      <td>sygus</td>\n      <td>milk = 1</td>\n      <td>1.0</td>\n      <td>1.000000</td>\n      <td>3.0</td>\n      <td>0.279221</td>\n      <td>373.5</td>\n      <td>1.0</td>\n      <td>1.371359</td>\n      <td>1.155108</td>\n      <td>0.209128</td>\n      <td>13.5</td>\n    </tr>\n  </tbody>\n</table>\n</div>"
     },
     "metadata": {},
     "execution_count": 3
    }
   ],
   "source": [
    "# take median\n",
    "group_list = ['dataset','explainer','query', 'syntactic grammar']\n",
    "df_med = df.groupby(group_list).median()\n",
    "df_med.reset_index(inplace=True)\n",
    "df_med"
   ]
  },
  {
   "cell_type": "code",
   "execution_count": 4,
   "metadata": {
    "tags": []
   },
   "outputs": [],
   "source": [
    "# find representative explanation\n",
    "query_explanations = {}\n",
    "for key, item in df.groupby(['dataset','explainer','query', 'syntactic grammar'], as_index = False):\n",
    "    item.reset_index(inplace=True, drop=True)\n",
    "    if(len(item) == 1):\n",
    "        query_explanations[key] = item['explanation'].item()\n",
    "    else:\n",
    "        # nearest explanation to the average accuracy\n",
    "        explanation = item.iloc[item.index[(item['accuracy']-df_med['accuracy'][(df_med['dataset'] == key[0]) & (df_med['explainer'] == key[1]) & (df_med['syntactic grammar'] == key[3]) & (df_med['query'] == key[2])].item()).abs().argsort()][0]]['explanation']\n",
    "        query_explanations[key] = explanation"
   ]
  },
  {
   "cell_type": "code",
   "execution_count": 5,
   "metadata": {
    "tags": []
   },
   "outputs": [
    {
     "output_type": "execute_result",
     "data": {
      "text/plain": "  dataset  syntactic grammar explainer          query  \\\n0     zoo                0.0     sygus   breathes = 1   \n1     zoo                1.0     sygus   breathes = 1   \n2     zoo                0.0     sygus  breathes >= 0   \n3     zoo                1.0     sygus  breathes >= 0   \n4     zoo                0.0     sygus       fins = 0   \n5     zoo                1.0     sygus       fins = 0   \n6     zoo                0.0     sygus       milk = 1   \n7     zoo                1.0     sygus       milk = 1   \n\n                                         explanation  accuracy    time  \\\n0                                              false      1.00    0.05   \n1                                              false      1.00    0.07   \n2   (let ((_let_0 (= legs (/ 467 500)))) (let ((_...      0.82  101.06   \n3                          (and (not breathes) fins)      1.00    0.54   \n4                                              false      1.00    0.06   \n5                                              false      1.00    0.08   \n6   (let ((_let_0 (= legs (/ 113 200)))) (let ((_...      1.00  101.06   \n7               (and milk (and (not breathes) fins))      1.00    1.37   \n\n   time learner  time verifier  random words checked  total counterexamples  \\\n0          0.03           0.02                  89.0                   15.5   \n1          0.04           0.02                  89.0                    5.5   \n2         73.56          26.44              209194.0                  184.0   \n3          0.39           0.15                 165.5                   10.5   \n4          0.03           0.03                  89.0                   15.5   \n5          0.05           0.03                  89.0                    5.5   \n6         74.82          25.18              231451.5                  192.0   \n7          1.16           0.21                 373.5                   13.5   \n\n   positive counterexamples  \n0                      0.00  \n1                      0.00  \n2                      0.92  \n3                      0.27  \n4                      0.00  \n5                      0.00  \n6                      0.92  \n7                      0.28  ",
      "text/html": "<div>\n<style scoped>\n    .dataframe tbody tr th:only-of-type {\n        vertical-align: middle;\n    }\n\n    .dataframe tbody tr th {\n        vertical-align: top;\n    }\n\n    .dataframe thead th {\n        text-align: right;\n    }\n</style>\n<table border=\"1\" class=\"dataframe\">\n  <thead>\n    <tr style=\"text-align: right;\">\n      <th></th>\n      <th>dataset</th>\n      <th>syntactic grammar</th>\n      <th>explainer</th>\n      <th>query</th>\n      <th>explanation</th>\n      <th>accuracy</th>\n      <th>time</th>\n      <th>time learner</th>\n      <th>time verifier</th>\n      <th>random words checked</th>\n      <th>total counterexamples</th>\n      <th>positive counterexamples</th>\n    </tr>\n  </thead>\n  <tbody>\n    <tr>\n      <th>0</th>\n      <td>zoo</td>\n      <td>0.0</td>\n      <td>sygus</td>\n      <td>breathes = 1</td>\n      <td>false</td>\n      <td>1.00</td>\n      <td>0.05</td>\n      <td>0.03</td>\n      <td>0.02</td>\n      <td>89.0</td>\n      <td>15.5</td>\n      <td>0.00</td>\n    </tr>\n    <tr>\n      <th>1</th>\n      <td>zoo</td>\n      <td>1.0</td>\n      <td>sygus</td>\n      <td>breathes = 1</td>\n      <td>false</td>\n      <td>1.00</td>\n      <td>0.07</td>\n      <td>0.04</td>\n      <td>0.02</td>\n      <td>89.0</td>\n      <td>5.5</td>\n      <td>0.00</td>\n    </tr>\n    <tr>\n      <th>2</th>\n      <td>zoo</td>\n      <td>0.0</td>\n      <td>sygus</td>\n      <td>breathes &gt;= 0</td>\n      <td>(let ((_let_0 (= legs (/ 467 500)))) (let ((_...</td>\n      <td>0.82</td>\n      <td>101.06</td>\n      <td>73.56</td>\n      <td>26.44</td>\n      <td>209194.0</td>\n      <td>184.0</td>\n      <td>0.92</td>\n    </tr>\n    <tr>\n      <th>3</th>\n      <td>zoo</td>\n      <td>1.0</td>\n      <td>sygus</td>\n      <td>breathes &gt;= 0</td>\n      <td>(and (not breathes) fins)</td>\n      <td>1.00</td>\n      <td>0.54</td>\n      <td>0.39</td>\n      <td>0.15</td>\n      <td>165.5</td>\n      <td>10.5</td>\n      <td>0.27</td>\n    </tr>\n    <tr>\n      <th>4</th>\n      <td>zoo</td>\n      <td>0.0</td>\n      <td>sygus</td>\n      <td>fins = 0</td>\n      <td>false</td>\n      <td>1.00</td>\n      <td>0.06</td>\n      <td>0.03</td>\n      <td>0.03</td>\n      <td>89.0</td>\n      <td>15.5</td>\n      <td>0.00</td>\n    </tr>\n    <tr>\n      <th>5</th>\n      <td>zoo</td>\n      <td>1.0</td>\n      <td>sygus</td>\n      <td>fins = 0</td>\n      <td>false</td>\n      <td>1.00</td>\n      <td>0.08</td>\n      <td>0.05</td>\n      <td>0.03</td>\n      <td>89.0</td>\n      <td>5.5</td>\n      <td>0.00</td>\n    </tr>\n    <tr>\n      <th>6</th>\n      <td>zoo</td>\n      <td>0.0</td>\n      <td>sygus</td>\n      <td>milk = 1</td>\n      <td>(let ((_let_0 (= legs (/ 113 200)))) (let ((_...</td>\n      <td>1.00</td>\n      <td>101.06</td>\n      <td>74.82</td>\n      <td>25.18</td>\n      <td>231451.5</td>\n      <td>192.0</td>\n      <td>0.92</td>\n    </tr>\n    <tr>\n      <th>7</th>\n      <td>zoo</td>\n      <td>1.0</td>\n      <td>sygus</td>\n      <td>milk = 1</td>\n      <td>(and milk (and (not breathes) fins))</td>\n      <td>1.00</td>\n      <td>1.37</td>\n      <td>1.16</td>\n      <td>0.21</td>\n      <td>373.5</td>\n      <td>13.5</td>\n      <td>0.28</td>\n    </tr>\n  </tbody>\n</table>\n</div>"
     },
     "metadata": {},
     "execution_count": 5
    }
   ],
   "source": [
    "df_output = df_med\n",
    "df_output = df_output.drop(\"terminate\", axis=1)\n",
    "df_output['explanation'] = np.nan \n",
    "for key in query_explanations:\n",
    "    df_output['explanation'][(df_output['dataset'] == key[0]) & (df_output['explainer'] == key[1]) & (df_output['syntactic grammar'] == key[3]) & (df_output['query'] == key[2])] = query_explanations[key]\n",
    "\n",
    "# reorganise columns\n",
    "df_output = df_output[[ 'dataset',  'syntactic grammar', 'explainer','query', 'explanation', 'accuracy', 'time', 'time learner', 'time verifier', 'random words checked', 'total counterexamples', 'positive counterexamples']]\n",
    "df_output = df_output.round(2)\n",
    "df_output.head(n=10)"
   ]
  },
  {
   "cell_type": "code",
   "execution_count": 7,
   "metadata": {
    "tags": []
   },
   "outputs": [
    {
     "output_type": "stream",
     "name": "stdout",
     "text": "\n\n\n"
    },
    {
     "output_type": "display_data",
     "data": {
      "text/plain": "<IPython.core.display.Markdown object>",
      "text/markdown": "### Query"
     },
     "metadata": {}
    },
    {
     "output_type": "stream",
     "name": "stdout",
     "text": "zoo\nbreathes = 1\nsygus\n0.0\n\n\n\n"
    },
    {
     "output_type": "display_data",
     "data": {
      "text/plain": "<IPython.core.display.Markdown object>",
      "text/markdown": "### Query"
     },
     "metadata": {}
    },
    {
     "output_type": "stream",
     "name": "stdout",
     "text": "zoo\nbreathes = 1\nsygus\n1.0\n"
    },
    {
     "output_type": "display_data",
     "data": {
      "text/plain": "<IPython.core.display.Markdown object>",
      "text/markdown": "### Result"
     },
     "metadata": {}
    },
    {
     "output_type": "stream",
     "name": "stdout",
     "text": "false\n\n\naccuracy 1.0\n\n\n\n"
    },
    {
     "output_type": "display_data",
     "data": {
      "text/plain": "<IPython.core.display.Markdown object>",
      "text/markdown": "### Query"
     },
     "metadata": {}
    },
    {
     "output_type": "stream",
     "name": "stdout",
     "text": "zoo\nbreathes >= 0\nsygus\n0.0\n\n\n\n"
    },
    {
     "output_type": "display_data",
     "data": {
      "text/plain": "<IPython.core.display.Markdown object>",
      "text/markdown": "### Query"
     },
     "metadata": {}
    },
    {
     "output_type": "stream",
     "name": "stdout",
     "text": "zoo\nbreathes >= 0\nsygus\n1.0\n"
    },
    {
     "output_type": "display_data",
     "data": {
      "text/plain": "<IPython.core.display.Markdown object>",
      "text/markdown": "### Result"
     },
     "metadata": {}
    },
    {
     "output_type": "stream",
     "name": "stdout",
     "text": "(and (not breathes) fins)\n\n\naccuracy 1.0\n\n\n\n"
    },
    {
     "output_type": "display_data",
     "data": {
      "text/plain": "<IPython.core.display.Markdown object>",
      "text/markdown": "### Query"
     },
     "metadata": {}
    },
    {
     "output_type": "stream",
     "name": "stdout",
     "text": "zoo\nfins = 0\nsygus\n0.0\n\n\n\n"
    },
    {
     "output_type": "display_data",
     "data": {
      "text/plain": "<IPython.core.display.Markdown object>",
      "text/markdown": "### Query"
     },
     "metadata": {}
    },
    {
     "output_type": "stream",
     "name": "stdout",
     "text": "zoo\nfins = 0\nsygus\n1.0\n"
    },
    {
     "output_type": "display_data",
     "data": {
      "text/plain": "<IPython.core.display.Markdown object>",
      "text/markdown": "### Result"
     },
     "metadata": {}
    },
    {
     "output_type": "stream",
     "name": "stdout",
     "text": "false\n\n\naccuracy 1.0\n\n\n\n"
    },
    {
     "output_type": "display_data",
     "data": {
      "text/plain": "<IPython.core.display.Markdown object>",
      "text/markdown": "### Query"
     },
     "metadata": {}
    },
    {
     "output_type": "stream",
     "name": "stdout",
     "text": "zoo\nmilk = 1\nsygus\n0.0\n\n\n\n"
    },
    {
     "output_type": "display_data",
     "data": {
      "text/plain": "<IPython.core.display.Markdown object>",
      "text/markdown": "### Query"
     },
     "metadata": {}
    },
    {
     "output_type": "stream",
     "name": "stdout",
     "text": "zoo\nmilk = 1\nsygus\n1.0\n"
    },
    {
     "output_type": "display_data",
     "data": {
      "text/plain": "<IPython.core.display.Markdown object>",
      "text/markdown": "### Result"
     },
     "metadata": {}
    },
    {
     "output_type": "stream",
     "name": "stdout",
     "text": "(and milk (and (not breathes) fins))\n\n\naccuracy 1.0\n"
    }
   ],
   "source": [
    "import matplotlib.pyplot as plt\n",
    "import pickle\n",
    "from IPython.display import Markdown, display\n",
    "from trustable_explanation import helper_functions\n",
    "import numpy as np\n",
    "\n",
    "\n",
    "features = ['hair', 'feathers', 'eggs', 'milk', 'airborne', 'aquatic', 'predator', 'toothed', 'backbone', 'breathes', 'venomous', 'fins', 'legs', 'tail', 'domestic', 'catsize']\n",
    "# print results in an explainable manner\n",
    "for key, item in df_output.groupby(['dataset','query','explainer','syntactic grammar'], as_index = False):\n",
    "    print(\"\\n\\n\")\n",
    "    display(Markdown(\"### Query\"))\n",
    "    for i in key:\n",
    "        print(i)\n",
    "    if(key[3] == 0):\n",
    "        continue\n",
    "    display(Markdown(\"### Result\"))\n",
    "    if(key[1] == \"logistic regression\"):\n",
    "        feature_importance = np.fromstring(item['explanation'].item()[1:-1], dtype=np.float, sep=' ')\n",
    "        feature_importance = 100.0 * (feature_importance / (abs(feature_importance).max()))\n",
    "        sorted_idx = np.argsort(abs(feature_importance))\n",
    "        pos = np.arange(sorted_idx.shape[0]) + .5\n",
    "        featfig = plt.figure()\n",
    "        featax = featfig.add_subplot(1, 1, 1)\n",
    "        featax.barh(pos, feature_importance[sorted_idx], align='center')\n",
    "        featax.set_yticks(pos)\n",
    "        featax.set_yticklabels(np.array(features)[sorted_idx])\n",
    "        featax.set_xlabel('Relative Feature Importance')\n",
    "        plt.tight_layout()   \n",
    "        plt.show()\n",
    "    elif(key[1] == \"decision tree\"):\n",
    "        dt = None\n",
    "        with open(item['explanation'].item(), 'rb') as fid:\n",
    "            dt = pickle.load(fid)\n",
    "        print(helper_functions.tree_to_code(dt,features))\n",
    "    else:\n",
    "        print(item['explanation'].item())\n",
    "    print(\"\\n\\naccuracy\",item['accuracy'].item())\n",
    ""
   ]
  },
  {
   "cell_type": "code",
   "execution_count": 70,
   "metadata": {},
   "outputs": [],
   "source": [
    "# to remote \n",
    "# df_output.to_csv(\"data/output/summary.csv\", index = False)\n",
    "df_output.to_csv(\"/home/bishwamittra/Dropbox/trustable_explanations/result.csv\", index = False)"
   ]
  },
  {
   "cell_type": "code",
   "execution_count": null,
   "metadata": {},
   "outputs": [],
   "source": []
  }
 ]
}