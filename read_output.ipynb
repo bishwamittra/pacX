{
 "metadata": {
  "language_info": {
   "codemirror_mode": {
    "name": "ipython",
    "version": 3
   },
   "file_extension": ".py",
   "mimetype": "text/x-python",
   "name": "python",
   "nbconvert_exporter": "python",
   "pygments_lexer": "ipython3",
   "version": "3.7.6-final"
  },
  "orig_nbformat": 2,
  "kernelspec": {
   "name": "python3",
   "display_name": "Python 3"
  }
 },
 "nbformat": 4,
 "nbformat_minor": 2,
 "cells": [
  {
   "cell_type": "code",
   "execution_count": 23,
   "metadata": {
    "tags": []
   },
   "outputs": [
    {
     "output_type": "stream",
     "name": "stdout",
     "text": "minimum iterations: 320 max iterations: 320\n"
    },
    {
     "output_type": "execute_result",
     "data": {
      "text/plain": "   accuracy blackbox dataset explainer  \\\n0  0.693142       nn   adult     sygus   \n1  0.909091       nn     zoo     sygus   \n2  0.400000       nn    iris     sygus   \n3  0.800000       nn    iris     sygus   \n4  0.800000       nn    iris     sygus   \n\n                                         explanation  explanation size  \\\n0   (and sex (and (not race_0) (and (not race_3) ...               6.0   \n1   (and (not feathers) (and (not eggs) (and (not...               6.0   \n2   (or (and (> sepal-length (/ 1 2)) (> sepal-wi...               9.0   \n3   (or (and (< sepal-length (/ 1 4)) (and (< sep...               9.0   \n4   (let ((_let_0 (> petal-length (/ 1 4)))) (or ...               9.0   \n\n   positive counterexamples  \\\n0                  0.090909   \n1                  0.166667   \n2                  0.500000   \n3                  0.533333   \n4                  0.500000   \n\n                                               query  random words checked  \\\n0  - threshold: 0.1\\n- specific_input: [1.0, 0.24...                4635.0   \n1  - threshold: 0.1\\n- specific_input: [1.0, 0.0,...                5476.0   \n2  - threshold: 0.1\\n- specific_input: [0.3888888...                 287.0   \n3  - threshold: 0.1\\n- specific_input: [0.3888888...                 262.0   \n4  - threshold: 0.1\\n- specific_input: [0.3888888...                 183.0   \n\n   syntactic grammar  terminate        time  time learner  time verifier  \\\n0                1.0        1.0  243.660193    223.940881      19.710073   \n1                1.0        0.0  301.044946    292.256090       7.775726   \n2                1.0        0.0  301.121077    295.591486       4.523366   \n3                1.0        0.0  301.057874    295.382077       4.669280   \n4                1.0        0.0  301.111646    295.642730       4.463228   \n\n   total counterexamples  \n0                   22.0  \n1                   30.0  \n2                   14.0  \n3                   15.0  \n4                   14.0  ",
      "text/html": "<div>\n<style scoped>\n    .dataframe tbody tr th:only-of-type {\n        vertical-align: middle;\n    }\n\n    .dataframe tbody tr th {\n        vertical-align: top;\n    }\n\n    .dataframe thead th {\n        text-align: right;\n    }\n</style>\n<table border=\"1\" class=\"dataframe\">\n  <thead>\n    <tr style=\"text-align: right;\">\n      <th></th>\n      <th>accuracy</th>\n      <th>blackbox</th>\n      <th>dataset</th>\n      <th>explainer</th>\n      <th>explanation</th>\n      <th>explanation size</th>\n      <th>positive counterexamples</th>\n      <th>query</th>\n      <th>random words checked</th>\n      <th>syntactic grammar</th>\n      <th>terminate</th>\n      <th>time</th>\n      <th>time learner</th>\n      <th>time verifier</th>\n      <th>total counterexamples</th>\n    </tr>\n  </thead>\n  <tbody>\n    <tr>\n      <th>0</th>\n      <td>0.693142</td>\n      <td>nn</td>\n      <td>adult</td>\n      <td>sygus</td>\n      <td>(and sex (and (not race_0) (and (not race_3) ...</td>\n      <td>6.0</td>\n      <td>0.090909</td>\n      <td>- threshold: 0.1\\n- specific_input: [1.0, 0.24...</td>\n      <td>4635.0</td>\n      <td>1.0</td>\n      <td>1.0</td>\n      <td>243.660193</td>\n      <td>223.940881</td>\n      <td>19.710073</td>\n      <td>22.0</td>\n    </tr>\n    <tr>\n      <th>1</th>\n      <td>0.909091</td>\n      <td>nn</td>\n      <td>zoo</td>\n      <td>sygus</td>\n      <td>(and (not feathers) (and (not eggs) (and (not...</td>\n      <td>6.0</td>\n      <td>0.166667</td>\n      <td>- threshold: 0.1\\n- specific_input: [1.0, 0.0,...</td>\n      <td>5476.0</td>\n      <td>1.0</td>\n      <td>0.0</td>\n      <td>301.044946</td>\n      <td>292.256090</td>\n      <td>7.775726</td>\n      <td>30.0</td>\n    </tr>\n    <tr>\n      <th>2</th>\n      <td>0.400000</td>\n      <td>nn</td>\n      <td>iris</td>\n      <td>sygus</td>\n      <td>(or (and (&gt; sepal-length (/ 1 2)) (&gt; sepal-wi...</td>\n      <td>9.0</td>\n      <td>0.500000</td>\n      <td>- threshold: 0.1\\n- specific_input: [0.3888888...</td>\n      <td>287.0</td>\n      <td>1.0</td>\n      <td>0.0</td>\n      <td>301.121077</td>\n      <td>295.591486</td>\n      <td>4.523366</td>\n      <td>14.0</td>\n    </tr>\n    <tr>\n      <th>3</th>\n      <td>0.800000</td>\n      <td>nn</td>\n      <td>iris</td>\n      <td>sygus</td>\n      <td>(or (and (&lt; sepal-length (/ 1 4)) (and (&lt; sep...</td>\n      <td>9.0</td>\n      <td>0.533333</td>\n      <td>- threshold: 0.1\\n- specific_input: [0.3888888...</td>\n      <td>262.0</td>\n      <td>1.0</td>\n      <td>0.0</td>\n      <td>301.057874</td>\n      <td>295.382077</td>\n      <td>4.669280</td>\n      <td>15.0</td>\n    </tr>\n    <tr>\n      <th>4</th>\n      <td>0.800000</td>\n      <td>nn</td>\n      <td>iris</td>\n      <td>sygus</td>\n      <td>(let ((_let_0 (&gt; petal-length (/ 1 4)))) (or ...</td>\n      <td>9.0</td>\n      <td>0.500000</td>\n      <td>- threshold: 0.1\\n- specific_input: [0.3888888...</td>\n      <td>183.0</td>\n      <td>1.0</td>\n      <td>0.0</td>\n      <td>301.111646</td>\n      <td>295.642730</td>\n      <td>4.463228</td>\n      <td>14.0</td>\n    </tr>\n  </tbody>\n</table>\n</div>"
     },
     "metadata": {},
     "execution_count": 23
    }
   ],
   "source": [
    "import pandas as pd \n",
    "import numpy as np\n",
    "select_blackbox = ['dt', 'nn', 'rf'][1]\n",
    "sanity = False\n",
    "if(sanity):\n",
    "    df = pd.read_csv(\"data/output/sanity_result.csv\", header=None)\n",
    "    df.columns = ['accuracy', 'blackbox', 'dataset', 'explainer', 'explanation', 'explanation size', 'positive counterexamples', 'query', 'random words checked', 'syntactic grammar', 'terminate', 'time', 'time learner', 'time verifier', 'total counterexamples']\n",
    "    df['query'].fillna('true', inplace=True)\n",
    "\n",
    "else:\n",
    "    df = pd.read_csv(\"data/output/result.csv\", header=None)\n",
    "    df.columns = ['accuracy', 'blackbox', 'dataset', 'explainer', 'explanation', 'explanation size', 'positive counterexamples', 'query', 'random words checked', 'syntactic grammar', 'terminate', 'time', 'time learner', 'time verifier', 'total counterexamples']\n",
    "    df = df[df['blackbox'] == select_blackbox]\n",
    "\n",
    "\n",
    "print(\"minimum iterations:\", min(df.groupby(['query'])['explanation'].count()), \"max iterations:\",max(df.groupby(['query'])['explanation'].count()))\n",
    "df.head()"
   ]
  },
  {
   "cell_type": "code",
   "execution_count": 24,
   "metadata": {},
   "outputs": [
    {
     "output_type": "execute_result",
     "data": {
      "text/plain": "  dataset explainer                                              query  \\\n0   adult     sygus  - threshold: 0.1\\n- specific_input: [1.0, 0.24...   \n1   adult     sygus  - threshold: 0.1\\n- specific_input: [1.0, 0.24...   \n2    iris     sygus  - threshold: 0.1\\n- specific_input: [0.3888888...   \n3    iris     sygus  - threshold: 0.1\\n- specific_input: [0.3888888...   \n4     zoo     sygus  - threshold: 0.1\\n- specific_input: [1.0, 0.0,...   \n5     zoo     sygus  - threshold: 0.1\\n- specific_input: [1.0, 0.0,...   \n\n   syntactic grammar  accuracy  explanation size  positive counterexamples  \\\n0                0.0  0.544729              11.0                  0.062500   \n1                1.0  0.687922               4.0                  0.064516   \n2                0.0  0.800000             604.5                  0.885226   \n3                1.0  0.800000               8.0                  0.357143   \n4                0.0  1.000000              16.0                  0.062500   \n5                1.0  0.909091               4.0                  0.054054   \n\n   random words checked  terminate        time  time learner  time verifier  \\\n0                  89.0        1.0    1.233844      0.198753       1.017223   \n1                4763.0        0.0  301.047444    264.123625      35.994097   \n2              102613.0        0.0  302.490740     44.023356     257.666163   \n3                 111.5        0.0  301.112958    296.087875       4.018936   \n4                  89.0        1.0    0.514788      0.247106       0.272054   \n5                6782.5        0.0  301.044606    288.870018      11.165286   \n\n   total counterexamples  \n0                   17.0  \n1                   28.5  \n2                  132.0  \n3                   14.0  \n4                   17.0  \n5                   33.5  ",
      "text/html": "<div>\n<style scoped>\n    .dataframe tbody tr th:only-of-type {\n        vertical-align: middle;\n    }\n\n    .dataframe tbody tr th {\n        vertical-align: top;\n    }\n\n    .dataframe thead th {\n        text-align: right;\n    }\n</style>\n<table border=\"1\" class=\"dataframe\">\n  <thead>\n    <tr style=\"text-align: right;\">\n      <th></th>\n      <th>dataset</th>\n      <th>explainer</th>\n      <th>query</th>\n      <th>syntactic grammar</th>\n      <th>accuracy</th>\n      <th>explanation size</th>\n      <th>positive counterexamples</th>\n      <th>random words checked</th>\n      <th>terminate</th>\n      <th>time</th>\n      <th>time learner</th>\n      <th>time verifier</th>\n      <th>total counterexamples</th>\n    </tr>\n  </thead>\n  <tbody>\n    <tr>\n      <th>0</th>\n      <td>adult</td>\n      <td>sygus</td>\n      <td>- threshold: 0.1\\n- specific_input: [1.0, 0.24...</td>\n      <td>0.0</td>\n      <td>0.544729</td>\n      <td>11.0</td>\n      <td>0.062500</td>\n      <td>89.0</td>\n      <td>1.0</td>\n      <td>1.233844</td>\n      <td>0.198753</td>\n      <td>1.017223</td>\n      <td>17.0</td>\n    </tr>\n    <tr>\n      <th>1</th>\n      <td>adult</td>\n      <td>sygus</td>\n      <td>- threshold: 0.1\\n- specific_input: [1.0, 0.24...</td>\n      <td>1.0</td>\n      <td>0.687922</td>\n      <td>4.0</td>\n      <td>0.064516</td>\n      <td>4763.0</td>\n      <td>0.0</td>\n      <td>301.047444</td>\n      <td>264.123625</td>\n      <td>35.994097</td>\n      <td>28.5</td>\n    </tr>\n    <tr>\n      <th>2</th>\n      <td>iris</td>\n      <td>sygus</td>\n      <td>- threshold: 0.1\\n- specific_input: [0.3888888...</td>\n      <td>0.0</td>\n      <td>0.800000</td>\n      <td>604.5</td>\n      <td>0.885226</td>\n      <td>102613.0</td>\n      <td>0.0</td>\n      <td>302.490740</td>\n      <td>44.023356</td>\n      <td>257.666163</td>\n      <td>132.0</td>\n    </tr>\n    <tr>\n      <th>3</th>\n      <td>iris</td>\n      <td>sygus</td>\n      <td>- threshold: 0.1\\n- specific_input: [0.3888888...</td>\n      <td>1.0</td>\n      <td>0.800000</td>\n      <td>8.0</td>\n      <td>0.357143</td>\n      <td>111.5</td>\n      <td>0.0</td>\n      <td>301.112958</td>\n      <td>296.087875</td>\n      <td>4.018936</td>\n      <td>14.0</td>\n    </tr>\n    <tr>\n      <th>4</th>\n      <td>zoo</td>\n      <td>sygus</td>\n      <td>- threshold: 0.1\\n- specific_input: [1.0, 0.0,...</td>\n      <td>0.0</td>\n      <td>1.000000</td>\n      <td>16.0</td>\n      <td>0.062500</td>\n      <td>89.0</td>\n      <td>1.0</td>\n      <td>0.514788</td>\n      <td>0.247106</td>\n      <td>0.272054</td>\n      <td>17.0</td>\n    </tr>\n    <tr>\n      <th>5</th>\n      <td>zoo</td>\n      <td>sygus</td>\n      <td>- threshold: 0.1\\n- specific_input: [1.0, 0.0,...</td>\n      <td>1.0</td>\n      <td>0.909091</td>\n      <td>4.0</td>\n      <td>0.054054</td>\n      <td>6782.5</td>\n      <td>0.0</td>\n      <td>301.044606</td>\n      <td>288.870018</td>\n      <td>11.165286</td>\n      <td>33.5</td>\n    </tr>\n  </tbody>\n</table>\n</div>"
     },
     "metadata": {},
     "execution_count": 24
    }
   ],
   "source": [
    "# take median\n",
    "group_list = ['dataset','explainer','query', 'syntactic grammar']\n",
    "df_med = df.groupby(group_list).median()\n",
    "df_med.reset_index(inplace=True)\n",
    "df_med"
   ]
  },
  {
   "cell_type": "code",
   "execution_count": 25,
   "metadata": {
    "tags": []
   },
   "outputs": [],
   "source": [
    "# find representative explanation\n",
    "query_explanations = {}\n",
    "for key, item in df.groupby(['dataset','explainer','query', 'syntactic grammar'], as_index = False):\n",
    "    item.reset_index(inplace=True, drop=True)\n",
    "    if(len(item) == 1):\n",
    "        query_explanations[key] = item['explanation'].item()\n",
    "    else:\n",
    "        # nearest explanation to the average accuracy\n",
    "        explanation = item.iloc[item.index[(item['accuracy']-df_med['accuracy'][(df_med['dataset'] == key[0]) & (df_med['explainer'] == key[1]) & (df_med['syntactic grammar'] == key[3]) & (df_med['query'] == key[2])].item()).abs().argsort()][0]]['explanation']\n",
    "        query_explanations[key] = explanation"
   ]
  },
  {
   "cell_type": "code",
   "execution_count": 26,
   "metadata": {
    "tags": []
   },
   "outputs": [
    {
     "output_type": "execute_result",
     "data": {
      "text/plain": "  dataset  syntactic grammar explainer  \\\n0   adult                0.0     sygus   \n1   adult                1.0     sygus   \n2    iris                0.0     sygus   \n3    iris                1.0     sygus   \n4     zoo                0.0     sygus   \n5     zoo                1.0     sygus   \n\n                                               query  \\\n0  - threshold: 0.1\\n- specific_input: [1.0, 0.24...   \n1  - threshold: 0.1\\n- specific_input: [1.0, 0.24...   \n2  - threshold: 0.1\\n- specific_input: [0.3888888...   \n3  - threshold: 0.1\\n- specific_input: [0.3888888...   \n4  - threshold: 0.1\\n- specific_input: [1.0, 0.0,...   \n5  - threshold: 0.1\\n- specific_input: [1.0, 0.0,...   \n\n                                         explanation  accuracy    time  \\\n0   (and sex race_4 (= age (/ 1232876712328767 50...      0.54    1.23   \n1   (and (not race_2) (and (not race_3) (and (< e...      0.69  301.05   \n2   (let ((_let_0 (= petal-width (/ 279 500)))) (...      0.80  302.49   \n3   (or (and (> sepal-length (/ 1 2)) (< petal-wi...      0.80  301.11   \n4   (and hair milk airborne toothed backbone brea...      1.00    0.51   \n5   (and (not feathers) (and (not eggs) (and (not...      0.91  301.04   \n\n   time learner  time verifier  random words checked  total counterexamples  \\\n0          0.20           1.02                  89.0                   17.0   \n1        264.12          35.99                4763.0                   28.5   \n2         44.02         257.67              102613.0                  132.0   \n3        296.09           4.02                 111.5                   14.0   \n4          0.25           0.27                  89.0                   17.0   \n5        288.87          11.17                6782.5                   33.5   \n\n   positive counterexamples  explanation size  \n0                      0.06              11.0  \n1                      0.06               4.0  \n2                      0.89             604.5  \n3                      0.36               8.0  \n4                      0.06              16.0  \n5                      0.05               4.0  ",
      "text/html": "<div>\n<style scoped>\n    .dataframe tbody tr th:only-of-type {\n        vertical-align: middle;\n    }\n\n    .dataframe tbody tr th {\n        vertical-align: top;\n    }\n\n    .dataframe thead th {\n        text-align: right;\n    }\n</style>\n<table border=\"1\" class=\"dataframe\">\n  <thead>\n    <tr style=\"text-align: right;\">\n      <th></th>\n      <th>dataset</th>\n      <th>syntactic grammar</th>\n      <th>explainer</th>\n      <th>query</th>\n      <th>explanation</th>\n      <th>accuracy</th>\n      <th>time</th>\n      <th>time learner</th>\n      <th>time verifier</th>\n      <th>random words checked</th>\n      <th>total counterexamples</th>\n      <th>positive counterexamples</th>\n      <th>explanation size</th>\n    </tr>\n  </thead>\n  <tbody>\n    <tr>\n      <th>0</th>\n      <td>adult</td>\n      <td>0.0</td>\n      <td>sygus</td>\n      <td>- threshold: 0.1\\n- specific_input: [1.0, 0.24...</td>\n      <td>(and sex race_4 (= age (/ 1232876712328767 50...</td>\n      <td>0.54</td>\n      <td>1.23</td>\n      <td>0.20</td>\n      <td>1.02</td>\n      <td>89.0</td>\n      <td>17.0</td>\n      <td>0.06</td>\n      <td>11.0</td>\n    </tr>\n    <tr>\n      <th>1</th>\n      <td>adult</td>\n      <td>1.0</td>\n      <td>sygus</td>\n      <td>- threshold: 0.1\\n- specific_input: [1.0, 0.24...</td>\n      <td>(and (not race_2) (and (not race_3) (and (&lt; e...</td>\n      <td>0.69</td>\n      <td>301.05</td>\n      <td>264.12</td>\n      <td>35.99</td>\n      <td>4763.0</td>\n      <td>28.5</td>\n      <td>0.06</td>\n      <td>4.0</td>\n    </tr>\n    <tr>\n      <th>2</th>\n      <td>iris</td>\n      <td>0.0</td>\n      <td>sygus</td>\n      <td>- threshold: 0.1\\n- specific_input: [0.3888888...</td>\n      <td>(let ((_let_0 (= petal-width (/ 279 500)))) (...</td>\n      <td>0.80</td>\n      <td>302.49</td>\n      <td>44.02</td>\n      <td>257.67</td>\n      <td>102613.0</td>\n      <td>132.0</td>\n      <td>0.89</td>\n      <td>604.5</td>\n    </tr>\n    <tr>\n      <th>3</th>\n      <td>iris</td>\n      <td>1.0</td>\n      <td>sygus</td>\n      <td>- threshold: 0.1\\n- specific_input: [0.3888888...</td>\n      <td>(or (and (&gt; sepal-length (/ 1 2)) (&lt; petal-wi...</td>\n      <td>0.80</td>\n      <td>301.11</td>\n      <td>296.09</td>\n      <td>4.02</td>\n      <td>111.5</td>\n      <td>14.0</td>\n      <td>0.36</td>\n      <td>8.0</td>\n    </tr>\n    <tr>\n      <th>4</th>\n      <td>zoo</td>\n      <td>0.0</td>\n      <td>sygus</td>\n      <td>- threshold: 0.1\\n- specific_input: [1.0, 0.0,...</td>\n      <td>(and hair milk airborne toothed backbone brea...</td>\n      <td>1.00</td>\n      <td>0.51</td>\n      <td>0.25</td>\n      <td>0.27</td>\n      <td>89.0</td>\n      <td>17.0</td>\n      <td>0.06</td>\n      <td>16.0</td>\n    </tr>\n    <tr>\n      <th>5</th>\n      <td>zoo</td>\n      <td>1.0</td>\n      <td>sygus</td>\n      <td>- threshold: 0.1\\n- specific_input: [1.0, 0.0,...</td>\n      <td>(and (not feathers) (and (not eggs) (and (not...</td>\n      <td>0.91</td>\n      <td>301.04</td>\n      <td>288.87</td>\n      <td>11.17</td>\n      <td>6782.5</td>\n      <td>33.5</td>\n      <td>0.05</td>\n      <td>4.0</td>\n    </tr>\n  </tbody>\n</table>\n</div>"
     },
     "metadata": {},
     "execution_count": 26
    }
   ],
   "source": [
    "df_output = df_med\n",
    "df_output = df_output.drop(\"terminate\", axis=1)\n",
    "df_output['explanation'] = np.nan \n",
    "for key in query_explanations:\n",
    "    df_output['explanation'][(df_output['dataset'] == key[0]) & (df_output['explainer'] == key[1]) & (df_output['syntactic grammar'] == key[3]) & (df_output['query'] == key[2])] = query_explanations[key]\n",
    "\n",
    "# reorganise columns\n",
    "df_output = df_output[[ 'dataset',  'syntactic grammar', 'explainer','query', 'explanation', 'accuracy', 'time', 'time learner', 'time verifier', 'random words checked', 'total counterexamples', 'positive counterexamples', 'explanation size']]\n",
    "df_output = df_output.round(2)\n",
    "df_output.head(n=10)"
   ]
  },
  {
   "cell_type": "code",
   "execution_count": 27,
   "metadata": {
    "tags": []
   },
   "outputs": [
    {
     "output_type": "stream",
     "name": "stdout",
     "text": "\n\n\n"
    },
    {
     "output_type": "display_data",
     "data": {
      "text/plain": "<IPython.core.display.Markdown object>",
      "text/markdown": "### Query"
     },
     "metadata": {}
    },
    {
     "output_type": "stream",
     "name": "stdout",
     "text": "adult\n- threshold: 0.1\n- specific_input: [1.0, 0.2465753424657534, 0.5333333333333333, 0.0, 0.0, 0.39795918367346933, 0.0, 0.0, 0.0, 0.0, 1.0]\n- detailed_input: [('sex', 1.0), ('age', 0.2465753424657534), ('education-num', 0.5333333333333333), ('capital-gain', 0.0), ('capital-loss', 0.0), ('hours-per-week', 0.39795918367346933), ('race_0', 0.0), ('race_1', 0.0), ('race_2', 0.0), ('race_3', 0.0), ('race_4', 1.0)]\nsygus\n0.0\n\n\n\n"
    },
    {
     "output_type": "display_data",
     "data": {
      "text/plain": "<IPython.core.display.Markdown object>",
      "text/markdown": "### Query"
     },
     "metadata": {}
    },
    {
     "output_type": "stream",
     "name": "stdout",
     "text": "adult\n- threshold: 0.1\n- specific_input: [1.0, 0.2465753424657534, 0.5333333333333333, 0.0, 0.0, 0.39795918367346933, 0.0, 0.0, 0.0, 0.0, 1.0]\n- detailed_input: [('sex', 1.0), ('age', 0.2465753424657534), ('education-num', 0.5333333333333333), ('capital-gain', 0.0), ('capital-loss', 0.0), ('hours-per-week', 0.39795918367346933), ('race_0', 0.0), ('race_1', 0.0), ('race_2', 0.0), ('race_3', 0.0), ('race_4', 1.0)]\nsygus\n1.0\n"
    },
    {
     "output_type": "display_data",
     "data": {
      "text/plain": "<IPython.core.display.Markdown object>",
      "text/markdown": "### Result"
     },
     "metadata": {}
    },
    {
     "output_type": "stream",
     "name": "stdout",
     "text": "(and (not race_2) (and (not race_3) (and (< education-num (/ 3 4)) (< capital-loss (/ 3 4)))))\n\n\naccuracy 0.69\n\n\n\n"
    },
    {
     "output_type": "display_data",
     "data": {
      "text/plain": "<IPython.core.display.Markdown object>",
      "text/markdown": "### Query"
     },
     "metadata": {}
    },
    {
     "output_type": "stream",
     "name": "stdout",
     "text": "iris\n- threshold: 0.1\n- specific_input: [0.38888888888888884, 0.25, 0.423728813559322, 0.375]\n- detailed_input: [('sepal-length', 0.38888888888888884), ('sepal-width', 0.25), ('petal-length', 0.423728813559322), ('petal-width', 0.375)]\nsygus\n0.0\n\n\n\n"
    },
    {
     "output_type": "display_data",
     "data": {
      "text/plain": "<IPython.core.display.Markdown object>",
      "text/markdown": "### Query"
     },
     "metadata": {}
    },
    {
     "output_type": "stream",
     "name": "stdout",
     "text": "iris\n- threshold: 0.1\n- specific_input: [0.38888888888888884, 0.25, 0.423728813559322, 0.375]\n- detailed_input: [('sepal-length', 0.38888888888888884), ('sepal-width', 0.25), ('petal-length', 0.423728813559322), ('petal-width', 0.375)]\nsygus\n1.0\n"
    },
    {
     "output_type": "display_data",
     "data": {
      "text/plain": "<IPython.core.display.Markdown object>",
      "text/markdown": "### Result"
     },
     "metadata": {}
    },
    {
     "output_type": "stream",
     "name": "stdout",
     "text": "(or (and (> sepal-length (/ 1 2)) (< petal-width (/ 1 2))) (and (> sepal-length (/ 1 4)) (and (< sepal-width (/ 1 2)) (and (> petal-length (/ 1 4)) (< petal-width (/ 3 4))))))\n\n\naccuracy 0.8\n\n\n\n"
    },
    {
     "output_type": "display_data",
     "data": {
      "text/plain": "<IPython.core.display.Markdown object>",
      "text/markdown": "### Query"
     },
     "metadata": {}
    },
    {
     "output_type": "stream",
     "name": "stdout",
     "text": "zoo\n- threshold: 0.1\n- specific_input: [1.0, 0.0, 0.0, 1.0, 1.0, 0.0, 0.0, 1.0, 1.0, 1.0, 0.0, 0.0, 0.25, 1.0, 0.0, 0.0]\n- detailed_input: [('hair', 1.0), ('feathers', 0.0), ('eggs', 0.0), ('milk', 1.0), ('airborne', 1.0), ('aquatic', 0.0), ('predator', 0.0), ('toothed', 1.0), ('backbone', 1.0), ('breathes', 1.0), ('venomous', 0.0), ('fins', 0.0), ('legs', 0.25), ('tail', 1.0), ('domestic', 0.0), ('catsize', 0.0)]\nsygus\n0.0\n\n\n\n"
    },
    {
     "output_type": "display_data",
     "data": {
      "text/plain": "<IPython.core.display.Markdown object>",
      "text/markdown": "### Query"
     },
     "metadata": {}
    },
    {
     "output_type": "stream",
     "name": "stdout",
     "text": "zoo\n- threshold: 0.1\n- specific_input: [1.0, 0.0, 0.0, 1.0, 1.0, 0.0, 0.0, 1.0, 1.0, 1.0, 0.0, 0.0, 0.25, 1.0, 0.0, 0.0]\n- detailed_input: [('hair', 1.0), ('feathers', 0.0), ('eggs', 0.0), ('milk', 1.0), ('airborne', 1.0), ('aquatic', 0.0), ('predator', 0.0), ('toothed', 1.0), ('backbone', 1.0), ('breathes', 1.0), ('venomous', 0.0), ('fins', 0.0), ('legs', 0.25), ('tail', 1.0), ('domestic', 0.0), ('catsize', 0.0)]\nsygus\n1.0\n"
    },
    {
     "output_type": "display_data",
     "data": {
      "text/plain": "<IPython.core.display.Markdown object>",
      "text/markdown": "### Result"
     },
     "metadata": {}
    },
    {
     "output_type": "stream",
     "name": "stdout",
     "text": "(and (not feathers) (and (not eggs) (and (not predator) (and toothed (and backbone (not venomous))))))\n\n\naccuracy 0.91\n"
    }
   ],
   "source": [
    "import matplotlib.pyplot as plt\n",
    "import pickle\n",
    "from IPython.display import Markdown, display\n",
    "from trustable_explanation import helper_functions\n",
    "import numpy as np\n",
    "\n",
    "\n",
    "features = ['hair', 'feathers', 'eggs', 'milk', 'airborne', 'aquatic', 'predator', 'toothed', 'backbone', 'breathes', 'venomous', 'fins', 'legs', 'tail', 'domestic', 'catsize']\n",
    "# print results in an explainable manner\n",
    "for key, item in df_output.groupby(['dataset','query','explainer','syntactic grammar'], as_index = False):\n",
    "    print(\"\\n\\n\")\n",
    "    display(Markdown(\"### Query\"))\n",
    "    for i in key:\n",
    "        print(i)\n",
    "    if(key[3] == 0):\n",
    "        continue\n",
    "    display(Markdown(\"### Result\"))\n",
    "    if(key[1] == \"logistic regression\"):\n",
    "        feature_importance = np.fromstring(item['explanation'].item()[1:-1], dtype=np.float, sep=' ')\n",
    "        feature_importance = 100.0 * (feature_importance / (abs(feature_importance).max()))\n",
    "        sorted_idx = np.argsort(abs(feature_importance))\n",
    "        pos = np.arange(sorted_idx.shape[0]) + .5\n",
    "        featfig = plt.figure()\n",
    "        featax = featfig.add_subplot(1, 1, 1)\n",
    "        featax.barh(pos, feature_importance[sorted_idx], align='center')\n",
    "        featax.set_yticks(pos)\n",
    "        featax.set_yticklabels(np.array(features)[sorted_idx])\n",
    "        featax.set_xlabel('Relative Feature Importance')\n",
    "        plt.tight_layout()   \n",
    "        plt.show()\n",
    "    elif(key[1] == \"decision tree\"):\n",
    "        dt = None\n",
    "        with open(item['explanation'].item(), 'rb') as fid:\n",
    "            dt = pickle.load(fid)\n",
    "        print(helper_functions.tree_to_code(dt,features))\n",
    "    else:\n",
    "        print(item['explanation'].item())\n",
    "    print(\"\\n\\naccuracy\",item['accuracy'].item())\n",
    ""
   ]
  },
  {
   "cell_type": "code",
   "execution_count": 28,
   "metadata": {},
   "outputs": [],
   "source": [
    "# to remote \n",
    "# df_output.to_csv(\"data/output/summary.csv\", index = False)\n",
    "# df_output.to_csv(\"/home/bishwamittra/Dropbox/trustable_explanations/result.csv\", index = False)"
   ]
  },
  {
   "cell_type": "code",
   "execution_count": 29,
   "metadata": {
    "tags": []
   },
   "outputs": [],
   "source": [
    "if(sanity):\n",
    "    print(df_output[df_output['syntactic grammar'] == 1][['query', 'explanation', 'explanation size', 'accuracy', 'time']].to_latex(index=False))"
   ]
  },
  {
   "cell_type": "code",
   "execution_count": 49,
   "metadata": {
    "tags": []
   },
   "outputs": [
    {
     "output_type": "stream",
     "name": "stdout",
     "text": "\\begin{tabular}{lrrrrrr}\n\\toprule\nDataset & Explanation size & Accuracy & Time & Learner(\\%) & Verifier(\\%) & Test inputs \\\\\n\\midrule\n  Adult &             4.00 &     0.69 &  300 &       0.88 &        0.12 &        4763 \\\\\n   Iris &             8.00 &     0.80 &  300 &       0.98 &        0.01 &         112 \\\\\n    Zoo &             4.00 &     0.91 &  300 &       0.96 &        0.04 &        6782 \\\\\n\\bottomrule\n\\end{tabular}\n\n"
    }
   ],
   "source": [
    "def time_format(x):\n",
    "    if(x > 300):\n",
    "        return '300'\n",
    "    else:\n",
    "        return 'f2_%1.2f' % x\n",
    "def dataset_format(x):\n",
    "    dic = {\n",
    "        'adult' : 'Adult',\n",
    "        'zoo' : 'Zoo',\n",
    "        'iris' : 'Iris'\n",
    "    }\n",
    "    return dic[x]\n",
    "def percentage(x):\n",
    "    return '%.2f' % x\n",
    "def single_decimal(x):\n",
    "    return '%.1f' % x\n",
    "\n",
    "def integer_format(x):\n",
    "    return '%.0f' % x\n",
    "\n",
    "\n",
    "df_output['learner(%)'] = df_output['time learner']/df_output['time']\n",
    "df_output['verifier(%)'] = df_output['time verifier']/df_output['time']\n",
    "print(df_output[df_output['syntactic grammar'] == 1][['dataset', 'explanation size', 'accuracy', 'time', 'learner(%)', 'verifier(%)', 'random words checked']].to_latex(index=False, formatters=[dataset_format, , percentage, time_format, percentage, percentage, integer_format], header = ['Dataset', 'Explanation size', 'Accuracy', 'Time', 'Learner(%)', 'Verifier(%)', 'Test inputs']))"
   ]
  },
  {
   "cell_type": "code",
   "execution_count": 31,
   "metadata": {},
   "outputs": [
    {
     "output_type": "execute_result",
     "data": {
      "text/plain": "  dataset  syntactic grammar explainer  \\\n0   adult                0.0     sygus   \n1   adult                1.0     sygus   \n2    iris                0.0     sygus   \n3    iris                1.0     sygus   \n4     zoo                0.0     sygus   \n5     zoo                1.0     sygus   \n\n                                               query  \\\n0  - threshold: 0.1\\n- specific_input: [1.0, 0.24...   \n1  - threshold: 0.1\\n- specific_input: [1.0, 0.24...   \n2  - threshold: 0.1\\n- specific_input: [0.3888888...   \n3  - threshold: 0.1\\n- specific_input: [0.3888888...   \n4  - threshold: 0.1\\n- specific_input: [1.0, 0.0,...   \n5  - threshold: 0.1\\n- specific_input: [1.0, 0.0,...   \n\n                                         explanation  accuracy    time  \\\n0   (and sex race_4 (= age (/ 1232876712328767 50...      0.54    1.23   \n1   (and (not race_2) (and (not race_3) (and (< e...      0.69  301.05   \n2   (let ((_let_0 (= petal-width (/ 279 500)))) (...      0.80  302.49   \n3   (or (and (> sepal-length (/ 1 2)) (< petal-wi...      0.80  301.11   \n4   (and hair milk airborne toothed backbone brea...      1.00    0.51   \n5   (and (not feathers) (and (not eggs) (and (not...      0.91  301.04   \n\n   time learner  time verifier  random words checked  total counterexamples  \\\n0          0.20           1.02                  89.0                   17.0   \n1        264.12          35.99                4763.0                   28.5   \n2         44.02         257.67              102613.0                  132.0   \n3        296.09           4.02                 111.5                   14.0   \n4          0.25           0.27                  89.0                   17.0   \n5        288.87          11.17                6782.5                   33.5   \n\n   positive counterexamples  explanation size  learner(%)  verifier(%)  \n0                      0.06              11.0    0.162602     0.829268  \n1                      0.06               4.0    0.877329     0.119548  \n2                      0.89             604.5    0.145525     0.851830  \n3                      0.36               8.0    0.983328     0.013351  \n4                      0.06              16.0    0.490196     0.529412  \n5                      0.05               4.0    0.959573     0.037105  ",
      "text/html": "<div>\n<style scoped>\n    .dataframe tbody tr th:only-of-type {\n        vertical-align: middle;\n    }\n\n    .dataframe tbody tr th {\n        vertical-align: top;\n    }\n\n    .dataframe thead th {\n        text-align: right;\n    }\n</style>\n<table border=\"1\" class=\"dataframe\">\n  <thead>\n    <tr style=\"text-align: right;\">\n      <th></th>\n      <th>dataset</th>\n      <th>syntactic grammar</th>\n      <th>explainer</th>\n      <th>query</th>\n      <th>explanation</th>\n      <th>accuracy</th>\n      <th>time</th>\n      <th>time learner</th>\n      <th>time verifier</th>\n      <th>random words checked</th>\n      <th>total counterexamples</th>\n      <th>positive counterexamples</th>\n      <th>explanation size</th>\n      <th>learner(%)</th>\n      <th>verifier(%)</th>\n    </tr>\n  </thead>\n  <tbody>\n    <tr>\n      <th>0</th>\n      <td>adult</td>\n      <td>0.0</td>\n      <td>sygus</td>\n      <td>- threshold: 0.1\\n- specific_input: [1.0, 0.24...</td>\n      <td>(and sex race_4 (= age (/ 1232876712328767 50...</td>\n      <td>0.54</td>\n      <td>1.23</td>\n      <td>0.20</td>\n      <td>1.02</td>\n      <td>89.0</td>\n      <td>17.0</td>\n      <td>0.06</td>\n      <td>11.0</td>\n      <td>0.162602</td>\n      <td>0.829268</td>\n    </tr>\n    <tr>\n      <th>1</th>\n      <td>adult</td>\n      <td>1.0</td>\n      <td>sygus</td>\n      <td>- threshold: 0.1\\n- specific_input: [1.0, 0.24...</td>\n      <td>(and (not race_2) (and (not race_3) (and (&lt; e...</td>\n      <td>0.69</td>\n      <td>301.05</td>\n      <td>264.12</td>\n      <td>35.99</td>\n      <td>4763.0</td>\n      <td>28.5</td>\n      <td>0.06</td>\n      <td>4.0</td>\n      <td>0.877329</td>\n      <td>0.119548</td>\n    </tr>\n    <tr>\n      <th>2</th>\n      <td>iris</td>\n      <td>0.0</td>\n      <td>sygus</td>\n      <td>- threshold: 0.1\\n- specific_input: [0.3888888...</td>\n      <td>(let ((_let_0 (= petal-width (/ 279 500)))) (...</td>\n      <td>0.80</td>\n      <td>302.49</td>\n      <td>44.02</td>\n      <td>257.67</td>\n      <td>102613.0</td>\n      <td>132.0</td>\n      <td>0.89</td>\n      <td>604.5</td>\n      <td>0.145525</td>\n      <td>0.851830</td>\n    </tr>\n    <tr>\n      <th>3</th>\n      <td>iris</td>\n      <td>1.0</td>\n      <td>sygus</td>\n      <td>- threshold: 0.1\\n- specific_input: [0.3888888...</td>\n      <td>(or (and (&gt; sepal-length (/ 1 2)) (&lt; petal-wi...</td>\n      <td>0.80</td>\n      <td>301.11</td>\n      <td>296.09</td>\n      <td>4.02</td>\n      <td>111.5</td>\n      <td>14.0</td>\n      <td>0.36</td>\n      <td>8.0</td>\n      <td>0.983328</td>\n      <td>0.013351</td>\n    </tr>\n    <tr>\n      <th>4</th>\n      <td>zoo</td>\n      <td>0.0</td>\n      <td>sygus</td>\n      <td>- threshold: 0.1\\n- specific_input: [1.0, 0.0,...</td>\n      <td>(and hair milk airborne toothed backbone brea...</td>\n      <td>1.00</td>\n      <td>0.51</td>\n      <td>0.25</td>\n      <td>0.27</td>\n      <td>89.0</td>\n      <td>17.0</td>\n      <td>0.06</td>\n      <td>16.0</td>\n      <td>0.490196</td>\n      <td>0.529412</td>\n    </tr>\n    <tr>\n      <th>5</th>\n      <td>zoo</td>\n      <td>1.0</td>\n      <td>sygus</td>\n      <td>- threshold: 0.1\\n- specific_input: [1.0, 0.0,...</td>\n      <td>(and (not feathers) (and (not eggs) (and (not...</td>\n      <td>0.91</td>\n      <td>301.04</td>\n      <td>288.87</td>\n      <td>11.17</td>\n      <td>6782.5</td>\n      <td>33.5</td>\n      <td>0.05</td>\n      <td>4.0</td>\n      <td>0.959573</td>\n      <td>0.037105</td>\n    </tr>\n  </tbody>\n</table>\n</div>"
     },
     "metadata": {},
     "execution_count": 31
    }
   ],
   "source": [
    "import seaborn as sns\n",
    "import matplotlib.pyplot as plt\n",
    "import numpy as np\n",
    "import os\n",
    "fontsize = 22\n",
    "labelsize = 18\n",
    "df_output"
   ]
  },
  {
   "cell_type": "code",
   "execution_count": 47,
   "metadata": {
    "tags": []
   },
   "outputs": [
    {
     "output_type": "display_data",
     "data": {
      "text/plain": "<Figure size 288x288 with 0 Axes>"
     },
     "metadata": {}
    },
    {
     "output_type": "display_data",
     "data": {
      "text/plain": "<Figure size 288x288 with 0 Axes>"
     },
     "metadata": {}
    },
    {
     "output_type": "display_data",
     "data": {
      "text/plain": "<Figure size 288x288 with 0 Axes>"
     },
     "metadata": {}
    }
   ],
   "source": [
    "save = True\n",
    "group_list = ['model']\n",
    "\n",
    "os.system(\"mkdir data/output/fig\")\n",
    "\n",
    "sns.set(rc={'figure.figsize':(10,8)})\n",
    "# sns.set_style(\"whitegrid\", {'axes.grid' : False})\n",
    "\n",
    "data = df_output.copy()\n",
    "data['syntactic grammar'] = data['syntactic grammar'].map({1.0: 'syn', 0.0: 'no syn'})\n",
    "data['dataset'] = data['dataset'].map({\n",
    "        'adult' : 'Adult',\n",
    "        'zoo' : 'Zoo',\n",
    "        'iris' : 'Iris'\n",
    "    })\n",
    "sns.catplot( x = 'dataset', y = 'accuracy', hue='syntactic grammar', kind=\"bar\",  height=4, data=data, palette=\"colorblind\", legend=False)\n",
    "plt.ylabel('Accuracy', fontsize=fontsize)\n",
    "plt.xlabel('Dataset', fontsize=fontsize)\n",
    "plt.xticks(fontsize=labelsize)\n",
    "plt.yticks(fontsize=labelsize)\n",
    "plt.legend(loc='best', fontsize=labelsize-4, frameon=False)\n",
    "# plt.yscale('log')\n",
    "plt.tight_layout()\n",
    "\n",
    "if(save):\n",
    "    plt.savefig(\"data/output/fig/accuracy.pdf\")\n",
    "    pass\n",
    "else:\n",
    "    plt.show()\n",
    "plt.clf()\n",
    "\n",
    "\n",
    "sns.catplot( x = 'dataset', y = 'time', hue='syntactic grammar', kind=\"bar\",  height=4, data=data, palette=\"colorblind\", legend=False)\n",
    "plt.ylabel('Time', fontsize=fontsize)\n",
    "plt.xlabel('Dataset', fontsize=fontsize)\n",
    "plt.xticks(fontsize=labelsize)\n",
    "plt.yticks(fontsize=labelsize)\n",
    "plt.legend(loc='best', fontsize=labelsize-4, frameon=False)\n",
    "plt.yscale('log')\n",
    "plt.tight_layout()\n",
    "\n",
    "if(save):\n",
    "    plt.savefig(\"data/output/fig/time.pdf\")\n",
    "    pass\n",
    "else:\n",
    "    plt.show()\n",
    "plt.clf()\n",
    "\n",
    "sns.catplot( x = 'dataset', y = 'explanation size', hue='syntactic grammar', kind=\"bar\",  height=4, data=data, palette=\"colorblind\", legend=False)\n",
    "plt.ylabel('Explanation size', fontsize=fontsize)\n",
    "plt.xlabel('Dataset', fontsize=fontsize)\n",
    "plt.xticks(fontsize=labelsize)\n",
    "plt.yticks(fontsize=labelsize)\n",
    "plt.legend(loc='best', fontsize=labelsize-4, frameon=False)\n",
    "plt.yscale('log')\n",
    "plt.tight_layout()\n",
    "\n",
    "if(save):\n",
    "    plt.savefig(\"data/output/fig/size.pdf\")\n",
    "    pass\n",
    "else:\n",
    "    plt.show()\n",
    "plt.clf()\n",
    "\n"
   ]
  },
  {
   "cell_type": "code",
   "execution_count": null,
   "metadata": {},
   "outputs": [],
   "source": []
  }
 ]
}