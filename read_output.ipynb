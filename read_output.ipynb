{
 "metadata": {
  "language_info": {
   "codemirror_mode": {
    "name": "ipython",
    "version": 3
   },
   "file_extension": ".py",
   "mimetype": "text/x-python",
   "name": "python",
   "nbconvert_exporter": "python",
   "pygments_lexer": "ipython3",
   "version": 3
  },
  "orig_nbformat": 2,
  "kernelspec": {
   "name": "python_defaultSpec_1597041941745",
   "display_name": "Python 3.7.6 64-bit ('base': conda)"
  }
 },
 "nbformat": 4,
 "nbformat_minor": 2,
 "cells": [
  {
   "cell_type": "code",
   "execution_count": 6,
   "metadata": {
    "tags": []
   },
   "outputs": [
    {
     "output_type": "stream",
     "name": "stdout",
     "text": "minimum iterations: 80 max iterations: 80\n"
    },
    {
     "output_type": "execute_result",
     "data": {
      "text/plain": "   accuracy                explanation  positive counterexamples  \\\n0       1.0   (not (or eggs breathes))                       0.4   \n1       1.0   (not (or eggs breathes))                       0.5   \n2       1.0   (not (or eggs breathes))                       0.5   \n3       1.0   (not (or eggs breathes))                       0.4   \n4       1.0   (not (or eggs breathes))                       0.5   \n\n          query  random words checked  terminate       time  time learner  \\\n0  breathes = 0                 247.0        1.0  26.672838      1.451271   \n1  breathes = 0                 263.0        1.0  28.461545      1.688770   \n2  breathes = 0                 266.0        1.0  28.712535      1.734702   \n3  breathes = 0                 268.0        1.0  28.708704      1.406770   \n4  breathes = 0                 269.0        1.0  29.129722      1.708946   \n\n   time verifier  total counterexamples  \n0      25.218679                    5.0  \n1      26.769444                    6.0  \n2      26.974814                    6.0  \n3      27.299391                    5.0  \n4      27.417850                    6.0  ",
      "text/html": "<div>\n<style scoped>\n    .dataframe tbody tr th:only-of-type {\n        vertical-align: middle;\n    }\n\n    .dataframe tbody tr th {\n        vertical-align: top;\n    }\n\n    .dataframe thead th {\n        text-align: right;\n    }\n</style>\n<table border=\"1\" class=\"dataframe\">\n  <thead>\n    <tr style=\"text-align: right;\">\n      <th></th>\n      <th>accuracy</th>\n      <th>explanation</th>\n      <th>positive counterexamples</th>\n      <th>query</th>\n      <th>random words checked</th>\n      <th>terminate</th>\n      <th>time</th>\n      <th>time learner</th>\n      <th>time verifier</th>\n      <th>total counterexamples</th>\n    </tr>\n  </thead>\n  <tbody>\n    <tr>\n      <th>0</th>\n      <td>1.0</td>\n      <td>(not (or eggs breathes))</td>\n      <td>0.4</td>\n      <td>breathes = 0</td>\n      <td>247.0</td>\n      <td>1.0</td>\n      <td>26.672838</td>\n      <td>1.451271</td>\n      <td>25.218679</td>\n      <td>5.0</td>\n    </tr>\n    <tr>\n      <th>1</th>\n      <td>1.0</td>\n      <td>(not (or eggs breathes))</td>\n      <td>0.5</td>\n      <td>breathes = 0</td>\n      <td>263.0</td>\n      <td>1.0</td>\n      <td>28.461545</td>\n      <td>1.688770</td>\n      <td>26.769444</td>\n      <td>6.0</td>\n    </tr>\n    <tr>\n      <th>2</th>\n      <td>1.0</td>\n      <td>(not (or eggs breathes))</td>\n      <td>0.5</td>\n      <td>breathes = 0</td>\n      <td>266.0</td>\n      <td>1.0</td>\n      <td>28.712535</td>\n      <td>1.734702</td>\n      <td>26.974814</td>\n      <td>6.0</td>\n    </tr>\n    <tr>\n      <th>3</th>\n      <td>1.0</td>\n      <td>(not (or eggs breathes))</td>\n      <td>0.4</td>\n      <td>breathes = 0</td>\n      <td>268.0</td>\n      <td>1.0</td>\n      <td>28.708704</td>\n      <td>1.406770</td>\n      <td>27.299391</td>\n      <td>5.0</td>\n    </tr>\n    <tr>\n      <th>4</th>\n      <td>1.0</td>\n      <td>(not (or eggs breathes))</td>\n      <td>0.5</td>\n      <td>breathes = 0</td>\n      <td>269.0</td>\n      <td>1.0</td>\n      <td>29.129722</td>\n      <td>1.708946</td>\n      <td>27.417850</td>\n      <td>6.0</td>\n    </tr>\n  </tbody>\n</table>\n</div>"
     },
     "metadata": {},
     "execution_count": 6
    }
   ],
   "source": [
    "import pandas as pd \n",
    "import numpy as np\n",
    "df = pd.read_csv(\"data/output/result.csv\", header=None)\n",
    "df.columns = ['accuracy', 'explanation', 'positive counterexamples', 'query', 'random words checked', 'terminate', 'time', 'time learner', 'time verifier', 'total counterexamples']\n",
    "print(\"minimum iterations:\", min(df.groupby(['query'])['explanation'].count()), \"max iterations:\",max(df.groupby(['query'])['explanation'].count()))\n",
    "df.head()"
   ]
  },
  {
   "cell_type": "code",
   "execution_count": 7,
   "metadata": {},
   "outputs": [
    {
     "output_type": "execute_result",
     "data": {
      "text/plain": "          query  accuracy  positive counterexamples  random words checked  \\\n0   aquatic = 0  0.727273                  0.466667                 226.5   \n1  backbone = 1  0.727273                  0.466667                 277.0   \n2  breathes = 0  1.000000                  0.428571                 288.5   \n3      eggs = 0  0.909091                  0.470588                 296.5   \n4   legs <= 0.2  0.727273                  0.466667                 308.5   \n\n   terminate        time  time learner  time verifier  total counterexamples  \n0        0.0  401.103211    375.705307      24.330269                   15.0  \n1        0.0  401.103397    372.452096      27.630340                   16.0  \n2        1.0   11.357691      0.502495      10.884681                    7.0  \n3        0.0  401.102876    365.618165      34.446124                   15.0  \n4        0.0  401.103456    363.788377      36.311102                   14.0  ",
      "text/html": "<div>\n<style scoped>\n    .dataframe tbody tr th:only-of-type {\n        vertical-align: middle;\n    }\n\n    .dataframe tbody tr th {\n        vertical-align: top;\n    }\n\n    .dataframe thead th {\n        text-align: right;\n    }\n</style>\n<table border=\"1\" class=\"dataframe\">\n  <thead>\n    <tr style=\"text-align: right;\">\n      <th></th>\n      <th>query</th>\n      <th>accuracy</th>\n      <th>positive counterexamples</th>\n      <th>random words checked</th>\n      <th>terminate</th>\n      <th>time</th>\n      <th>time learner</th>\n      <th>time verifier</th>\n      <th>total counterexamples</th>\n    </tr>\n  </thead>\n  <tbody>\n    <tr>\n      <th>0</th>\n      <td>aquatic = 0</td>\n      <td>0.727273</td>\n      <td>0.466667</td>\n      <td>226.5</td>\n      <td>0.0</td>\n      <td>401.103211</td>\n      <td>375.705307</td>\n      <td>24.330269</td>\n      <td>15.0</td>\n    </tr>\n    <tr>\n      <th>1</th>\n      <td>backbone = 1</td>\n      <td>0.727273</td>\n      <td>0.466667</td>\n      <td>277.0</td>\n      <td>0.0</td>\n      <td>401.103397</td>\n      <td>372.452096</td>\n      <td>27.630340</td>\n      <td>16.0</td>\n    </tr>\n    <tr>\n      <th>2</th>\n      <td>breathes = 0</td>\n      <td>1.000000</td>\n      <td>0.428571</td>\n      <td>288.5</td>\n      <td>1.0</td>\n      <td>11.357691</td>\n      <td>0.502495</td>\n      <td>10.884681</td>\n      <td>7.0</td>\n    </tr>\n    <tr>\n      <th>3</th>\n      <td>eggs = 0</td>\n      <td>0.909091</td>\n      <td>0.470588</td>\n      <td>296.5</td>\n      <td>0.0</td>\n      <td>401.102876</td>\n      <td>365.618165</td>\n      <td>34.446124</td>\n      <td>15.0</td>\n    </tr>\n    <tr>\n      <th>4</th>\n      <td>legs &lt;= 0.2</td>\n      <td>0.727273</td>\n      <td>0.466667</td>\n      <td>308.5</td>\n      <td>0.0</td>\n      <td>401.103456</td>\n      <td>363.788377</td>\n      <td>36.311102</td>\n      <td>14.0</td>\n    </tr>\n  </tbody>\n</table>\n</div>"
     },
     "metadata": {},
     "execution_count": 7
    }
   ],
   "source": [
    "# take median\n",
    "group_list = ['query']\n",
    "df_med = df.groupby(group_list).median()\n",
    "df_med.reset_index(inplace=True)\n",
    "df_med.head()"
   ]
  },
  {
   "cell_type": "code",
   "execution_count": 8,
   "metadata": {
    "tags": []
   },
   "outputs": [],
   "source": [
    "# find representative explanation\n",
    "query_explanations = {}\n",
    "for key, item in df.groupby(['query'], as_index=False):\n",
    "    item.reset_index(inplace=True, drop=True)\n",
    "    # nearest explanation to the average accuracy\n",
    "    explanation = item.iloc[item.index[(item['accuracy']-df_med['accuracy'][(df_med['query'] == key)].item()).abs().argsort()][0]]['explanation']\n",
    "    query_explanations[key] = explanation"
   ]
  },
  {
   "cell_type": "code",
   "execution_count": 9,
   "metadata": {
    "tags": []
   },
   "outputs": [
    {
     "output_type": "execute_result",
     "data": {
      "text/plain": "          query                                        explanation  accuracy  \\\n0   aquatic = 0   (not (or eggs (or aquatic (and breathes (not ...      0.73   \n1  backbone = 1   (and backbone (not (and (or eggs toothed) (or...      0.73   \n2  breathes = 0                           (not (or eggs breathes))      1.00   \n3      eggs = 0   (not (or eggs (and breathes (not (and airborn...      0.91   \n4   legs <= 0.2   (or (and hair venomous) (or (and eggs milk) (...      0.73   \n\n     time  time learner  time verifier  random words checked  \\\n0  401.10        375.71          24.33                 226.5   \n1  401.10        372.45          27.63                 277.0   \n2   11.36          0.50          10.88                 288.5   \n3  401.10        365.62          34.45                 296.5   \n4  401.10        363.79          36.31                 308.5   \n\n   total counterexamples  positive counterexamples  \n0                   15.0                      0.47  \n1                   16.0                      0.47  \n2                    7.0                      0.43  \n3                   15.0                      0.47  \n4                   14.0                      0.47  ",
      "text/html": "<div>\n<style scoped>\n    .dataframe tbody tr th:only-of-type {\n        vertical-align: middle;\n    }\n\n    .dataframe tbody tr th {\n        vertical-align: top;\n    }\n\n    .dataframe thead th {\n        text-align: right;\n    }\n</style>\n<table border=\"1\" class=\"dataframe\">\n  <thead>\n    <tr style=\"text-align: right;\">\n      <th></th>\n      <th>query</th>\n      <th>explanation</th>\n      <th>accuracy</th>\n      <th>time</th>\n      <th>time learner</th>\n      <th>time verifier</th>\n      <th>random words checked</th>\n      <th>total counterexamples</th>\n      <th>positive counterexamples</th>\n    </tr>\n  </thead>\n  <tbody>\n    <tr>\n      <th>0</th>\n      <td>aquatic = 0</td>\n      <td>(not (or eggs (or aquatic (and breathes (not ...</td>\n      <td>0.73</td>\n      <td>401.10</td>\n      <td>375.71</td>\n      <td>24.33</td>\n      <td>226.5</td>\n      <td>15.0</td>\n      <td>0.47</td>\n    </tr>\n    <tr>\n      <th>1</th>\n      <td>backbone = 1</td>\n      <td>(and backbone (not (and (or eggs toothed) (or...</td>\n      <td>0.73</td>\n      <td>401.10</td>\n      <td>372.45</td>\n      <td>27.63</td>\n      <td>277.0</td>\n      <td>16.0</td>\n      <td>0.47</td>\n    </tr>\n    <tr>\n      <th>2</th>\n      <td>breathes = 0</td>\n      <td>(not (or eggs breathes))</td>\n      <td>1.00</td>\n      <td>11.36</td>\n      <td>0.50</td>\n      <td>10.88</td>\n      <td>288.5</td>\n      <td>7.0</td>\n      <td>0.43</td>\n    </tr>\n    <tr>\n      <th>3</th>\n      <td>eggs = 0</td>\n      <td>(not (or eggs (and breathes (not (and airborn...</td>\n      <td>0.91</td>\n      <td>401.10</td>\n      <td>365.62</td>\n      <td>34.45</td>\n      <td>296.5</td>\n      <td>15.0</td>\n      <td>0.47</td>\n    </tr>\n    <tr>\n      <th>4</th>\n      <td>legs &lt;= 0.2</td>\n      <td>(or (and hair venomous) (or (and eggs milk) (...</td>\n      <td>0.73</td>\n      <td>401.10</td>\n      <td>363.79</td>\n      <td>36.31</td>\n      <td>308.5</td>\n      <td>14.0</td>\n      <td>0.47</td>\n    </tr>\n  </tbody>\n</table>\n</div>"
     },
     "metadata": {},
     "execution_count": 9
    }
   ],
   "source": [
    "df_output = df_med\n",
    "df_output = df_output.drop(\"terminate\", axis=1)\n",
    "df_output['explanation'] = np.nan \n",
    "for key in query_explanations:\n",
    "    df_output['explanation'][df_output['query'] == key] = query_explanations[key]\n",
    "\n",
    "# reorganise columns\n",
    "df_output = df_output[['query', 'explanation', 'accuracy', 'time', 'time learner', 'time verifier', 'random words checked', 'total counterexamples', 'positive counterexamples']]\n",
    "df_output = df_output.round(2)\n",
    "df_output.head()"
   ]
  },
  {
   "cell_type": "code",
   "execution_count": 10,
   "metadata": {},
   "outputs": [],
   "source": [
    "# to remote \n",
    "# df_output.to_csv(\"data/output/summary.csv\", index = False)\n",
    "df_output.to_csv(\"/home/bishwamittra/Dropbox/trustable_explanations/result.csv\", index = False)"
   ]
  },
  {
   "cell_type": "code",
   "execution_count": null,
   "metadata": {},
   "outputs": [],
   "source": []
  }
 ]
}