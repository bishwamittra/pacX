{
 "metadata": {
  "language_info": {
   "codemirror_mode": {
    "name": "ipython",
    "version": 3
   },
   "file_extension": ".py",
   "mimetype": "text/x-python",
   "name": "python",
   "nbconvert_exporter": "python",
   "pygments_lexer": "ipython3",
   "version": 3
  },
  "orig_nbformat": 2,
  "kernelspec": {
   "name": "python_defaultSpec_1596691503553",
   "display_name": "Python 3.7.6 64-bit ('base': conda)"
  }
 },
 "nbformat": 4,
 "nbformat_minor": 2,
 "cells": [
  {
   "cell_type": "code",
   "execution_count": 46,
   "metadata": {},
   "outputs": [
    {
     "output_type": "execute_result",
     "data": {
      "text/plain": "   accuracy                explanation  positive counterexamples  \\\n0       1.0   (not (or eggs breathes))                  0.400000   \n1       1.0   (not (or eggs breathes))                  0.500000   \n2       1.0   (not (or eggs breathes))                  0.500000   \n3       1.0   (not (or eggs breathes))                  0.500000   \n4       1.0   (not (or eggs breathes))                  0.428571   \n\n          query  random words checked  terminate       time  time learner  \\\n0  breathes = 0                 234.0        1.0  29.158047      1.553447   \n1  breathes = 0                 240.0        1.0  30.232830      1.738493   \n2  breathes = 0                 249.0        1.0  31.423432      1.763439   \n3  breathes = 0                 266.0        1.0  33.850034      1.801139   \n4  breathes = 0                 268.0        1.0  34.315431      2.108706   \n\n   time verifier  total counterexamples  \n0      27.601642                    5.0  \n1      28.490781                    6.0  \n2      29.656554                    6.0  \n3      32.045468                    6.0  \n4      32.202708                    7.0  ",
      "text/html": "<div>\n<style scoped>\n    .dataframe tbody tr th:only-of-type {\n        vertical-align: middle;\n    }\n\n    .dataframe tbody tr th {\n        vertical-align: top;\n    }\n\n    .dataframe thead th {\n        text-align: right;\n    }\n</style>\n<table border=\"1\" class=\"dataframe\">\n  <thead>\n    <tr style=\"text-align: right;\">\n      <th></th>\n      <th>accuracy</th>\n      <th>explanation</th>\n      <th>positive counterexamples</th>\n      <th>query</th>\n      <th>random words checked</th>\n      <th>terminate</th>\n      <th>time</th>\n      <th>time learner</th>\n      <th>time verifier</th>\n      <th>total counterexamples</th>\n    </tr>\n  </thead>\n  <tbody>\n    <tr>\n      <th>0</th>\n      <td>1.0</td>\n      <td>(not (or eggs breathes))</td>\n      <td>0.400000</td>\n      <td>breathes = 0</td>\n      <td>234.0</td>\n      <td>1.0</td>\n      <td>29.158047</td>\n      <td>1.553447</td>\n      <td>27.601642</td>\n      <td>5.0</td>\n    </tr>\n    <tr>\n      <th>1</th>\n      <td>1.0</td>\n      <td>(not (or eggs breathes))</td>\n      <td>0.500000</td>\n      <td>breathes = 0</td>\n      <td>240.0</td>\n      <td>1.0</td>\n      <td>30.232830</td>\n      <td>1.738493</td>\n      <td>28.490781</td>\n      <td>6.0</td>\n    </tr>\n    <tr>\n      <th>2</th>\n      <td>1.0</td>\n      <td>(not (or eggs breathes))</td>\n      <td>0.500000</td>\n      <td>breathes = 0</td>\n      <td>249.0</td>\n      <td>1.0</td>\n      <td>31.423432</td>\n      <td>1.763439</td>\n      <td>29.656554</td>\n      <td>6.0</td>\n    </tr>\n    <tr>\n      <th>3</th>\n      <td>1.0</td>\n      <td>(not (or eggs breathes))</td>\n      <td>0.500000</td>\n      <td>breathes = 0</td>\n      <td>266.0</td>\n      <td>1.0</td>\n      <td>33.850034</td>\n      <td>1.801139</td>\n      <td>32.045468</td>\n      <td>6.0</td>\n    </tr>\n    <tr>\n      <th>4</th>\n      <td>1.0</td>\n      <td>(not (or eggs breathes))</td>\n      <td>0.428571</td>\n      <td>breathes = 0</td>\n      <td>268.0</td>\n      <td>1.0</td>\n      <td>34.315431</td>\n      <td>2.108706</td>\n      <td>32.202708</td>\n      <td>7.0</td>\n    </tr>\n  </tbody>\n</table>\n</div>"
     },
     "metadata": {},
     "execution_count": 46
    }
   ],
   "source": [
    "import pandas as pd \n",
    "import numpy as np\n",
    "df = pd.read_csv(\"data/output/result.csv\", header=None)\n",
    "df.columns = ['accuracy', 'explanation', 'positive counterexamples', 'query', 'random words checked', 'terminate', 'time', 'time learner', 'time verifier', 'total counterexamples']\n",
    "df.head()"
   ]
  },
  {
   "cell_type": "code",
   "execution_count": 47,
   "metadata": {},
   "outputs": [
    {
     "output_type": "execute_result",
     "data": {
      "text/plain": "          query  accuracy  positive counterexamples  random words checked  \\\n0   aquatic = 0  0.693182                  0.447527               363.375   \n1  backbone = 1  0.750000                  0.458976               257.125   \n2  breathes = 0  1.000000                  0.478571               265.375   \n3      eggs = 0  0.863636                  0.477289               362.625   \n4   legs <= 0.2  0.488636                  0.451809               357.625   \n\n   terminate        time  time learner  time verifier  total counterexamples  \n0        0.0  121.935098     88.981492      31.946161                 14.250  \n1        0.0  121.031171     94.880668      25.142729                 15.250  \n2        1.0   33.479399      1.876691      31.599223                  6.250  \n3        0.0  121.186851     87.557769      32.621760                 14.125  \n4        0.0  121.030885     84.551095      35.472670                 13.000  ",
      "text/html": "<div>\n<style scoped>\n    .dataframe tbody tr th:only-of-type {\n        vertical-align: middle;\n    }\n\n    .dataframe tbody tr th {\n        vertical-align: top;\n    }\n\n    .dataframe thead th {\n        text-align: right;\n    }\n</style>\n<table border=\"1\" class=\"dataframe\">\n  <thead>\n    <tr style=\"text-align: right;\">\n      <th></th>\n      <th>query</th>\n      <th>accuracy</th>\n      <th>positive counterexamples</th>\n      <th>random words checked</th>\n      <th>terminate</th>\n      <th>time</th>\n      <th>time learner</th>\n      <th>time verifier</th>\n      <th>total counterexamples</th>\n    </tr>\n  </thead>\n  <tbody>\n    <tr>\n      <th>0</th>\n      <td>aquatic = 0</td>\n      <td>0.693182</td>\n      <td>0.447527</td>\n      <td>363.375</td>\n      <td>0.0</td>\n      <td>121.935098</td>\n      <td>88.981492</td>\n      <td>31.946161</td>\n      <td>14.250</td>\n    </tr>\n    <tr>\n      <th>1</th>\n      <td>backbone = 1</td>\n      <td>0.750000</td>\n      <td>0.458976</td>\n      <td>257.125</td>\n      <td>0.0</td>\n      <td>121.031171</td>\n      <td>94.880668</td>\n      <td>25.142729</td>\n      <td>15.250</td>\n    </tr>\n    <tr>\n      <th>2</th>\n      <td>breathes = 0</td>\n      <td>1.000000</td>\n      <td>0.478571</td>\n      <td>265.375</td>\n      <td>1.0</td>\n      <td>33.479399</td>\n      <td>1.876691</td>\n      <td>31.599223</td>\n      <td>6.250</td>\n    </tr>\n    <tr>\n      <th>3</th>\n      <td>eggs = 0</td>\n      <td>0.863636</td>\n      <td>0.477289</td>\n      <td>362.625</td>\n      <td>0.0</td>\n      <td>121.186851</td>\n      <td>87.557769</td>\n      <td>32.621760</td>\n      <td>14.125</td>\n    </tr>\n    <tr>\n      <th>4</th>\n      <td>legs &lt;= 0.2</td>\n      <td>0.488636</td>\n      <td>0.451809</td>\n      <td>357.625</td>\n      <td>0.0</td>\n      <td>121.030885</td>\n      <td>84.551095</td>\n      <td>35.472670</td>\n      <td>13.000</td>\n    </tr>\n  </tbody>\n</table>\n</div>"
     },
     "metadata": {},
     "execution_count": 47
    }
   ],
   "source": [
    "# take median\n",
    "group_list = ['query']\n",
    "df_med = df.groupby(group_list).mean()\n",
    "df_med.reset_index(inplace=True)\n",
    "df_med.head()"
   ]
  },
  {
   "cell_type": "code",
   "execution_count": 48,
   "metadata": {
    "tags": []
   },
   "outputs": [],
   "source": [
    "# find representative explanation\n",
    "query_explanations = {}\n",
    "for key, item in df.groupby(['query'], as_index=False):\n",
    "    item.reset_index(inplace=True, drop=True)\n",
    "    explanation = item.iloc[item.index[(item['accuracy']-df_med['accuracy'][(df_med['query'] == key)].item()).abs().argsort()][0]]['explanation']\n",
    "    query_explanations[key] = explanation"
   ]
  },
  {
   "cell_type": "code",
   "execution_count": 49,
   "metadata": {
    "tags": []
   },
   "outputs": [
    {
     "output_type": "execute_result",
     "data": {
      "text/plain": "          query                                        explanation  accuracy  \\\n0   aquatic = 0       (not (or aquatic (and tail (not backbone))))  0.693182   \n1  backbone = 1   (and backbone (and (or hair domestic) (or mil...  0.750000   \n2  breathes = 0                           (not (or eggs breathes))  1.000000   \n3      eggs = 0   (not (or eggs (and breathes (not (and hair aq...  0.863636   \n4   legs <= 0.2   (and backbone (and (or feathers breathes) (no...  0.488636   \n\n         time  time learner  time verifier  random words checked  \\\n0  121.935098     88.981492      31.946161               363.375   \n1  121.031171     94.880668      25.142729               257.125   \n2   33.479399      1.876691      31.599223               265.375   \n3  121.186851     87.557769      32.621760               362.625   \n4  121.030885     84.551095      35.472670               357.625   \n\n   total counterexamples  positive counterexamples  \n0                 14.250                  0.447527  \n1                 15.250                  0.458976  \n2                  6.250                  0.478571  \n3                 14.125                  0.477289  \n4                 13.000                  0.451809  ",
      "text/html": "<div>\n<style scoped>\n    .dataframe tbody tr th:only-of-type {\n        vertical-align: middle;\n    }\n\n    .dataframe tbody tr th {\n        vertical-align: top;\n    }\n\n    .dataframe thead th {\n        text-align: right;\n    }\n</style>\n<table border=\"1\" class=\"dataframe\">\n  <thead>\n    <tr style=\"text-align: right;\">\n      <th></th>\n      <th>query</th>\n      <th>explanation</th>\n      <th>accuracy</th>\n      <th>time</th>\n      <th>time learner</th>\n      <th>time verifier</th>\n      <th>random words checked</th>\n      <th>total counterexamples</th>\n      <th>positive counterexamples</th>\n    </tr>\n  </thead>\n  <tbody>\n    <tr>\n      <th>0</th>\n      <td>aquatic = 0</td>\n      <td>(not (or aquatic (and tail (not backbone))))</td>\n      <td>0.693182</td>\n      <td>121.935098</td>\n      <td>88.981492</td>\n      <td>31.946161</td>\n      <td>363.375</td>\n      <td>14.250</td>\n      <td>0.447527</td>\n    </tr>\n    <tr>\n      <th>1</th>\n      <td>backbone = 1</td>\n      <td>(and backbone (and (or hair domestic) (or mil...</td>\n      <td>0.750000</td>\n      <td>121.031171</td>\n      <td>94.880668</td>\n      <td>25.142729</td>\n      <td>257.125</td>\n      <td>15.250</td>\n      <td>0.458976</td>\n    </tr>\n    <tr>\n      <th>2</th>\n      <td>breathes = 0</td>\n      <td>(not (or eggs breathes))</td>\n      <td>1.000000</td>\n      <td>33.479399</td>\n      <td>1.876691</td>\n      <td>31.599223</td>\n      <td>265.375</td>\n      <td>6.250</td>\n      <td>0.478571</td>\n    </tr>\n    <tr>\n      <th>3</th>\n      <td>eggs = 0</td>\n      <td>(not (or eggs (and breathes (not (and hair aq...</td>\n      <td>0.863636</td>\n      <td>121.186851</td>\n      <td>87.557769</td>\n      <td>32.621760</td>\n      <td>362.625</td>\n      <td>14.125</td>\n      <td>0.477289</td>\n    </tr>\n    <tr>\n      <th>4</th>\n      <td>legs &lt;= 0.2</td>\n      <td>(and backbone (and (or feathers breathes) (no...</td>\n      <td>0.488636</td>\n      <td>121.030885</td>\n      <td>84.551095</td>\n      <td>35.472670</td>\n      <td>357.625</td>\n      <td>13.000</td>\n      <td>0.451809</td>\n    </tr>\n  </tbody>\n</table>\n</div>"
     },
     "metadata": {},
     "execution_count": 49
    }
   ],
   "source": [
    "df_output = df_med\n",
    "df_output = df_output.drop(\"terminate\", axis=1)\n",
    "df_output['explanation'] = np.nan \n",
    "for key in query_explanations:\n",
    "    df_output['explanation'][df_output['query'] == key] = query_explanations[key]\n",
    "\n",
    "# reorganise columns\n",
    "df_output = df_output[['query', 'explanation', 'accuracy', 'time', 'time learner', 'time verifier', 'random words checked', 'total counterexamples', 'positive counterexamples']]\n",
    "df_output.head()"
   ]
  },
  {
   "cell_type": "code",
   "execution_count": 41,
   "metadata": {},
   "outputs": [],
   "source": [
    "df_output.to_csv(\"/home/bishwamittra/Dropbox/trustable_explanations/result.csv\", index = False)"
   ]
  },
  {
   "cell_type": "code",
   "execution_count": null,
   "metadata": {},
   "outputs": [],
   "source": []
  }
 ]
}