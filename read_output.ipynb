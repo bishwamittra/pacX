{
 "metadata": {
  "language_info": {
   "codemirror_mode": {
    "name": "ipython",
    "version": 3
   },
   "file_extension": ".py",
   "mimetype": "text/x-python",
   "name": "python",
   "nbconvert_exporter": "python",
   "pygments_lexer": "ipython3",
   "version": "3.8.3-final"
  },
  "orig_nbformat": 2,
  "kernelspec": {
   "name": "python3",
   "display_name": "Python 3"
  }
 },
 "nbformat": 4,
 "nbformat_minor": 2,
 "cells": [
  {
   "cell_type": "code",
   "execution_count": 31,
   "metadata": {
    "tags": []
   },
   "outputs": [
    {
     "output_type": "stream",
     "name": "stdout",
     "text": "minimum iterations: 320 max iterations: 320\n"
    },
    {
     "output_type": "execute_result",
     "data": {
      "text/plain": "   accuracy blackbox dataset explainer  \\\n0  0.666667       nn    iris     sygus   \n1  1.000000       nn     zoo     sygus   \n2  0.909091       nn     zoo     sygus   \n3  0.909091       nn     zoo     sygus   \n4  0.818182       nn     zoo     sygus   \n\n                                         explanation  explanation size  \\\n0   (or (> petal-length (/ 3 4)) (or (and (< sepa...              11.0   \n1   (or (and (not eggs) milk) (and hair (and (not...               7.0   \n2   (or (not eggs) (or (and hair (not fins)) (and...               7.0   \n3   (or (and (not toothed) catsize) (and hair (an...               7.0   \n4   (or (and (not airborne) catsize) (and (not eg...               7.0   \n\n   positive counterexamples  \\\n0                  0.428571   \n1                  0.444444   \n2                  0.437500   \n3                  0.444444   \n4                  0.444444   \n\n                                               query  random words checked  \\\n0  - threshold: 0.5\\n- specific_input: [0.4722222...                  33.0   \n1  - threshold: 0.5\\n- specific_input: [0.0, 1.0,...                 302.0   \n2  - threshold: 0.5\\n- specific_input: [0.0, 1.0,...                 498.0   \n3  - threshold: 0.5\\n- specific_input: [0.0, 1.0,...                 242.0   \n4  - threshold: 0.5\\n- specific_input: [0.0, 1.0,...                 372.0   \n\n   syntactic grammar  terminate        time  time learner  time verifier  \\\n0                1.0        0.0  301.034674    295.548018       4.480894   \n1                1.0        0.0  301.054778    296.330960       3.715774   \n2                1.0        0.0  301.052645    296.863512       3.182579   \n3                1.0        0.0  301.061877    296.180378       3.874249   \n4                1.0        0.0  301.053934    296.101554       3.944982   \n\n   total counterexamples  \n0                   14.0  \n1                   18.0  \n2                   16.0  \n3                   18.0  \n4                   18.0  ",
      "text/html": "<div>\n<style scoped>\n    .dataframe tbody tr th:only-of-type {\n        vertical-align: middle;\n    }\n\n    .dataframe tbody tr th {\n        vertical-align: top;\n    }\n\n    .dataframe thead th {\n        text-align: right;\n    }\n</style>\n<table border=\"1\" class=\"dataframe\">\n  <thead>\n    <tr style=\"text-align: right;\">\n      <th></th>\n      <th>accuracy</th>\n      <th>blackbox</th>\n      <th>dataset</th>\n      <th>explainer</th>\n      <th>explanation</th>\n      <th>explanation size</th>\n      <th>positive counterexamples</th>\n      <th>query</th>\n      <th>random words checked</th>\n      <th>syntactic grammar</th>\n      <th>terminate</th>\n      <th>time</th>\n      <th>time learner</th>\n      <th>time verifier</th>\n      <th>total counterexamples</th>\n    </tr>\n  </thead>\n  <tbody>\n    <tr>\n      <th>0</th>\n      <td>0.666667</td>\n      <td>nn</td>\n      <td>iris</td>\n      <td>sygus</td>\n      <td>(or (&gt; petal-length (/ 3 4)) (or (and (&lt; sepa...</td>\n      <td>11.0</td>\n      <td>0.428571</td>\n      <td>- threshold: 0.5\\n- specific_input: [0.4722222...</td>\n      <td>33.0</td>\n      <td>1.0</td>\n      <td>0.0</td>\n      <td>301.034674</td>\n      <td>295.548018</td>\n      <td>4.480894</td>\n      <td>14.0</td>\n    </tr>\n    <tr>\n      <th>1</th>\n      <td>1.000000</td>\n      <td>nn</td>\n      <td>zoo</td>\n      <td>sygus</td>\n      <td>(or (and (not eggs) milk) (and hair (and (not...</td>\n      <td>7.0</td>\n      <td>0.444444</td>\n      <td>- threshold: 0.5\\n- specific_input: [0.0, 1.0,...</td>\n      <td>302.0</td>\n      <td>1.0</td>\n      <td>0.0</td>\n      <td>301.054778</td>\n      <td>296.330960</td>\n      <td>3.715774</td>\n      <td>18.0</td>\n    </tr>\n    <tr>\n      <th>2</th>\n      <td>0.909091</td>\n      <td>nn</td>\n      <td>zoo</td>\n      <td>sygus</td>\n      <td>(or (not eggs) (or (and hair (not fins)) (and...</td>\n      <td>7.0</td>\n      <td>0.437500</td>\n      <td>- threshold: 0.5\\n- specific_input: [0.0, 1.0,...</td>\n      <td>498.0</td>\n      <td>1.0</td>\n      <td>0.0</td>\n      <td>301.052645</td>\n      <td>296.863512</td>\n      <td>3.182579</td>\n      <td>16.0</td>\n    </tr>\n    <tr>\n      <th>3</th>\n      <td>0.909091</td>\n      <td>nn</td>\n      <td>zoo</td>\n      <td>sygus</td>\n      <td>(or (and (not toothed) catsize) (and hair (an...</td>\n      <td>7.0</td>\n      <td>0.444444</td>\n      <td>- threshold: 0.5\\n- specific_input: [0.0, 1.0,...</td>\n      <td>242.0</td>\n      <td>1.0</td>\n      <td>0.0</td>\n      <td>301.061877</td>\n      <td>296.180378</td>\n      <td>3.874249</td>\n      <td>18.0</td>\n    </tr>\n    <tr>\n      <th>4</th>\n      <td>0.818182</td>\n      <td>nn</td>\n      <td>zoo</td>\n      <td>sygus</td>\n      <td>(or (and (not airborne) catsize) (and (not eg...</td>\n      <td>7.0</td>\n      <td>0.444444</td>\n      <td>- threshold: 0.5\\n- specific_input: [0.0, 1.0,...</td>\n      <td>372.0</td>\n      <td>1.0</td>\n      <td>0.0</td>\n      <td>301.053934</td>\n      <td>296.101554</td>\n      <td>3.944982</td>\n      <td>18.0</td>\n    </tr>\n  </tbody>\n</table>\n</div>"
     },
     "metadata": {},
     "execution_count": 31
    }
   ],
   "source": [
    "import pandas as pd \n",
    "import numpy as np\n",
    "select_blackbox = ['dt', 'nn', 'rf'][1]\n",
    "sanity = False\n",
    "if(sanity):\n",
    "    df = pd.read_csv(\"data/output/sanity_result.csv\", header=None)\n",
    "    df.columns = ['accuracy', 'blackbox', 'dataset', 'explainer', 'explanation', 'explanation size', 'positive counterexamples', 'query', 'random words checked', 'syntactic grammar', 'terminate', 'time', 'time learner', 'time verifier', 'total counterexamples']\n",
    "    df['query'].fillna('true', inplace=True)\n",
    "\n",
    "else:\n",
    "    df = pd.read_csv(\"data/output/result.csv\", header=None)\n",
    "    df.columns = ['accuracy', 'blackbox', 'dataset', 'explainer', 'explanation', 'explanation size', 'positive counterexamples', 'query', 'random words checked', 'syntactic grammar', 'terminate', 'time', 'time learner', 'time verifier', 'total counterexamples']\n",
    "    df = df[df['blackbox'] == select_blackbox]\n",
    "\n",
    "\n",
    "print(\"minimum iterations:\", min(df.groupby(['query'])['explanation'].count()), \"max iterations:\",max(df.groupby(['query'])['explanation'].count()))\n",
    "df.head()"
   ]
  },
  {
   "cell_type": "code",
   "execution_count": 32,
   "metadata": {},
   "outputs": [
    {
     "output_type": "execute_result",
     "data": {
      "text/plain": "  dataset explainer                                              query  \\\n0   adult     sygus  - threshold: 0.5\\n- specific_input: [0.0, 0.13...   \n1   adult     sygus  - threshold: 0.5\\n- specific_input: [0.0, 0.13...   \n2    iris     sygus  - threshold: 0.5\\n- specific_input: [0.4722222...   \n3    iris     sygus  - threshold: 0.5\\n- specific_input: [0.4722222...   \n4     zoo     sygus  - threshold: 0.5\\n- specific_input: [0.0, 1.0,...   \n5     zoo     sygus  - threshold: 0.5\\n- specific_input: [0.0, 1.0,...   \n\n   syntactic grammar  accuracy  explanation size  positive counterexamples  \\\n0                0.0  0.284749         622.81250                  0.836022   \n1                1.0  0.694684           6.15000                  0.375337   \n2                0.0  0.800000         481.78125                  0.851520   \n3                1.0  0.848333           7.35000                  0.308419   \n4                0.0  0.909091        1385.51250                  0.894473   \n5                1.0  0.886932           6.50000                  0.321722   \n\n   random words checked  terminate        time  time learner  time verifier  \\\n0           50094.99375    0.00000  303.783365     33.428064     269.529526   \n1             172.81875    0.00000  301.103942    288.513185      11.591467   \n2           69677.98750    0.00000  303.645639     48.391535     254.240040   \n3             105.08750    0.00000  301.111006    294.671543       5.434277   \n4          163949.82500    0.00625  300.339049     66.686315     232.646939   \n5             220.34375    0.00000  301.093867    296.913627       3.174665   \n\n   total counterexamples  \n0               94.69375  \n1               15.74375  \n2              110.73750  \n3               15.24375  \n4              163.77500  \n5               16.95625  ",
      "text/html": "<div>\n<style scoped>\n    .dataframe tbody tr th:only-of-type {\n        vertical-align: middle;\n    }\n\n    .dataframe tbody tr th {\n        vertical-align: top;\n    }\n\n    .dataframe thead th {\n        text-align: right;\n    }\n</style>\n<table border=\"1\" class=\"dataframe\">\n  <thead>\n    <tr style=\"text-align: right;\">\n      <th></th>\n      <th>dataset</th>\n      <th>explainer</th>\n      <th>query</th>\n      <th>syntactic grammar</th>\n      <th>accuracy</th>\n      <th>explanation size</th>\n      <th>positive counterexamples</th>\n      <th>random words checked</th>\n      <th>terminate</th>\n      <th>time</th>\n      <th>time learner</th>\n      <th>time verifier</th>\n      <th>total counterexamples</th>\n    </tr>\n  </thead>\n  <tbody>\n    <tr>\n      <th>0</th>\n      <td>adult</td>\n      <td>sygus</td>\n      <td>- threshold: 0.5\\n- specific_input: [0.0, 0.13...</td>\n      <td>0.0</td>\n      <td>0.284749</td>\n      <td>622.81250</td>\n      <td>0.836022</td>\n      <td>50094.99375</td>\n      <td>0.00000</td>\n      <td>303.783365</td>\n      <td>33.428064</td>\n      <td>269.529526</td>\n      <td>94.69375</td>\n    </tr>\n    <tr>\n      <th>1</th>\n      <td>adult</td>\n      <td>sygus</td>\n      <td>- threshold: 0.5\\n- specific_input: [0.0, 0.13...</td>\n      <td>1.0</td>\n      <td>0.694684</td>\n      <td>6.15000</td>\n      <td>0.375337</td>\n      <td>172.81875</td>\n      <td>0.00000</td>\n      <td>301.103942</td>\n      <td>288.513185</td>\n      <td>11.591467</td>\n      <td>15.74375</td>\n    </tr>\n    <tr>\n      <th>2</th>\n      <td>iris</td>\n      <td>sygus</td>\n      <td>- threshold: 0.5\\n- specific_input: [0.4722222...</td>\n      <td>0.0</td>\n      <td>0.800000</td>\n      <td>481.78125</td>\n      <td>0.851520</td>\n      <td>69677.98750</td>\n      <td>0.00000</td>\n      <td>303.645639</td>\n      <td>48.391535</td>\n      <td>254.240040</td>\n      <td>110.73750</td>\n    </tr>\n    <tr>\n      <th>3</th>\n      <td>iris</td>\n      <td>sygus</td>\n      <td>- threshold: 0.5\\n- specific_input: [0.4722222...</td>\n      <td>1.0</td>\n      <td>0.848333</td>\n      <td>7.35000</td>\n      <td>0.308419</td>\n      <td>105.08750</td>\n      <td>0.00000</td>\n      <td>301.111006</td>\n      <td>294.671543</td>\n      <td>5.434277</td>\n      <td>15.24375</td>\n    </tr>\n    <tr>\n      <th>4</th>\n      <td>zoo</td>\n      <td>sygus</td>\n      <td>- threshold: 0.5\\n- specific_input: [0.0, 1.0,...</td>\n      <td>0.0</td>\n      <td>0.909091</td>\n      <td>1385.51250</td>\n      <td>0.894473</td>\n      <td>163949.82500</td>\n      <td>0.00625</td>\n      <td>300.339049</td>\n      <td>66.686315</td>\n      <td>232.646939</td>\n      <td>163.77500</td>\n    </tr>\n    <tr>\n      <th>5</th>\n      <td>zoo</td>\n      <td>sygus</td>\n      <td>- threshold: 0.5\\n- specific_input: [0.0, 1.0,...</td>\n      <td>1.0</td>\n      <td>0.886932</td>\n      <td>6.50000</td>\n      <td>0.321722</td>\n      <td>220.34375</td>\n      <td>0.00000</td>\n      <td>301.093867</td>\n      <td>296.913627</td>\n      <td>3.174665</td>\n      <td>16.95625</td>\n    </tr>\n  </tbody>\n</table>\n</div>"
     },
     "metadata": {},
     "execution_count": 32
    }
   ],
   "source": [
    "# take median\n",
    "group_list = ['dataset','explainer','query', 'syntactic grammar']\n",
    "df_med = df.groupby(group_list).mean()\n",
    "df_med.reset_index(inplace=True)\n",
    "df_med"
   ]
  },
  {
   "cell_type": "code",
   "execution_count": 33,
   "metadata": {
    "tags": []
   },
   "outputs": [
    {
     "output_type": "execute_result",
     "data": {
      "text/plain": "  dataset  syntactic grammar explainer  \\\n0   adult                0.0     sygus   \n1   adult                1.0     sygus   \n2    iris                0.0     sygus   \n3    iris                1.0     sygus   \n4     zoo                0.0     sygus   \n5     zoo                1.0     sygus   \n\n                                               query  \\\n0  - threshold: 0.5\\n- specific_input: [0.0, 0.13...   \n1  - threshold: 0.5\\n- specific_input: [0.0, 0.13...   \n2  - threshold: 0.5\\n- specific_input: [0.4722222...   \n3  - threshold: 0.5\\n- specific_input: [0.4722222...   \n4  - threshold: 0.5\\n- specific_input: [0.0, 1.0,...   \n5  - threshold: 0.5\\n- specific_input: [0.0, 1.0,...   \n\n                                         explanation  accuracy    time  \\\n0   (let ((_let_0 (= capital-gain (/ 19 500)))) (...      0.28  303.78   \n1   (or (and (< age (/ 1 4)) (> education-num (/ ...      0.69  301.10   \n2   (let ((_let_0 (= petal-width (/ 43 250)))) (l...      0.80  303.65   \n3   (let ((_let_0 (< sepal-width (/ 1 2)))) (or (...      0.85  301.11   \n4   (let ((_let_0 (= legs (/ 2 25)))) (let ((_let...      0.91  300.34   \n5   (or (and (not feathers) milk) (and backbone (...      0.89  301.09   \n\n   time learner  time verifier  random words checked  total counterexamples  \\\n0         33.43         269.53              50094.99                  94.69   \n1        288.51          11.59                172.82                  15.74   \n2         48.39         254.24              69677.99                 110.74   \n3        294.67           5.43                105.09                  15.24   \n4         66.69         232.65             163949.83                 163.78   \n5        296.91           3.17                220.34                  16.96   \n\n   positive counterexamples  explanation size  \n0                      0.84            622.81  \n1                      0.38              6.15  \n2                      0.85            481.78  \n3                      0.31              7.35  \n4                      0.89           1385.51  \n5                      0.32              6.50  ",
      "text/html": "<div>\n<style scoped>\n    .dataframe tbody tr th:only-of-type {\n        vertical-align: middle;\n    }\n\n    .dataframe tbody tr th {\n        vertical-align: top;\n    }\n\n    .dataframe thead th {\n        text-align: right;\n    }\n</style>\n<table border=\"1\" class=\"dataframe\">\n  <thead>\n    <tr style=\"text-align: right;\">\n      <th></th>\n      <th>dataset</th>\n      <th>syntactic grammar</th>\n      <th>explainer</th>\n      <th>query</th>\n      <th>explanation</th>\n      <th>accuracy</th>\n      <th>time</th>\n      <th>time learner</th>\n      <th>time verifier</th>\n      <th>random words checked</th>\n      <th>total counterexamples</th>\n      <th>positive counterexamples</th>\n      <th>explanation size</th>\n    </tr>\n  </thead>\n  <tbody>\n    <tr>\n      <th>0</th>\n      <td>adult</td>\n      <td>0.0</td>\n      <td>sygus</td>\n      <td>- threshold: 0.5\\n- specific_input: [0.0, 0.13...</td>\n      <td>(let ((_let_0 (= capital-gain (/ 19 500)))) (...</td>\n      <td>0.28</td>\n      <td>303.78</td>\n      <td>33.43</td>\n      <td>269.53</td>\n      <td>50094.99</td>\n      <td>94.69</td>\n      <td>0.84</td>\n      <td>622.81</td>\n    </tr>\n    <tr>\n      <th>1</th>\n      <td>adult</td>\n      <td>1.0</td>\n      <td>sygus</td>\n      <td>- threshold: 0.5\\n- specific_input: [0.0, 0.13...</td>\n      <td>(or (and (&lt; age (/ 1 4)) (&gt; education-num (/ ...</td>\n      <td>0.69</td>\n      <td>301.10</td>\n      <td>288.51</td>\n      <td>11.59</td>\n      <td>172.82</td>\n      <td>15.74</td>\n      <td>0.38</td>\n      <td>6.15</td>\n    </tr>\n    <tr>\n      <th>2</th>\n      <td>iris</td>\n      <td>0.0</td>\n      <td>sygus</td>\n      <td>- threshold: 0.5\\n- specific_input: [0.4722222...</td>\n      <td>(let ((_let_0 (= petal-width (/ 43 250)))) (l...</td>\n      <td>0.80</td>\n      <td>303.65</td>\n      <td>48.39</td>\n      <td>254.24</td>\n      <td>69677.99</td>\n      <td>110.74</td>\n      <td>0.85</td>\n      <td>481.78</td>\n    </tr>\n    <tr>\n      <th>3</th>\n      <td>iris</td>\n      <td>1.0</td>\n      <td>sygus</td>\n      <td>- threshold: 0.5\\n- specific_input: [0.4722222...</td>\n      <td>(let ((_let_0 (&lt; sepal-width (/ 1 2)))) (or (...</td>\n      <td>0.85</td>\n      <td>301.11</td>\n      <td>294.67</td>\n      <td>5.43</td>\n      <td>105.09</td>\n      <td>15.24</td>\n      <td>0.31</td>\n      <td>7.35</td>\n    </tr>\n    <tr>\n      <th>4</th>\n      <td>zoo</td>\n      <td>0.0</td>\n      <td>sygus</td>\n      <td>- threshold: 0.5\\n- specific_input: [0.0, 1.0,...</td>\n      <td>(let ((_let_0 (= legs (/ 2 25)))) (let ((_let...</td>\n      <td>0.91</td>\n      <td>300.34</td>\n      <td>66.69</td>\n      <td>232.65</td>\n      <td>163949.83</td>\n      <td>163.78</td>\n      <td>0.89</td>\n      <td>1385.51</td>\n    </tr>\n    <tr>\n      <th>5</th>\n      <td>zoo</td>\n      <td>1.0</td>\n      <td>sygus</td>\n      <td>- threshold: 0.5\\n- specific_input: [0.0, 1.0,...</td>\n      <td>(or (and (not feathers) milk) (and backbone (...</td>\n      <td>0.89</td>\n      <td>301.09</td>\n      <td>296.91</td>\n      <td>3.17</td>\n      <td>220.34</td>\n      <td>16.96</td>\n      <td>0.32</td>\n      <td>6.50</td>\n    </tr>\n  </tbody>\n</table>\n</div>"
     },
     "metadata": {},
     "execution_count": 33
    }
   ],
   "source": [
    "# find representative explanation\n",
    "query_explanations = {}\n",
    "for key, item in df.groupby(['dataset','explainer','query', 'syntactic grammar'], as_index = False):\n",
    "    item.reset_index(inplace=True, drop=True)\n",
    "    if(len(item) == 1):\n",
    "        query_explanations[key] = item['explanation'].item()\n",
    "    else:\n",
    "        # nearest explanation to the average accuracy\n",
    "        explanation = item.iloc[item.index[(item['accuracy']-df_med['accuracy'][(df_med['dataset'] == key[0]) & (df_med['explainer'] == key[1]) & (df_med['syntactic grammar'] == key[3]) & (df_med['query'] == key[2])].item()).abs().argsort()][0]]['explanation']\n",
    "        query_explanations[key] = explanation\n",
    "\n",
    "\n",
    "df_output = df_med\n",
    "df_output = df_output.drop(\"terminate\", axis=1)\n",
    "df_output['explanation'] = np.nan \n",
    "for key in query_explanations:\n",
    "    df_output['explanation'][(df_output['dataset'] == key[0]) & (df_output['explainer'] == key[1]) & (df_output['syntactic grammar'] == key[3]) & (df_output['query'] == key[2])] = query_explanations[key]\n",
    "\n",
    "# reorganise columns\n",
    "df_output = df_output[[ 'dataset',  'syntactic grammar', 'explainer','query', 'explanation', 'accuracy', 'time', 'time learner', 'time verifier', 'random words checked', 'total counterexamples', 'positive counterexamples', 'explanation size']]\n",
    "df_output = df_output.round(2)\n",
    "df_output.head(n=10)"
   ]
  },
  {
   "cell_type": "code",
   "execution_count": 34,
   "metadata": {
    "tags": []
   },
   "outputs": [
    {
     "output_type": "stream",
     "name": "stdout",
     "text": "\n\n\n"
    },
    {
     "output_type": "display_data",
     "data": {
      "text/plain": "<IPython.core.display.Markdown object>",
      "text/markdown": "### Query"
     },
     "metadata": {}
    },
    {
     "output_type": "stream",
     "name": "stdout",
     "text": "\n\n\n"
    },
    {
     "output_type": "display_data",
     "data": {
      "text/plain": "<IPython.core.display.Markdown object>",
      "text/markdown": "### Query"
     },
     "metadata": {}
    },
    {
     "output_type": "stream",
     "name": "stdout",
     "text": "adult\n- threshold: 0.5\n- specific_input: [0.0, 0.136986301369863, 0.5333333333333333, 0.0, 0.3659320477502296, 0.24489795918367346, 0.0, 0.0, 0.0, 0.0, 1.0]\n- detailed_input: [('sex', 0.0), ('age', 0.136986301369863), ('education-num', 0.5333333333333333), ('capital-gain', 0.0), ('capital-loss', 0.3659320477502296), ('hours-per-week', 0.24489795918367346), ('race_0', 0.0), ('race_1', 0.0), ('race_2', 0.0), ('race_3', 0.0), ('race_4', 1.0)]\nsygus\n1.0\n"
    },
    {
     "output_type": "display_data",
     "data": {
      "text/plain": "<IPython.core.display.Markdown object>",
      "text/markdown": "### Result"
     },
     "metadata": {}
    },
    {
     "output_type": "stream",
     "name": "stdout",
     "text": "(or (and (< age (/ 1 4)) (> education-num (/ 1 2))) (and (< education-num (/ 1 2)) (and (< capital-gain (/ 1 2)) (< hours-per-week (/ 3 4)))))\n\n\naccuracy 0.69\n\n\n\n"
    },
    {
     "output_type": "display_data",
     "data": {
      "text/plain": "<IPython.core.display.Markdown object>",
      "text/markdown": "### Query"
     },
     "metadata": {}
    },
    {
     "output_type": "stream",
     "name": "stdout",
     "text": "\n\n\n"
    },
    {
     "output_type": "display_data",
     "data": {
      "text/plain": "<IPython.core.display.Markdown object>",
      "text/markdown": "### Query"
     },
     "metadata": {}
    },
    {
     "output_type": "stream",
     "name": "stdout",
     "text": "iris\n- threshold: 0.5\n- specific_input: [0.4722222222222223, 0.29166666666666674, 0.6949152542372881, 0.6250000000000001]\n- detailed_input: [('sepal-length', 0.4722222222222223), ('sepal-width', 0.29166666666666674), ('petal-length', 0.6949152542372881), ('petal-width', 0.6250000000000001)]\nsygus\n1.0\n"
    },
    {
     "output_type": "display_data",
     "data": {
      "text/plain": "<IPython.core.display.Markdown object>",
      "text/markdown": "### Result"
     },
     "metadata": {}
    },
    {
     "output_type": "stream",
     "name": "stdout",
     "text": "(let ((_let_0 (< sepal-width (/ 1 2)))) (or (and _let_0 (> petal-length (/ 3 4))) (and (> sepal-length (/ 1 4)) (and _let_0 (and (< petal-length (/ 1 2)) (< petal-width (/ 3 4)))))))\n\n\naccuracy 0.85\n\n\n\n"
    },
    {
     "output_type": "display_data",
     "data": {
      "text/plain": "<IPython.core.display.Markdown object>",
      "text/markdown": "### Query"
     },
     "metadata": {}
    },
    {
     "output_type": "stream",
     "name": "stdout",
     "text": "\n\n\n"
    },
    {
     "output_type": "display_data",
     "data": {
      "text/plain": "<IPython.core.display.Markdown object>",
      "text/markdown": "### Query"
     },
     "metadata": {}
    },
    {
     "output_type": "stream",
     "name": "stdout",
     "text": "zoo\n- threshold: 0.5\n- specific_input: [0.0, 1.0, 1.0, 0.0, 1.0, 1.0, 1.0, 0.0, 1.0, 1.0, 0.0, 0.0, 0.25, 1.0, 0.0, 0.0]\n- detailed_input: [('hair', 0.0), ('feathers', 1.0), ('eggs', 1.0), ('milk', 0.0), ('airborne', 1.0), ('aquatic', 1.0), ('predator', 1.0), ('toothed', 0.0), ('backbone', 1.0), ('breathes', 1.0), ('venomous', 0.0), ('fins', 0.0), ('legs', 0.25), ('tail', 1.0), ('domestic', 0.0), ('catsize', 0.0)]\nsygus\n1.0\n"
    },
    {
     "output_type": "display_data",
     "data": {
      "text/plain": "<IPython.core.display.Markdown object>",
      "text/markdown": "### Result"
     },
     "metadata": {}
    },
    {
     "output_type": "stream",
     "name": "stdout",
     "text": "(or (and (not feathers) milk) (and backbone (and (not fins) catsize)))\n\n\naccuracy 0.89\n"
    }
   ],
   "source": [
    "import matplotlib.pyplot as plt\n",
    "import pickle\n",
    "from IPython.display import Markdown, display\n",
    "# from pac_explanation import utils\n",
    "# import numpy as np\n",
    "\n",
    "\n",
    "features = ['hair', 'feathers', 'eggs', 'milk', 'airborne', 'aquatic', 'predator', 'toothed', 'backbone', 'breathes', 'venomous', 'fins', 'legs', 'tail', 'domestic', 'catsize']\n",
    "# print results in an explainable manner\n",
    "for key, item in df_output.groupby(['dataset','query','explainer','syntactic grammar'], as_index = False):\n",
    "    print(\"\\n\\n\")\n",
    "    display(Markdown(\"### Query\"))\n",
    "    if(key[3] == 0):\n",
    "        continue\n",
    "    for i in key:\n",
    "        print(i)\n",
    "    display(Markdown(\"### Result\"))\n",
    "    if(key[1] == \"logistic regression\"):\n",
    "        feature_importance = np.fromstring(item['explanation'].item()[1:-1], dtype=np.float, sep=' ')\n",
    "        feature_importance = 100.0 * (feature_importance / (abs(feature_importance).max()))\n",
    "        sorted_idx = np.argsort(abs(feature_importance))\n",
    "        pos = np.arange(sorted_idx.shape[0]) + .5\n",
    "        featfig = plt.figure()\n",
    "        featax = featfig.add_subplot(1, 1, 1)\n",
    "        featax.barh(pos, feature_importance[sorted_idx], align='center')\n",
    "        featax.set_yticks(pos)\n",
    "        featax.set_yticklabels(np.array(features)[sorted_idx])\n",
    "        featax.set_xlabel('Relative Feature Importance')\n",
    "        plt.tight_layout()   \n",
    "        plt.show()\n",
    "    elif(key[1] == \"decision tree\"):\n",
    "        dt = None\n",
    "        with open(item['explanation'].item(), 'rb') as fid:\n",
    "            dt = pickle.load(fid)\n",
    "        print(utils.tree_to_code(dt,features))\n",
    "    else:\n",
    "        print(item['explanation'].item())\n",
    "    print(\"\\n\\naccuracy\",item['accuracy'].item())\n",
    ""
   ]
  },
  {
   "cell_type": "code",
   "execution_count": 35,
   "metadata": {},
   "outputs": [],
   "source": [
    "# to remote \n",
    "# df_output.to_csv(\"data/output/summary.csv\", index = False)\n",
    "# df_output.to_csv(\"/home/bishwamittra/Dropbox/pac_explanations/result.csv\", index = False)"
   ]
  },
  {
   "cell_type": "code",
   "execution_count": 36,
   "metadata": {
    "tags": []
   },
   "outputs": [],
   "source": [
    "def time_format(x):\n",
    "    if(x > 300):\n",
    "        return '300'\n",
    "    else:\n",
    "        return '%.2f' % x\n",
    "def dataset_format(x):\n",
    "    dic = {\n",
    "        'adult' : 'Adult',\n",
    "        'zoo' : 'Zoo',\n",
    "        'iris' : 'Iris'\n",
    "    }\n",
    "    return dic[x]\n",
    "def percentage(x):\n",
    "    return '%.2f' % x\n",
    "def single_decimal(x):\n",
    "    return '%.1f' % x\n",
    "\n",
    "def integer_format(x):\n",
    "    return '%.0f' % x\n",
    "\n",
    "if(sanity):\n",
    "    print(df_output[df_output['syntactic grammar'] == 1][['query', 'explanation', 'explanation size', 'accuracy', 'time']].to_latex(index=False, header=['Query', 'Explanation', 'Size', 'Accuracy', 'Time'], formatters={'time': time_format, 'accuracy': single_decimal, 'explanation size':single_decimal}))"
   ]
  },
  {
   "cell_type": "code",
   "execution_count": 37,
   "metadata": {
    "tags": []
   },
   "outputs": [
    {
     "output_type": "stream",
     "name": "stdout",
     "text": "\\begin{tabular}{lrrrrrr}\n\\toprule\nDataset & Explanation size & Accuracy & Time & Learner(\\%) & Verifier(\\%) & Test inputs \\\\\n\\midrule\n  Adult &              6.2 &     0.69 &  300 &       0.96 &        0.04 &         173 \\\\\n   Iris &              7.3 &     0.85 &  300 &       0.98 &        0.02 &         105 \\\\\n    Zoo &              6.5 &     0.89 &  300 &       0.99 &        0.01 &         220 \\\\\n\\bottomrule\n\\end{tabular}\n\n"
    }
   ],
   "source": [
    "\n",
    "if(not sanity):\n",
    "    df_output['learner(%)'] = df_output['time learner']/df_output['time']\n",
    "    df_output['verifier(%)'] = df_output['time verifier']/df_output['time']\n",
    "    print(df_output[df_output['syntactic grammar'] == 1][['dataset', 'explanation size', 'accuracy', 'time', 'learner(%)', 'verifier(%)', 'random words checked']].to_latex(index=False, formatters=[dataset_format, single_decimal, percentage, time_format, percentage, percentage, integer_format], header = ['Dataset', 'Explanation size', 'Accuracy', 'Time', 'Learner(%)', 'Verifier(%)', 'Test inputs']))"
   ]
  },
  {
   "cell_type": "code",
   "execution_count": 38,
   "metadata": {},
   "outputs": [
    {
     "output_type": "execute_result",
     "data": {
      "text/plain": "  dataset  syntactic grammar explainer  \\\n0   adult                0.0     sygus   \n1   adult                1.0     sygus   \n2    iris                0.0     sygus   \n3    iris                1.0     sygus   \n4     zoo                0.0     sygus   \n5     zoo                1.0     sygus   \n\n                                               query  \\\n0  - threshold: 0.5\\n- specific_input: [0.0, 0.13...   \n1  - threshold: 0.5\\n- specific_input: [0.0, 0.13...   \n2  - threshold: 0.5\\n- specific_input: [0.4722222...   \n3  - threshold: 0.5\\n- specific_input: [0.4722222...   \n4  - threshold: 0.5\\n- specific_input: [0.0, 1.0,...   \n5  - threshold: 0.5\\n- specific_input: [0.0, 1.0,...   \n\n                                         explanation  accuracy    time  \\\n0   (let ((_let_0 (= capital-gain (/ 19 500)))) (...      0.28  303.78   \n1   (or (and (< age (/ 1 4)) (> education-num (/ ...      0.69  301.10   \n2   (let ((_let_0 (= petal-width (/ 43 250)))) (l...      0.80  303.65   \n3   (let ((_let_0 (< sepal-width (/ 1 2)))) (or (...      0.85  301.11   \n4   (let ((_let_0 (= legs (/ 2 25)))) (let ((_let...      0.91  300.34   \n5   (or (and (not feathers) milk) (and backbone (...      0.89  301.09   \n\n   time learner  time verifier  random words checked  total counterexamples  \\\n0         33.43         269.53              50094.99                  94.69   \n1        288.51          11.59                172.82                  15.74   \n2         48.39         254.24              69677.99                 110.74   \n3        294.67           5.43                105.09                  15.24   \n4         66.69         232.65             163949.83                 163.78   \n5        296.91           3.17                220.34                  16.96   \n\n   positive counterexamples  explanation size  learner(%)  verifier(%)  \n0                      0.84            622.81    0.110047     0.887254  \n1                      0.38              6.15    0.958187     0.038492  \n2                      0.85            481.78    0.159361     0.837280  \n3                      0.31              7.35    0.978612     0.018033  \n4                      0.89           1385.51    0.222048     0.774622  \n5                      0.32              6.50    0.986117     0.010528  ",
      "text/html": "<div>\n<style scoped>\n    .dataframe tbody tr th:only-of-type {\n        vertical-align: middle;\n    }\n\n    .dataframe tbody tr th {\n        vertical-align: top;\n    }\n\n    .dataframe thead th {\n        text-align: right;\n    }\n</style>\n<table border=\"1\" class=\"dataframe\">\n  <thead>\n    <tr style=\"text-align: right;\">\n      <th></th>\n      <th>dataset</th>\n      <th>syntactic grammar</th>\n      <th>explainer</th>\n      <th>query</th>\n      <th>explanation</th>\n      <th>accuracy</th>\n      <th>time</th>\n      <th>time learner</th>\n      <th>time verifier</th>\n      <th>random words checked</th>\n      <th>total counterexamples</th>\n      <th>positive counterexamples</th>\n      <th>explanation size</th>\n      <th>learner(%)</th>\n      <th>verifier(%)</th>\n    </tr>\n  </thead>\n  <tbody>\n    <tr>\n      <th>0</th>\n      <td>adult</td>\n      <td>0.0</td>\n      <td>sygus</td>\n      <td>- threshold: 0.5\\n- specific_input: [0.0, 0.13...</td>\n      <td>(let ((_let_0 (= capital-gain (/ 19 500)))) (...</td>\n      <td>0.28</td>\n      <td>303.78</td>\n      <td>33.43</td>\n      <td>269.53</td>\n      <td>50094.99</td>\n      <td>94.69</td>\n      <td>0.84</td>\n      <td>622.81</td>\n      <td>0.110047</td>\n      <td>0.887254</td>\n    </tr>\n    <tr>\n      <th>1</th>\n      <td>adult</td>\n      <td>1.0</td>\n      <td>sygus</td>\n      <td>- threshold: 0.5\\n- specific_input: [0.0, 0.13...</td>\n      <td>(or (and (&lt; age (/ 1 4)) (&gt; education-num (/ ...</td>\n      <td>0.69</td>\n      <td>301.10</td>\n      <td>288.51</td>\n      <td>11.59</td>\n      <td>172.82</td>\n      <td>15.74</td>\n      <td>0.38</td>\n      <td>6.15</td>\n      <td>0.958187</td>\n      <td>0.038492</td>\n    </tr>\n    <tr>\n      <th>2</th>\n      <td>iris</td>\n      <td>0.0</td>\n      <td>sygus</td>\n      <td>- threshold: 0.5\\n- specific_input: [0.4722222...</td>\n      <td>(let ((_let_0 (= petal-width (/ 43 250)))) (l...</td>\n      <td>0.80</td>\n      <td>303.65</td>\n      <td>48.39</td>\n      <td>254.24</td>\n      <td>69677.99</td>\n      <td>110.74</td>\n      <td>0.85</td>\n      <td>481.78</td>\n      <td>0.159361</td>\n      <td>0.837280</td>\n    </tr>\n    <tr>\n      <th>3</th>\n      <td>iris</td>\n      <td>1.0</td>\n      <td>sygus</td>\n      <td>- threshold: 0.5\\n- specific_input: [0.4722222...</td>\n      <td>(let ((_let_0 (&lt; sepal-width (/ 1 2)))) (or (...</td>\n      <td>0.85</td>\n      <td>301.11</td>\n      <td>294.67</td>\n      <td>5.43</td>\n      <td>105.09</td>\n      <td>15.24</td>\n      <td>0.31</td>\n      <td>7.35</td>\n      <td>0.978612</td>\n      <td>0.018033</td>\n    </tr>\n    <tr>\n      <th>4</th>\n      <td>zoo</td>\n      <td>0.0</td>\n      <td>sygus</td>\n      <td>- threshold: 0.5\\n- specific_input: [0.0, 1.0,...</td>\n      <td>(let ((_let_0 (= legs (/ 2 25)))) (let ((_let...</td>\n      <td>0.91</td>\n      <td>300.34</td>\n      <td>66.69</td>\n      <td>232.65</td>\n      <td>163949.83</td>\n      <td>163.78</td>\n      <td>0.89</td>\n      <td>1385.51</td>\n      <td>0.222048</td>\n      <td>0.774622</td>\n    </tr>\n    <tr>\n      <th>5</th>\n      <td>zoo</td>\n      <td>1.0</td>\n      <td>sygus</td>\n      <td>- threshold: 0.5\\n- specific_input: [0.0, 1.0,...</td>\n      <td>(or (and (not feathers) milk) (and backbone (...</td>\n      <td>0.89</td>\n      <td>301.09</td>\n      <td>296.91</td>\n      <td>3.17</td>\n      <td>220.34</td>\n      <td>16.96</td>\n      <td>0.32</td>\n      <td>6.50</td>\n      <td>0.986117</td>\n      <td>0.010528</td>\n    </tr>\n  </tbody>\n</table>\n</div>"
     },
     "metadata": {},
     "execution_count": 38
    }
   ],
   "source": [
    "import seaborn as sns\n",
    "import matplotlib.pyplot as plt\n",
    "import numpy as np\n",
    "import os\n",
    "fontsize = 22\n",
    "labelsize = 18\n",
    "df_output"
   ]
  },
  {
   "cell_type": "code",
   "execution_count": 24,
   "metadata": {
    "tags": []
   },
   "outputs": [
    {
     "output_type": "display_data",
     "data": {
      "text/plain": "<Figure size 288x288 with 0 Axes>"
     },
     "metadata": {}
    },
    {
     "output_type": "display_data",
     "data": {
      "text/plain": "<Figure size 288x288 with 0 Axes>"
     },
     "metadata": {}
    },
    {
     "output_type": "display_data",
     "data": {
      "text/plain": "<Figure size 288x288 with 0 Axes>"
     },
     "metadata": {}
    }
   ],
   "source": [
    "save = True\n",
    "group_list = ['model']\n",
    "\n",
    "os.system(\"mkdir data/output/fig\")\n",
    "\n",
    "sns.set(rc={'figure.figsize':(10,8)})\n",
    "# sns.set_style(\"whitegrid\", {'axes.grid' : False})\n",
    "\n",
    "data = df_output.copy()\n",
    "data['syntactic grammar'] = data['syntactic grammar'].map({1.0: 'syntac', 0.0: 'no syntac'})\n",
    "data['dataset'] = data['dataset'].map({\n",
    "        'adult' : 'Adult',\n",
    "        'zoo' : 'Zoo',\n",
    "        'iris' : 'Iris'\n",
    "    })\n",
    "sns.catplot( x = 'dataset', y = 'accuracy', hue='syntactic grammar', kind=\"bar\",  height=4, data=data, palette=\"colorblind\", legend=False)\n",
    "plt.ylabel('Accuracy', fontsize=fontsize)\n",
    "plt.xlabel('Dataset', fontsize=fontsize)\n",
    "plt.xticks(fontsize=labelsize)\n",
    "plt.yticks(fontsize=labelsize)\n",
    "plt.legend(loc='upper center', bbox_to_anchor=(0.5, 1.15), ncol=2,fontsize=labelsize-4, frameon=False)\n",
    "# plt.yscale('log')\n",
    "plt.tight_layout()\n",
    "\n",
    "if(save):\n",
    "    plt.savefig(\"data/output/fig/accuracy.pdf\")\n",
    "    pass\n",
    "else:\n",
    "    plt.show()\n",
    "plt.clf()\n",
    "\n",
    "\n",
    "sns.catplot( x = 'dataset', y = 'time learner', hue='syntactic grammar', kind=\"bar\",  height=4, data=data, palette=\"colorblind\", legend=False)\n",
    "plt.ylabel('Learner time', fontsize=fontsize)\n",
    "plt.xlabel('Dataset', fontsize=fontsize)\n",
    "plt.xticks(fontsize=labelsize)\n",
    "plt.yticks(fontsize=labelsize)\n",
    "plt.legend(loc='upper center', bbox_to_anchor=(0.5, 1.15), ncol=2, fontsize=labelsize-4, frameon=False)\n",
    "# plt.yscale('log')\n",
    "plt.tight_layout()\n",
    "\n",
    "if(save):\n",
    "    plt.savefig(\"data/output/fig/time.pdf\")\n",
    "    pass\n",
    "else:\n",
    "    plt.show()\n",
    "plt.clf()\n",
    "\n",
    "sns.catplot( x = 'dataset', y = 'time learner', hue='syntactic grammar', kind=\"bar\",  height=4, data=data, palette=\"colorblind\", legend=False)\n",
    "plt.ylabel('Learner time', fontsize=fontsize)\n",
    "plt.xlabel('Dataset', fontsize=fontsize)\n",
    "plt.xticks(fontsize=labelsize)\n",
    "plt.yticks(fontsize=labelsize)\n",
    "plt.legend(loc='upper center', bbox_to_anchor=(0.5, 1.15), ncol=2, fontsize=labelsize-4, frameon=False)\n",
    "# plt.yscale('log')\n",
    "plt.tight_layout()\n",
    "\n",
    "if(save):\n",
    "    plt.savefig(\"data/output/fig/time.pdf\")\n",
    "    pass\n",
    "else:\n",
    "    plt.show()\n",
    "plt.clf()\n",
    "\n",
    "sns.catplot( x = 'dataset', y = 'explanation size', hue='syntactic grammar', kind=\"bar\",  height=4, data=data, palette=\"colorblind\", legend=False)\n",
    "plt.ylabel('Explanation size', fontsize=fontsize)\n",
    "plt.xlabel('Dataset', fontsize=fontsize)\n",
    "plt.xticks(fontsize=labelsize)\n",
    "plt.yticks(fontsize=labelsize)\n",
    "plt.legend(loc='upper center', bbox_to_anchor=(0.5, 1.15), ncol=2, fontsize=labelsize-4, frameon=False)\n",
    "plt.yscale('log')\n",
    "plt.tight_layout()\n",
    "\n",
    "if(save):\n",
    "    plt.savefig(\"data/output/fig/size.pdf\")\n",
    "    pass\n",
    "else:\n",
    "    plt.show()\n",
    "plt.clf()\n",
    "\n"
   ]
  },
  {
   "cell_type": "code",
   "execution_count": null,
   "metadata": {},
   "outputs": [],
   "source": []
  }
 ]
}